{
 "cells": [
  {
   "cell_type": "markdown",
   "id": "e6d5e77c",
   "metadata": {},
   "source": [
    "# Airline price predictions"
   ]
  },
  {
   "cell_type": "code",
   "execution_count": 2,
   "id": "8b671670",
   "metadata": {},
   "outputs": [
    {
     "name": "stdout",
     "output_type": "stream",
     "text": [
      "Requirement already satisfied: seaborn in /Users/amitsahani/anaconda3/lib/python3.10/site-packages (0.12.2)\n",
      "Requirement already satisfied: matplotlib!=3.6.1,>=3.1 in /Users/amitsahani/anaconda3/lib/python3.10/site-packages (from seaborn) (3.7.0)\n",
      "Requirement already satisfied: numpy!=1.24.0,>=1.17 in /Users/amitsahani/anaconda3/lib/python3.10/site-packages (from seaborn) (1.23.5)\n",
      "Requirement already satisfied: pandas>=0.25 in /Users/amitsahani/anaconda3/lib/python3.10/site-packages (from seaborn) (1.5.3)\n",
      "Requirement already satisfied: packaging>=20.0 in /Users/amitsahani/anaconda3/lib/python3.10/site-packages (from matplotlib!=3.6.1,>=3.1->seaborn) (22.0)\n",
      "Requirement already satisfied: pillow>=6.2.0 in /Users/amitsahani/anaconda3/lib/python3.10/site-packages (from matplotlib!=3.6.1,>=3.1->seaborn) (9.4.0)\n",
      "Requirement already satisfied: fonttools>=4.22.0 in /Users/amitsahani/anaconda3/lib/python3.10/site-packages (from matplotlib!=3.6.1,>=3.1->seaborn) (4.25.0)\n",
      "Requirement already satisfied: cycler>=0.10 in /Users/amitsahani/anaconda3/lib/python3.10/site-packages (from matplotlib!=3.6.1,>=3.1->seaborn) (0.11.0)\n",
      "Requirement already satisfied: pyparsing>=2.3.1 in /Users/amitsahani/anaconda3/lib/python3.10/site-packages (from matplotlib!=3.6.1,>=3.1->seaborn) (3.0.9)\n",
      "Requirement already satisfied: python-dateutil>=2.7 in /Users/amitsahani/anaconda3/lib/python3.10/site-packages (from matplotlib!=3.6.1,>=3.1->seaborn) (2.8.2)\n",
      "Requirement already satisfied: contourpy>=1.0.1 in /Users/amitsahani/anaconda3/lib/python3.10/site-packages (from matplotlib!=3.6.1,>=3.1->seaborn) (1.0.5)\n",
      "Requirement already satisfied: kiwisolver>=1.0.1 in /Users/amitsahani/anaconda3/lib/python3.10/site-packages (from matplotlib!=3.6.1,>=3.1->seaborn) (1.4.4)\n",
      "Requirement already satisfied: pytz>=2020.1 in /Users/amitsahani/anaconda3/lib/python3.10/site-packages (from pandas>=0.25->seaborn) (2022.7)\n",
      "Requirement already satisfied: six>=1.5 in /Users/amitsahani/anaconda3/lib/python3.10/site-packages (from python-dateutil>=2.7->matplotlib!=3.6.1,>=3.1->seaborn) (1.16.0)\n",
      "Note: you may need to restart the kernel to use updated packages.\n"
     ]
    }
   ],
   "source": [
    "pip install seaborn"
   ]
  },
  {
   "cell_type": "markdown",
   "id": "76d1f404",
   "metadata": {},
   "source": [
    "## Import the libraries"
   ]
  },
  {
   "cell_type": "code",
   "execution_count": 3,
   "id": "55faa618",
   "metadata": {},
   "outputs": [
    {
     "name": "stdout",
     "output_type": "stream",
     "text": [
      "Requirement already satisfied: openpyxl in /Users/amitsahani/anaconda3/lib/python3.10/site-packages (3.0.10)\n",
      "Requirement already satisfied: et_xmlfile in /Users/amitsahani/anaconda3/lib/python3.10/site-packages (from openpyxl) (1.1.0)\n",
      "Note: you may need to restart the kernel to use updated packages.\n"
     ]
    }
   ],
   "source": [
    "pip install openpyxl"
   ]
  },
  {
   "cell_type": "code",
   "execution_count": 4,
   "id": "097d4793",
   "metadata": {},
   "outputs": [],
   "source": [
    "import pandas as pd\n",
    "import numpy as np\n",
    "import matplotlib.pyplot as plt\n",
    "import seaborn as sns"
   ]
  },
  {
   "cell_type": "markdown",
   "id": "ce880bdc",
   "metadata": {},
   "source": [
    "## Import the data and data exploration"
   ]
  },
  {
   "cell_type": "code",
   "execution_count": 5,
   "id": "26b878e5",
   "metadata": {},
   "outputs": [],
   "source": [
    "data = pd.read_excel('Data_Train.xlsx')"
   ]
  },
  {
   "cell_type": "code",
   "execution_count": 6,
   "id": "1e00b189",
   "metadata": {},
   "outputs": [
    {
     "data": {
      "text/html": [
       "<div>\n",
       "<style scoped>\n",
       "    .dataframe tbody tr th:only-of-type {\n",
       "        vertical-align: middle;\n",
       "    }\n",
       "\n",
       "    .dataframe tbody tr th {\n",
       "        vertical-align: top;\n",
       "    }\n",
       "\n",
       "    .dataframe thead th {\n",
       "        text-align: right;\n",
       "    }\n",
       "</style>\n",
       "<table border=\"1\" class=\"dataframe\">\n",
       "  <thead>\n",
       "    <tr style=\"text-align: right;\">\n",
       "      <th></th>\n",
       "      <th>Airline</th>\n",
       "      <th>Date_of_Journey</th>\n",
       "      <th>Source</th>\n",
       "      <th>Destination</th>\n",
       "      <th>Route</th>\n",
       "      <th>Dep_Time</th>\n",
       "      <th>Arrival_Time</th>\n",
       "      <th>Duration</th>\n",
       "      <th>Total_Stops</th>\n",
       "      <th>Additional_Info</th>\n",
       "      <th>Price</th>\n",
       "    </tr>\n",
       "  </thead>\n",
       "  <tbody>\n",
       "    <tr>\n",
       "      <th>0</th>\n",
       "      <td>IndiGo</td>\n",
       "      <td>24/03/2019</td>\n",
       "      <td>Banglore</td>\n",
       "      <td>New Delhi</td>\n",
       "      <td>BLR → DEL</td>\n",
       "      <td>22:20</td>\n",
       "      <td>01:10 22 Mar</td>\n",
       "      <td>2h 50m</td>\n",
       "      <td>non-stop</td>\n",
       "      <td>No info</td>\n",
       "      <td>3897</td>\n",
       "    </tr>\n",
       "    <tr>\n",
       "      <th>1</th>\n",
       "      <td>Air India</td>\n",
       "      <td>1/05/2019</td>\n",
       "      <td>Kolkata</td>\n",
       "      <td>Banglore</td>\n",
       "      <td>CCU → IXR → BBI → BLR</td>\n",
       "      <td>05:50</td>\n",
       "      <td>13:15</td>\n",
       "      <td>7h 25m</td>\n",
       "      <td>2 stops</td>\n",
       "      <td>No info</td>\n",
       "      <td>7662</td>\n",
       "    </tr>\n",
       "    <tr>\n",
       "      <th>2</th>\n",
       "      <td>Jet Airways</td>\n",
       "      <td>9/06/2019</td>\n",
       "      <td>Delhi</td>\n",
       "      <td>Cochin</td>\n",
       "      <td>DEL → LKO → BOM → COK</td>\n",
       "      <td>09:25</td>\n",
       "      <td>04:25 10 Jun</td>\n",
       "      <td>19h</td>\n",
       "      <td>2 stops</td>\n",
       "      <td>No info</td>\n",
       "      <td>13882</td>\n",
       "    </tr>\n",
       "    <tr>\n",
       "      <th>3</th>\n",
       "      <td>IndiGo</td>\n",
       "      <td>12/05/2019</td>\n",
       "      <td>Kolkata</td>\n",
       "      <td>Banglore</td>\n",
       "      <td>CCU → NAG → BLR</td>\n",
       "      <td>18:05</td>\n",
       "      <td>23:30</td>\n",
       "      <td>5h 25m</td>\n",
       "      <td>1 stop</td>\n",
       "      <td>No info</td>\n",
       "      <td>6218</td>\n",
       "    </tr>\n",
       "    <tr>\n",
       "      <th>4</th>\n",
       "      <td>IndiGo</td>\n",
       "      <td>01/03/2019</td>\n",
       "      <td>Banglore</td>\n",
       "      <td>New Delhi</td>\n",
       "      <td>BLR → NAG → DEL</td>\n",
       "      <td>16:50</td>\n",
       "      <td>21:35</td>\n",
       "      <td>4h 45m</td>\n",
       "      <td>1 stop</td>\n",
       "      <td>No info</td>\n",
       "      <td>13302</td>\n",
       "    </tr>\n",
       "  </tbody>\n",
       "</table>\n",
       "</div>"
      ],
      "text/plain": [
       "       Airline Date_of_Journey    Source Destination                  Route  \\\n",
       "0       IndiGo      24/03/2019  Banglore   New Delhi              BLR → DEL   \n",
       "1    Air India       1/05/2019   Kolkata    Banglore  CCU → IXR → BBI → BLR   \n",
       "2  Jet Airways       9/06/2019     Delhi      Cochin  DEL → LKO → BOM → COK   \n",
       "3       IndiGo      12/05/2019   Kolkata    Banglore        CCU → NAG → BLR   \n",
       "4       IndiGo      01/03/2019  Banglore   New Delhi        BLR → NAG → DEL   \n",
       "\n",
       "  Dep_Time  Arrival_Time Duration Total_Stops Additional_Info  Price  \n",
       "0    22:20  01:10 22 Mar   2h 50m    non-stop         No info   3897  \n",
       "1    05:50         13:15   7h 25m     2 stops         No info   7662  \n",
       "2    09:25  04:25 10 Jun      19h     2 stops         No info  13882  \n",
       "3    18:05         23:30   5h 25m      1 stop         No info   6218  \n",
       "4    16:50         21:35   4h 45m      1 stop         No info  13302  "
      ]
     },
     "execution_count": 6,
     "metadata": {},
     "output_type": "execute_result"
    }
   ],
   "source": [
    "data.head()"
   ]
  },
  {
   "cell_type": "code",
   "execution_count": 7,
   "id": "2f4b1b5f",
   "metadata": {},
   "outputs": [
    {
     "name": "stdout",
     "output_type": "stream",
     "text": [
      "<class 'pandas.core.frame.DataFrame'>\n",
      "RangeIndex: 10683 entries, 0 to 10682\n",
      "Data columns (total 11 columns):\n",
      " #   Column           Non-Null Count  Dtype \n",
      "---  ------           --------------  ----- \n",
      " 0   Airline          10683 non-null  object\n",
      " 1   Date_of_Journey  10683 non-null  object\n",
      " 2   Source           10683 non-null  object\n",
      " 3   Destination      10683 non-null  object\n",
      " 4   Route            10682 non-null  object\n",
      " 5   Dep_Time         10683 non-null  object\n",
      " 6   Arrival_Time     10683 non-null  object\n",
      " 7   Duration         10683 non-null  object\n",
      " 8   Total_Stops      10682 non-null  object\n",
      " 9   Additional_Info  10683 non-null  object\n",
      " 10  Price            10683 non-null  int64 \n",
      "dtypes: int64(1), object(10)\n",
      "memory usage: 918.2+ KB\n"
     ]
    }
   ],
   "source": [
    "data.info()"
   ]
  },
  {
   "cell_type": "code",
   "execution_count": 8,
   "id": "18981df9",
   "metadata": {},
   "outputs": [
    {
     "data": {
      "text/plain": [
       "Airline            0\n",
       "Date_of_Journey    0\n",
       "Source             0\n",
       "Destination        0\n",
       "Route              1\n",
       "Dep_Time           0\n",
       "Arrival_Time       0\n",
       "Duration           0\n",
       "Total_Stops        1\n",
       "Additional_Info    0\n",
       "Price              0\n",
       "dtype: int64"
      ]
     },
     "execution_count": 8,
     "metadata": {},
     "output_type": "execute_result"
    }
   ],
   "source": [
    "data.isnull().sum()"
   ]
  },
  {
   "cell_type": "code",
   "execution_count": 9,
   "id": "b8d3cd03",
   "metadata": {},
   "outputs": [
    {
     "data": {
      "text/plain": [
       "(10683, 11)"
      ]
     },
     "execution_count": 9,
     "metadata": {},
     "output_type": "execute_result"
    }
   ],
   "source": [
    "data.shape"
   ]
  },
  {
   "cell_type": "code",
   "execution_count": 10,
   "id": "eb5c2684",
   "metadata": {},
   "outputs": [
    {
     "data": {
      "text/html": [
       "<div>\n",
       "<style scoped>\n",
       "    .dataframe tbody tr th:only-of-type {\n",
       "        vertical-align: middle;\n",
       "    }\n",
       "\n",
       "    .dataframe tbody tr th {\n",
       "        vertical-align: top;\n",
       "    }\n",
       "\n",
       "    .dataframe thead th {\n",
       "        text-align: right;\n",
       "    }\n",
       "</style>\n",
       "<table border=\"1\" class=\"dataframe\">\n",
       "  <thead>\n",
       "    <tr style=\"text-align: right;\">\n",
       "      <th></th>\n",
       "      <th>Airline</th>\n",
       "      <th>Date_of_Journey</th>\n",
       "      <th>Source</th>\n",
       "      <th>Destination</th>\n",
       "      <th>Route</th>\n",
       "      <th>Dep_Time</th>\n",
       "      <th>Arrival_Time</th>\n",
       "      <th>Duration</th>\n",
       "      <th>Total_Stops</th>\n",
       "      <th>Additional_Info</th>\n",
       "      <th>Price</th>\n",
       "    </tr>\n",
       "  </thead>\n",
       "  <tbody>\n",
       "    <tr>\n",
       "      <th>9039</th>\n",
       "      <td>Air India</td>\n",
       "      <td>6/05/2019</td>\n",
       "      <td>Delhi</td>\n",
       "      <td>Cochin</td>\n",
       "      <td>NaN</td>\n",
       "      <td>09:45</td>\n",
       "      <td>09:25 07 May</td>\n",
       "      <td>23h 40m</td>\n",
       "      <td>NaN</td>\n",
       "      <td>No info</td>\n",
       "      <td>7480</td>\n",
       "    </tr>\n",
       "  </tbody>\n",
       "</table>\n",
       "</div>"
      ],
      "text/plain": [
       "        Airline Date_of_Journey Source Destination Route Dep_Time  \\\n",
       "9039  Air India       6/05/2019  Delhi      Cochin   NaN    09:45   \n",
       "\n",
       "      Arrival_Time Duration Total_Stops Additional_Info  Price  \n",
       "9039  09:25 07 May  23h 40m         NaN         No info   7480  "
      ]
     },
     "execution_count": 10,
     "metadata": {},
     "output_type": "execute_result"
    }
   ],
   "source": [
    "data[data['Route'].isnull()]"
   ]
  },
  {
   "cell_type": "markdown",
   "id": "4b5036b8",
   "metadata": {},
   "source": [
    "### Removing the null values"
   ]
  },
  {
   "cell_type": "code",
   "execution_count": 11,
   "id": "bc9a4102",
   "metadata": {},
   "outputs": [],
   "source": [
    "data.dropna(inplace=True)"
   ]
  },
  {
   "cell_type": "code",
   "execution_count": 12,
   "id": "4dfb87a0",
   "metadata": {},
   "outputs": [
    {
     "data": {
      "text/plain": [
       "Airline            0\n",
       "Date_of_Journey    0\n",
       "Source             0\n",
       "Destination        0\n",
       "Route              0\n",
       "Dep_Time           0\n",
       "Arrival_Time       0\n",
       "Duration           0\n",
       "Total_Stops        0\n",
       "Additional_Info    0\n",
       "Price              0\n",
       "dtype: int64"
      ]
     },
     "execution_count": 12,
     "metadata": {},
     "output_type": "execute_result"
    }
   ],
   "source": [
    "data.isnull().sum()"
   ]
  },
  {
   "cell_type": "code",
   "execution_count": 13,
   "id": "82e88b49",
   "metadata": {},
   "outputs": [],
   "source": [
    "c_data = data.copy()"
   ]
  },
  {
   "cell_type": "code",
   "execution_count": 14,
   "id": "fda62f3a",
   "metadata": {},
   "outputs": [
    {
     "data": {
      "text/html": [
       "<div>\n",
       "<style scoped>\n",
       "    .dataframe tbody tr th:only-of-type {\n",
       "        vertical-align: middle;\n",
       "    }\n",
       "\n",
       "    .dataframe tbody tr th {\n",
       "        vertical-align: top;\n",
       "    }\n",
       "\n",
       "    .dataframe thead th {\n",
       "        text-align: right;\n",
       "    }\n",
       "</style>\n",
       "<table border=\"1\" class=\"dataframe\">\n",
       "  <thead>\n",
       "    <tr style=\"text-align: right;\">\n",
       "      <th></th>\n",
       "      <th>Airline</th>\n",
       "      <th>Date_of_Journey</th>\n",
       "      <th>Source</th>\n",
       "      <th>Destination</th>\n",
       "      <th>Route</th>\n",
       "      <th>Dep_Time</th>\n",
       "      <th>Arrival_Time</th>\n",
       "      <th>Duration</th>\n",
       "      <th>Total_Stops</th>\n",
       "      <th>Additional_Info</th>\n",
       "      <th>Price</th>\n",
       "    </tr>\n",
       "  </thead>\n",
       "  <tbody>\n",
       "    <tr>\n",
       "      <th>0</th>\n",
       "      <td>IndiGo</td>\n",
       "      <td>24/03/2019</td>\n",
       "      <td>Banglore</td>\n",
       "      <td>New Delhi</td>\n",
       "      <td>BLR → DEL</td>\n",
       "      <td>22:20</td>\n",
       "      <td>01:10 22 Mar</td>\n",
       "      <td>2h 50m</td>\n",
       "      <td>non-stop</td>\n",
       "      <td>No info</td>\n",
       "      <td>3897</td>\n",
       "    </tr>\n",
       "    <tr>\n",
       "      <th>1</th>\n",
       "      <td>Air India</td>\n",
       "      <td>1/05/2019</td>\n",
       "      <td>Kolkata</td>\n",
       "      <td>Banglore</td>\n",
       "      <td>CCU → IXR → BBI → BLR</td>\n",
       "      <td>05:50</td>\n",
       "      <td>13:15</td>\n",
       "      <td>7h 25m</td>\n",
       "      <td>2 stops</td>\n",
       "      <td>No info</td>\n",
       "      <td>7662</td>\n",
       "    </tr>\n",
       "  </tbody>\n",
       "</table>\n",
       "</div>"
      ],
      "text/plain": [
       "     Airline Date_of_Journey    Source Destination                  Route  \\\n",
       "0     IndiGo      24/03/2019  Banglore   New Delhi              BLR → DEL   \n",
       "1  Air India       1/05/2019   Kolkata    Banglore  CCU → IXR → BBI → BLR   \n",
       "\n",
       "  Dep_Time  Arrival_Time Duration Total_Stops Additional_Info  Price  \n",
       "0    22:20  01:10 22 Mar   2h 50m    non-stop         No info   3897  \n",
       "1    05:50         13:15   7h 25m     2 stops         No info   7662  "
      ]
     },
     "execution_count": 14,
     "metadata": {},
     "output_type": "execute_result"
    }
   ],
   "source": [
    "data.head(2)"
   ]
  },
  {
   "cell_type": "code",
   "execution_count": 15,
   "id": "bde9aa1c",
   "metadata": {},
   "outputs": [
    {
     "data": {
      "text/plain": [
       "Airline            object\n",
       "Date_of_Journey    object\n",
       "Source             object\n",
       "Destination        object\n",
       "Route              object\n",
       "Dep_Time           object\n",
       "Arrival_Time       object\n",
       "Duration           object\n",
       "Total_Stops        object\n",
       "Additional_Info    object\n",
       "Price               int64\n",
       "dtype: object"
      ]
     },
     "execution_count": 15,
     "metadata": {},
     "output_type": "execute_result"
    }
   ],
   "source": [
    "data.dtypes"
   ]
  },
  {
   "cell_type": "code",
   "execution_count": 16,
   "id": "e5714f8c",
   "metadata": {},
   "outputs": [],
   "source": [
    "def change_into_datetime(col):\n",
    "    data[col] = pd.to_datetime(data[col])"
   ]
  },
  {
   "cell_type": "code",
   "execution_count": 17,
   "id": "cef4128f",
   "metadata": {},
   "outputs": [
    {
     "data": {
      "text/plain": [
       "Index(['Airline', 'Date_of_Journey', 'Source', 'Destination', 'Route',\n",
       "       'Dep_Time', 'Arrival_Time', 'Duration', 'Total_Stops',\n",
       "       'Additional_Info', 'Price'],\n",
       "      dtype='object')"
      ]
     },
     "execution_count": 17,
     "metadata": {},
     "output_type": "execute_result"
    }
   ],
   "source": [
    "data.columns"
   ]
  },
  {
   "cell_type": "code",
   "execution_count": 18,
   "id": "2e80d913",
   "metadata": {},
   "outputs": [
    {
     "name": "stderr",
     "output_type": "stream",
     "text": [
      "/var/folders/yh/z1154zn17c74v4p0c3d32jv80000gn/T/ipykernel_73165/1990600865.py:2: UserWarning: Parsing dates in DD/MM/YYYY format when dayfirst=False (the default) was specified. This may lead to inconsistently parsed dates! Specify a format to ensure consistent parsing.\n",
      "  data[col] = pd.to_datetime(data[col])\n"
     ]
    }
   ],
   "source": [
    "for feature in ['Date_of_Journey', 'Dep_Time', 'Arrival_Time']:\n",
    "    change_into_datetime(feature)"
   ]
  },
  {
   "cell_type": "code",
   "execution_count": 19,
   "id": "d96c434f",
   "metadata": {},
   "outputs": [
    {
     "data": {
      "text/plain": [
       "Airline                    object\n",
       "Date_of_Journey    datetime64[ns]\n",
       "Source                     object\n",
       "Destination                object\n",
       "Route                      object\n",
       "Dep_Time           datetime64[ns]\n",
       "Arrival_Time       datetime64[ns]\n",
       "Duration                   object\n",
       "Total_Stops                object\n",
       "Additional_Info            object\n",
       "Price                       int64\n",
       "dtype: object"
      ]
     },
     "execution_count": 19,
     "metadata": {},
     "output_type": "execute_result"
    }
   ],
   "source": [
    "data.dtypes"
   ]
  },
  {
   "cell_type": "code",
   "execution_count": 20,
   "id": "9030b8e5",
   "metadata": {},
   "outputs": [
    {
     "data": {
      "text/plain": [
       "Timestamp('2019-01-03 00:00:00')"
      ]
     },
     "execution_count": 20,
     "metadata": {},
     "output_type": "execute_result"
    }
   ],
   "source": [
    "data['Date_of_Journey'].min()"
   ]
  },
  {
   "cell_type": "code",
   "execution_count": 21,
   "id": "46f21837",
   "metadata": {},
   "outputs": [
    {
     "data": {
      "text/plain": [
       "Timestamp('2019-12-06 00:00:00')"
      ]
     },
     "execution_count": 21,
     "metadata": {},
     "output_type": "execute_result"
    }
   ],
   "source": [
    "data['Date_of_Journey'].max()"
   ]
  },
  {
   "cell_type": "code",
   "execution_count": 22,
   "id": "6238f4a6",
   "metadata": {},
   "outputs": [],
   "source": [
    "### Extrtacting the date, month and year from the date of journey"
   ]
  },
  {
   "cell_type": "code",
   "execution_count": 23,
   "id": "6a9ec6b9",
   "metadata": {},
   "outputs": [],
   "source": [
    "data['Journey_day'] = data['Date_of_Journey'].dt.day"
   ]
  },
  {
   "cell_type": "code",
   "execution_count": 24,
   "id": "61c0316a",
   "metadata": {},
   "outputs": [],
   "source": [
    "data['Journey_month'] = data['Date_of_Journey'].dt.month"
   ]
  },
  {
   "cell_type": "code",
   "execution_count": 25,
   "id": "7dc9e864",
   "metadata": {},
   "outputs": [],
   "source": [
    "data['Journey_year'] = data['Date_of_Journey'].dt.year"
   ]
  },
  {
   "cell_type": "code",
   "execution_count": 26,
   "id": "9e968310",
   "metadata": {},
   "outputs": [
    {
     "data": {
      "text/html": [
       "<div>\n",
       "<style scoped>\n",
       "    .dataframe tbody tr th:only-of-type {\n",
       "        vertical-align: middle;\n",
       "    }\n",
       "\n",
       "    .dataframe tbody tr th {\n",
       "        vertical-align: top;\n",
       "    }\n",
       "\n",
       "    .dataframe thead th {\n",
       "        text-align: right;\n",
       "    }\n",
       "</style>\n",
       "<table border=\"1\" class=\"dataframe\">\n",
       "  <thead>\n",
       "    <tr style=\"text-align: right;\">\n",
       "      <th></th>\n",
       "      <th>Airline</th>\n",
       "      <th>Date_of_Journey</th>\n",
       "      <th>Source</th>\n",
       "      <th>Destination</th>\n",
       "      <th>Route</th>\n",
       "      <th>Dep_Time</th>\n",
       "      <th>Arrival_Time</th>\n",
       "      <th>Duration</th>\n",
       "      <th>Total_Stops</th>\n",
       "      <th>Additional_Info</th>\n",
       "      <th>Price</th>\n",
       "      <th>Journey_day</th>\n",
       "      <th>Journey_month</th>\n",
       "      <th>Journey_year</th>\n",
       "    </tr>\n",
       "  </thead>\n",
       "  <tbody>\n",
       "    <tr>\n",
       "      <th>0</th>\n",
       "      <td>IndiGo</td>\n",
       "      <td>2019-03-24</td>\n",
       "      <td>Banglore</td>\n",
       "      <td>New Delhi</td>\n",
       "      <td>BLR → DEL</td>\n",
       "      <td>2023-04-27 22:20:00</td>\n",
       "      <td>2023-03-22 01:10:00</td>\n",
       "      <td>2h 50m</td>\n",
       "      <td>non-stop</td>\n",
       "      <td>No info</td>\n",
       "      <td>3897</td>\n",
       "      <td>24</td>\n",
       "      <td>3</td>\n",
       "      <td>2019</td>\n",
       "    </tr>\n",
       "    <tr>\n",
       "      <th>1</th>\n",
       "      <td>Air India</td>\n",
       "      <td>2019-01-05</td>\n",
       "      <td>Kolkata</td>\n",
       "      <td>Banglore</td>\n",
       "      <td>CCU → IXR → BBI → BLR</td>\n",
       "      <td>2023-04-27 05:50:00</td>\n",
       "      <td>2023-04-27 13:15:00</td>\n",
       "      <td>7h 25m</td>\n",
       "      <td>2 stops</td>\n",
       "      <td>No info</td>\n",
       "      <td>7662</td>\n",
       "      <td>5</td>\n",
       "      <td>1</td>\n",
       "      <td>2019</td>\n",
       "    </tr>\n",
       "  </tbody>\n",
       "</table>\n",
       "</div>"
      ],
      "text/plain": [
       "     Airline Date_of_Journey    Source Destination                  Route  \\\n",
       "0     IndiGo      2019-03-24  Banglore   New Delhi              BLR → DEL   \n",
       "1  Air India      2019-01-05   Kolkata    Banglore  CCU → IXR → BBI → BLR   \n",
       "\n",
       "             Dep_Time        Arrival_Time Duration Total_Stops  \\\n",
       "0 2023-04-27 22:20:00 2023-03-22 01:10:00   2h 50m    non-stop   \n",
       "1 2023-04-27 05:50:00 2023-04-27 13:15:00   7h 25m     2 stops   \n",
       "\n",
       "  Additional_Info  Price  Journey_day  Journey_month  Journey_year  \n",
       "0         No info   3897           24              3          2019  \n",
       "1         No info   7662            5              1          2019  "
      ]
     },
     "execution_count": 26,
     "metadata": {},
     "output_type": "execute_result"
    }
   ],
   "source": [
    "data.head(2)"
   ]
  },
  {
   "cell_type": "code",
   "execution_count": 27,
   "id": "e636004b",
   "metadata": {},
   "outputs": [],
   "source": [
    "data.drop('Date_of_Journey', axis = 1, inplace = True)"
   ]
  },
  {
   "cell_type": "code",
   "execution_count": 28,
   "id": "402c78ab",
   "metadata": {},
   "outputs": [
    {
     "data": {
      "text/html": [
       "<div>\n",
       "<style scoped>\n",
       "    .dataframe tbody tr th:only-of-type {\n",
       "        vertical-align: middle;\n",
       "    }\n",
       "\n",
       "    .dataframe tbody tr th {\n",
       "        vertical-align: top;\n",
       "    }\n",
       "\n",
       "    .dataframe thead th {\n",
       "        text-align: right;\n",
       "    }\n",
       "</style>\n",
       "<table border=\"1\" class=\"dataframe\">\n",
       "  <thead>\n",
       "    <tr style=\"text-align: right;\">\n",
       "      <th></th>\n",
       "      <th>Airline</th>\n",
       "      <th>Source</th>\n",
       "      <th>Destination</th>\n",
       "      <th>Route</th>\n",
       "      <th>Dep_Time</th>\n",
       "      <th>Arrival_Time</th>\n",
       "      <th>Duration</th>\n",
       "      <th>Total_Stops</th>\n",
       "      <th>Additional_Info</th>\n",
       "      <th>Price</th>\n",
       "      <th>Journey_day</th>\n",
       "      <th>Journey_month</th>\n",
       "      <th>Journey_year</th>\n",
       "    </tr>\n",
       "  </thead>\n",
       "  <tbody>\n",
       "    <tr>\n",
       "      <th>0</th>\n",
       "      <td>IndiGo</td>\n",
       "      <td>Banglore</td>\n",
       "      <td>New Delhi</td>\n",
       "      <td>BLR → DEL</td>\n",
       "      <td>2023-04-27 22:20:00</td>\n",
       "      <td>2023-03-22 01:10:00</td>\n",
       "      <td>2h 50m</td>\n",
       "      <td>non-stop</td>\n",
       "      <td>No info</td>\n",
       "      <td>3897</td>\n",
       "      <td>24</td>\n",
       "      <td>3</td>\n",
       "      <td>2019</td>\n",
       "    </tr>\n",
       "    <tr>\n",
       "      <th>1</th>\n",
       "      <td>Air India</td>\n",
       "      <td>Kolkata</td>\n",
       "      <td>Banglore</td>\n",
       "      <td>CCU → IXR → BBI → BLR</td>\n",
       "      <td>2023-04-27 05:50:00</td>\n",
       "      <td>2023-04-27 13:15:00</td>\n",
       "      <td>7h 25m</td>\n",
       "      <td>2 stops</td>\n",
       "      <td>No info</td>\n",
       "      <td>7662</td>\n",
       "      <td>5</td>\n",
       "      <td>1</td>\n",
       "      <td>2019</td>\n",
       "    </tr>\n",
       "    <tr>\n",
       "      <th>2</th>\n",
       "      <td>Jet Airways</td>\n",
       "      <td>Delhi</td>\n",
       "      <td>Cochin</td>\n",
       "      <td>DEL → LKO → BOM → COK</td>\n",
       "      <td>2023-04-27 09:25:00</td>\n",
       "      <td>2023-06-10 04:25:00</td>\n",
       "      <td>19h</td>\n",
       "      <td>2 stops</td>\n",
       "      <td>No info</td>\n",
       "      <td>13882</td>\n",
       "      <td>6</td>\n",
       "      <td>9</td>\n",
       "      <td>2019</td>\n",
       "    </tr>\n",
       "  </tbody>\n",
       "</table>\n",
       "</div>"
      ],
      "text/plain": [
       "       Airline    Source Destination                  Route  \\\n",
       "0       IndiGo  Banglore   New Delhi              BLR → DEL   \n",
       "1    Air India   Kolkata    Banglore  CCU → IXR → BBI → BLR   \n",
       "2  Jet Airways     Delhi      Cochin  DEL → LKO → BOM → COK   \n",
       "\n",
       "             Dep_Time        Arrival_Time Duration Total_Stops  \\\n",
       "0 2023-04-27 22:20:00 2023-03-22 01:10:00   2h 50m    non-stop   \n",
       "1 2023-04-27 05:50:00 2023-04-27 13:15:00   7h 25m     2 stops   \n",
       "2 2023-04-27 09:25:00 2023-06-10 04:25:00      19h     2 stops   \n",
       "\n",
       "  Additional_Info  Price  Journey_day  Journey_month  Journey_year  \n",
       "0         No info   3897           24              3          2019  \n",
       "1         No info   7662            5              1          2019  \n",
       "2         No info  13882            6              9          2019  "
      ]
     },
     "execution_count": 28,
     "metadata": {},
     "output_type": "execute_result"
    }
   ],
   "source": [
    "data.head(3)"
   ]
  },
  {
   "cell_type": "markdown",
   "id": "a8af8a23",
   "metadata": {},
   "source": [
    "### Extrtacting the time in terms of hour and minutes from Departure and arrival time"
   ]
  },
  {
   "cell_type": "code",
   "execution_count": 29,
   "id": "72a14778",
   "metadata": {},
   "outputs": [],
   "source": [
    "def extract_hour_min(df, col):\n",
    "    df[col+'_hour'] = df[col].dt.hour\n",
    "    df[col+'_minute'] = df[col].dt.minute\n",
    "    df.drop(col, axis = 1, inplace = True)\n",
    "    return df.head(2)"
   ]
  },
  {
   "cell_type": "code",
   "execution_count": 30,
   "id": "305ddeab",
   "metadata": {},
   "outputs": [
    {
     "data": {
      "text/html": [
       "<div>\n",
       "<style scoped>\n",
       "    .dataframe tbody tr th:only-of-type {\n",
       "        vertical-align: middle;\n",
       "    }\n",
       "\n",
       "    .dataframe tbody tr th {\n",
       "        vertical-align: top;\n",
       "    }\n",
       "\n",
       "    .dataframe thead th {\n",
       "        text-align: right;\n",
       "    }\n",
       "</style>\n",
       "<table border=\"1\" class=\"dataframe\">\n",
       "  <thead>\n",
       "    <tr style=\"text-align: right;\">\n",
       "      <th></th>\n",
       "      <th>Airline</th>\n",
       "      <th>Source</th>\n",
       "      <th>Destination</th>\n",
       "      <th>Route</th>\n",
       "      <th>Arrival_Time</th>\n",
       "      <th>Duration</th>\n",
       "      <th>Total_Stops</th>\n",
       "      <th>Additional_Info</th>\n",
       "      <th>Price</th>\n",
       "      <th>Journey_day</th>\n",
       "      <th>Journey_month</th>\n",
       "      <th>Journey_year</th>\n",
       "      <th>Dep_Time_hour</th>\n",
       "      <th>Dep_Time_minute</th>\n",
       "    </tr>\n",
       "  </thead>\n",
       "  <tbody>\n",
       "    <tr>\n",
       "      <th>0</th>\n",
       "      <td>IndiGo</td>\n",
       "      <td>Banglore</td>\n",
       "      <td>New Delhi</td>\n",
       "      <td>BLR → DEL</td>\n",
       "      <td>2023-03-22 01:10:00</td>\n",
       "      <td>2h 50m</td>\n",
       "      <td>non-stop</td>\n",
       "      <td>No info</td>\n",
       "      <td>3897</td>\n",
       "      <td>24</td>\n",
       "      <td>3</td>\n",
       "      <td>2019</td>\n",
       "      <td>22</td>\n",
       "      <td>20</td>\n",
       "    </tr>\n",
       "    <tr>\n",
       "      <th>1</th>\n",
       "      <td>Air India</td>\n",
       "      <td>Kolkata</td>\n",
       "      <td>Banglore</td>\n",
       "      <td>CCU → IXR → BBI → BLR</td>\n",
       "      <td>2023-04-27 13:15:00</td>\n",
       "      <td>7h 25m</td>\n",
       "      <td>2 stops</td>\n",
       "      <td>No info</td>\n",
       "      <td>7662</td>\n",
       "      <td>5</td>\n",
       "      <td>1</td>\n",
       "      <td>2019</td>\n",
       "      <td>5</td>\n",
       "      <td>50</td>\n",
       "    </tr>\n",
       "  </tbody>\n",
       "</table>\n",
       "</div>"
      ],
      "text/plain": [
       "     Airline    Source Destination                  Route        Arrival_Time  \\\n",
       "0     IndiGo  Banglore   New Delhi              BLR → DEL 2023-03-22 01:10:00   \n",
       "1  Air India   Kolkata    Banglore  CCU → IXR → BBI → BLR 2023-04-27 13:15:00   \n",
       "\n",
       "  Duration Total_Stops Additional_Info  Price  Journey_day  Journey_month  \\\n",
       "0   2h 50m    non-stop         No info   3897           24              3   \n",
       "1   7h 25m     2 stops         No info   7662            5              1   \n",
       "\n",
       "   Journey_year  Dep_Time_hour  Dep_Time_minute  \n",
       "0          2019             22               20  \n",
       "1          2019              5               50  "
      ]
     },
     "execution_count": 30,
     "metadata": {},
     "output_type": "execute_result"
    }
   ],
   "source": [
    "extract_hour_min(data, 'Dep_Time')"
   ]
  },
  {
   "cell_type": "code",
   "execution_count": 31,
   "id": "f8dd3c37",
   "metadata": {},
   "outputs": [
    {
     "data": {
      "text/html": [
       "<div>\n",
       "<style scoped>\n",
       "    .dataframe tbody tr th:only-of-type {\n",
       "        vertical-align: middle;\n",
       "    }\n",
       "\n",
       "    .dataframe tbody tr th {\n",
       "        vertical-align: top;\n",
       "    }\n",
       "\n",
       "    .dataframe thead th {\n",
       "        text-align: right;\n",
       "    }\n",
       "</style>\n",
       "<table border=\"1\" class=\"dataframe\">\n",
       "  <thead>\n",
       "    <tr style=\"text-align: right;\">\n",
       "      <th></th>\n",
       "      <th>Airline</th>\n",
       "      <th>Source</th>\n",
       "      <th>Destination</th>\n",
       "      <th>Route</th>\n",
       "      <th>Duration</th>\n",
       "      <th>Total_Stops</th>\n",
       "      <th>Additional_Info</th>\n",
       "      <th>Price</th>\n",
       "      <th>Journey_day</th>\n",
       "      <th>Journey_month</th>\n",
       "      <th>Journey_year</th>\n",
       "      <th>Dep_Time_hour</th>\n",
       "      <th>Dep_Time_minute</th>\n",
       "      <th>Arrival_Time_hour</th>\n",
       "      <th>Arrival_Time_minute</th>\n",
       "    </tr>\n",
       "  </thead>\n",
       "  <tbody>\n",
       "    <tr>\n",
       "      <th>0</th>\n",
       "      <td>IndiGo</td>\n",
       "      <td>Banglore</td>\n",
       "      <td>New Delhi</td>\n",
       "      <td>BLR → DEL</td>\n",
       "      <td>2h 50m</td>\n",
       "      <td>non-stop</td>\n",
       "      <td>No info</td>\n",
       "      <td>3897</td>\n",
       "      <td>24</td>\n",
       "      <td>3</td>\n",
       "      <td>2019</td>\n",
       "      <td>22</td>\n",
       "      <td>20</td>\n",
       "      <td>1</td>\n",
       "      <td>10</td>\n",
       "    </tr>\n",
       "    <tr>\n",
       "      <th>1</th>\n",
       "      <td>Air India</td>\n",
       "      <td>Kolkata</td>\n",
       "      <td>Banglore</td>\n",
       "      <td>CCU → IXR → BBI → BLR</td>\n",
       "      <td>7h 25m</td>\n",
       "      <td>2 stops</td>\n",
       "      <td>No info</td>\n",
       "      <td>7662</td>\n",
       "      <td>5</td>\n",
       "      <td>1</td>\n",
       "      <td>2019</td>\n",
       "      <td>5</td>\n",
       "      <td>50</td>\n",
       "      <td>13</td>\n",
       "      <td>15</td>\n",
       "    </tr>\n",
       "  </tbody>\n",
       "</table>\n",
       "</div>"
      ],
      "text/plain": [
       "     Airline    Source Destination                  Route Duration  \\\n",
       "0     IndiGo  Banglore   New Delhi              BLR → DEL   2h 50m   \n",
       "1  Air India   Kolkata    Banglore  CCU → IXR → BBI → BLR   7h 25m   \n",
       "\n",
       "  Total_Stops Additional_Info  Price  Journey_day  Journey_month  \\\n",
       "0    non-stop         No info   3897           24              3   \n",
       "1     2 stops         No info   7662            5              1   \n",
       "\n",
       "   Journey_year  Dep_Time_hour  Dep_Time_minute  Arrival_Time_hour  \\\n",
       "0          2019             22               20                  1   \n",
       "1          2019              5               50                 13   \n",
       "\n",
       "   Arrival_Time_minute  \n",
       "0                   10  \n",
       "1                   15  "
      ]
     },
     "execution_count": 31,
     "metadata": {},
     "output_type": "execute_result"
    }
   ],
   "source": [
    "extract_hour_min(data, 'Arrival_Time')"
   ]
  },
  {
   "cell_type": "markdown",
   "id": "dc38de50",
   "metadata": {},
   "source": [
    "### Performing data analysis"
   ]
  },
  {
   "cell_type": "code",
   "execution_count": 32,
   "id": "187c66ed",
   "metadata": {},
   "outputs": [],
   "source": [
    "### When will most of the flights will take off"
   ]
  },
  {
   "cell_type": "code",
   "execution_count": 33,
   "id": "3aa28c9a",
   "metadata": {},
   "outputs": [],
   "source": [
    "def flight_dep_time(x):\n",
    "    \n",
    "    if (x>4) and (x<=8):\n",
    "        return 'Early Morning'\n",
    "    elif (x>8) and (x<=12):\n",
    "        return 'Morning'\n",
    "    elif (x>12) and (x<=16):\n",
    "        return 'Noon'\n",
    "    elif (x>16) and (x<=20):\n",
    "        return 'Evening'\n",
    "    elif (x>20) and (x<=24):\n",
    "        return 'Night'\n",
    "    else:\n",
    "        return 'Late Night'"
   ]
  },
  {
   "cell_type": "code",
   "execution_count": 34,
   "id": "3905a750",
   "metadata": {},
   "outputs": [],
   "source": [
    "flight_count = data['Dep_Time_hour'].apply(flight_dep_time).value_counts()"
   ]
  },
  {
   "cell_type": "code",
   "execution_count": 35,
   "id": "b43c1f2f",
   "metadata": {},
   "outputs": [
    {
     "data": {
      "text/plain": [
       "Early Morning    2880\n",
       "Evening          2357\n",
       "Morning          2209\n",
       "Noon             1731\n",
       "Night            1040\n",
       "Late Night        465\n",
       "Name: Dep_Time_hour, dtype: int64"
      ]
     },
     "execution_count": 35,
     "metadata": {},
     "output_type": "execute_result"
    }
   ],
   "source": [
    "flight_count"
   ]
  },
  {
   "cell_type": "code",
   "execution_count": 36,
   "id": "d13f2fed",
   "metadata": {},
   "outputs": [
    {
     "data": {
      "text/plain": [
       "<Axes: >"
      ]
     },
     "execution_count": 36,
     "metadata": {},
     "output_type": "execute_result"
    },
    {
     "data": {
      "image/png": "[encoded data removed]",
      "text/plain": [
       "<Figure size 640x480 with 1 Axes>"
      ]
     },
     "metadata": {},
     "output_type": "display_data"
    }
   ],
   "source": [
    "flight_count.plot(kind = 'bar')"
   ]
  },
  {
   "cell_type": "markdown",
   "id": "7c655d9e",
   "metadata": {},
   "source": [
    "### Install plotly for better visualisation"
   ]
  },
  {
   "cell_type": "code",
   "execution_count": 37,
   "id": "8d3d31b8",
   "metadata": {},
   "outputs": [
    {
     "name": "stdout",
     "output_type": "stream",
     "text": [
      "Requirement already satisfied: plotly in /Users/amitsahani/anaconda3/lib/python3.10/site-packages (5.9.0)\n",
      "Requirement already satisfied: tenacity>=6.2.0 in /Users/amitsahani/anaconda3/lib/python3.10/site-packages (from plotly) (8.0.1)\n",
      "Note: you may need to restart the kernel to use updated packages.\n"
     ]
    }
   ],
   "source": [
    "pip install plotly"
   ]
  },
  {
   "cell_type": "code",
   "execution_count": 38,
   "id": "42f5efd9",
   "metadata": {},
   "outputs": [
    {
     "name": "stdout",
     "output_type": "stream",
     "text": [
      "Requirement already satisfied: cufflinks in /Users/amitsahani/anaconda3/lib/python3.10/site-packages (0.17.3)\n",
      "Requirement already satisfied: setuptools>=34.4.1 in /Users/amitsahani/anaconda3/lib/python3.10/site-packages (from cufflinks) (65.6.3)\n",
      "Requirement already satisfied: colorlover>=0.2.1 in /Users/amitsahani/anaconda3/lib/python3.10/site-packages (from cufflinks) (0.3.0)\n",
      "Requirement already satisfied: plotly>=4.1.1 in /Users/amitsahani/anaconda3/lib/python3.10/site-packages (from cufflinks) (5.9.0)\n",
      "Requirement already satisfied: ipython>=5.3.0 in /Users/amitsahani/anaconda3/lib/python3.10/site-packages (from cufflinks) (8.10.0)\n",
      "Requirement already satisfied: six>=1.9.0 in /Users/amitsahani/anaconda3/lib/python3.10/site-packages (from cufflinks) (1.16.0)\n",
      "Requirement already satisfied: ipywidgets>=7.0.0 in /Users/amitsahani/anaconda3/lib/python3.10/site-packages (from cufflinks) (7.6.5)\n",
      "Requirement already satisfied: pandas>=0.19.2 in /Users/amitsahani/anaconda3/lib/python3.10/site-packages (from cufflinks) (1.5.3)\n",
      "Requirement already satisfied: numpy>=1.9.2 in /Users/amitsahani/anaconda3/lib/python3.10/site-packages (from cufflinks) (1.23.5)\n",
      "Requirement already satisfied: prompt-toolkit<3.1.0,>=3.0.30 in /Users/amitsahani/anaconda3/lib/python3.10/site-packages (from ipython>=5.3.0->cufflinks) (3.0.36)\n",
      "Requirement already satisfied: pygments>=2.4.0 in /Users/amitsahani/anaconda3/lib/python3.10/site-packages (from ipython>=5.3.0->cufflinks) (2.11.2)\n",
      "Requirement already satisfied: jedi>=0.16 in /Users/amitsahani/anaconda3/lib/python3.10/site-packages (from ipython>=5.3.0->cufflinks) (0.18.1)\n",
      "Requirement already satisfied: traitlets>=5 in /Users/amitsahani/anaconda3/lib/python3.10/site-packages (from ipython>=5.3.0->cufflinks) (5.7.1)\n",
      "Requirement already satisfied: decorator in /Users/amitsahani/anaconda3/lib/python3.10/site-packages (from ipython>=5.3.0->cufflinks) (5.1.1)\n",
      "Requirement already satisfied: appnope in /Users/amitsahani/anaconda3/lib/python3.10/site-packages (from ipython>=5.3.0->cufflinks) (0.1.2)\n",
      "Requirement already satisfied: stack-data in /Users/amitsahani/anaconda3/lib/python3.10/site-packages (from ipython>=5.3.0->cufflinks) (0.2.0)\n",
      "Requirement already satisfied: matplotlib-inline in /Users/amitsahani/anaconda3/lib/python3.10/site-packages (from ipython>=5.3.0->cufflinks) (0.1.6)\n",
      "Requirement already satisfied: pickleshare in /Users/amitsahani/anaconda3/lib/python3.10/site-packages (from ipython>=5.3.0->cufflinks) (0.7.5)\n",
      "Requirement already satisfied: pexpect>4.3 in /Users/amitsahani/anaconda3/lib/python3.10/site-packages (from ipython>=5.3.0->cufflinks) (4.8.0)\n",
      "Requirement already satisfied: backcall in /Users/amitsahani/anaconda3/lib/python3.10/site-packages (from ipython>=5.3.0->cufflinks) (0.2.0)\n",
      "Requirement already satisfied: ipython-genutils~=0.2.0 in /Users/amitsahani/anaconda3/lib/python3.10/site-packages (from ipywidgets>=7.0.0->cufflinks) (0.2.0)\n",
      "Requirement already satisfied: ipykernel>=4.5.1 in /Users/amitsahani/anaconda3/lib/python3.10/site-packages (from ipywidgets>=7.0.0->cufflinks) (6.19.2)\n",
      "Requirement already satisfied: jupyterlab-widgets>=1.0.0 in /Users/amitsahani/anaconda3/lib/python3.10/site-packages (from ipywidgets>=7.0.0->cufflinks) (1.0.0)\n",
      "Requirement already satisfied: nbformat>=4.2.0 in /Users/amitsahani/anaconda3/lib/python3.10/site-packages (from ipywidgets>=7.0.0->cufflinks) (5.7.0)\n",
      "Requirement already satisfied: widgetsnbextension~=3.5.0 in /Users/amitsahani/anaconda3/lib/python3.10/site-packages (from ipywidgets>=7.0.0->cufflinks) (3.5.2)\n",
      "Requirement already satisfied: python-dateutil>=2.8.1 in /Users/amitsahani/anaconda3/lib/python3.10/site-packages (from pandas>=0.19.2->cufflinks) (2.8.2)\n",
      "Requirement already satisfied: pytz>=2020.1 in /Users/amitsahani/anaconda3/lib/python3.10/site-packages (from pandas>=0.19.2->cufflinks) (2022.7)\n",
      "Requirement already satisfied: tenacity>=6.2.0 in /Users/amitsahani/anaconda3/lib/python3.10/site-packages (from plotly>=4.1.1->cufflinks) (8.0.1)\n",
      "Requirement already satisfied: pyzmq>=17 in /Users/amitsahani/anaconda3/lib/python3.10/site-packages (from ipykernel>=4.5.1->ipywidgets>=7.0.0->cufflinks) (23.2.0)\n",
      "Requirement already satisfied: jupyter-client>=6.1.12 in /Users/amitsahani/anaconda3/lib/python3.10/site-packages (from ipykernel>=4.5.1->ipywidgets>=7.0.0->cufflinks) (7.3.4)\n",
      "Requirement already satisfied: packaging in /Users/amitsahani/anaconda3/lib/python3.10/site-packages (from ipykernel>=4.5.1->ipywidgets>=7.0.0->cufflinks) (22.0)\n",
      "Requirement already satisfied: psutil in /Users/amitsahani/anaconda3/lib/python3.10/site-packages (from ipykernel>=4.5.1->ipywidgets>=7.0.0->cufflinks) (5.9.0)\n",
      "Requirement already satisfied: comm>=0.1.1 in /Users/amitsahani/anaconda3/lib/python3.10/site-packages (from ipykernel>=4.5.1->ipywidgets>=7.0.0->cufflinks) (0.1.2)\n",
      "Requirement already satisfied: debugpy>=1.0 in /Users/amitsahani/anaconda3/lib/python3.10/site-packages (from ipykernel>=4.5.1->ipywidgets>=7.0.0->cufflinks) (1.5.1)\n",
      "Requirement already satisfied: nest-asyncio in /Users/amitsahani/anaconda3/lib/python3.10/site-packages (from ipykernel>=4.5.1->ipywidgets>=7.0.0->cufflinks) (1.5.6)\n",
      "Requirement already satisfied: tornado>=6.1 in /Users/amitsahani/anaconda3/lib/python3.10/site-packages (from ipykernel>=4.5.1->ipywidgets>=7.0.0->cufflinks) (6.1)\n",
      "Requirement already satisfied: parso<0.9.0,>=0.8.0 in /Users/amitsahani/anaconda3/lib/python3.10/site-packages (from jedi>=0.16->ipython>=5.3.0->cufflinks) (0.8.3)\n",
      "Requirement already satisfied: fastjsonschema in /Users/amitsahani/anaconda3/lib/python3.10/site-packages (from nbformat>=4.2.0->ipywidgets>=7.0.0->cufflinks) (2.16.2)\n",
      "Requirement already satisfied: jupyter-core in /Users/amitsahani/anaconda3/lib/python3.10/site-packages (from nbformat>=4.2.0->ipywidgets>=7.0.0->cufflinks) (5.2.0)\n",
      "Requirement already satisfied: jsonschema>=2.6 in /Users/amitsahani/anaconda3/lib/python3.10/site-packages (from nbformat>=4.2.0->ipywidgets>=7.0.0->cufflinks) (4.17.3)\n",
      "Requirement already satisfied: ptyprocess>=0.5 in /Users/amitsahani/anaconda3/lib/python3.10/site-packages (from pexpect>4.3->ipython>=5.3.0->cufflinks) (0.7.0)\n",
      "Requirement already satisfied: wcwidth in /Users/amitsahani/anaconda3/lib/python3.10/site-packages (from prompt-toolkit<3.1.0,>=3.0.30->ipython>=5.3.0->cufflinks) (0.2.5)\n",
      "Requirement already satisfied: notebook>=4.4.1 in /Users/amitsahani/anaconda3/lib/python3.10/site-packages (from widgetsnbextension~=3.5.0->ipywidgets>=7.0.0->cufflinks) (6.5.2)\n",
      "Requirement already satisfied: executing in /Users/amitsahani/anaconda3/lib/python3.10/site-packages (from stack-data->ipython>=5.3.0->cufflinks) (0.8.3)\n",
      "Requirement already satisfied: asttokens in /Users/amitsahani/anaconda3/lib/python3.10/site-packages (from stack-data->ipython>=5.3.0->cufflinks) (2.0.5)\n",
      "Requirement already satisfied: pure-eval in /Users/amitsahani/anaconda3/lib/python3.10/site-packages (from stack-data->ipython>=5.3.0->cufflinks) (0.2.2)\n",
      "Requirement already satisfied: pyrsistent!=0.17.0,!=0.17.1,!=0.17.2,>=0.14.0 in /Users/amitsahani/anaconda3/lib/python3.10/site-packages (from jsonschema>=2.6->nbformat>=4.2.0->ipywidgets>=7.0.0->cufflinks) (0.18.0)\n",
      "Requirement already satisfied: attrs>=17.4.0 in /Users/amitsahani/anaconda3/lib/python3.10/site-packages (from jsonschema>=2.6->nbformat>=4.2.0->ipywidgets>=7.0.0->cufflinks) (22.1.0)\n",
      "Requirement already satisfied: entrypoints in /Users/amitsahani/anaconda3/lib/python3.10/site-packages (from jupyter-client>=6.1.12->ipykernel>=4.5.1->ipywidgets>=7.0.0->cufflinks) (0.4)\n",
      "Requirement already satisfied: platformdirs>=2.5 in /Users/amitsahani/anaconda3/lib/python3.10/site-packages (from jupyter-core->nbformat>=4.2.0->ipywidgets>=7.0.0->cufflinks) (2.5.2)\n",
      "Requirement already satisfied: jinja2 in /Users/amitsahani/anaconda3/lib/python3.10/site-packages (from notebook>=4.4.1->widgetsnbextension~=3.5.0->ipywidgets>=7.0.0->cufflinks) (3.1.2)\n",
      "Requirement already satisfied: prometheus-client in /Users/amitsahani/anaconda3/lib/python3.10/site-packages (from notebook>=4.4.1->widgetsnbextension~=3.5.0->ipywidgets>=7.0.0->cufflinks) (0.14.1)\n",
      "Requirement already satisfied: nbclassic>=0.4.7 in /Users/amitsahani/anaconda3/lib/python3.10/site-packages (from notebook>=4.4.1->widgetsnbextension~=3.5.0->ipywidgets>=7.0.0->cufflinks) (0.5.2)\n",
      "Requirement already satisfied: Send2Trash>=1.8.0 in /Users/amitsahani/anaconda3/lib/python3.10/site-packages (from notebook>=4.4.1->widgetsnbextension~=3.5.0->ipywidgets>=7.0.0->cufflinks) (1.8.0)\n",
      "Requirement already satisfied: terminado>=0.8.3 in /Users/amitsahani/anaconda3/lib/python3.10/site-packages (from notebook>=4.4.1->widgetsnbextension~=3.5.0->ipywidgets>=7.0.0->cufflinks) (0.17.1)\n",
      "Requirement already satisfied: nbconvert>=5 in /Users/amitsahani/anaconda3/lib/python3.10/site-packages (from notebook>=4.4.1->widgetsnbextension~=3.5.0->ipywidgets>=7.0.0->cufflinks) (6.5.4)\n",
      "Requirement already satisfied: argon2-cffi in /Users/amitsahani/anaconda3/lib/python3.10/site-packages (from notebook>=4.4.1->widgetsnbextension~=3.5.0->ipywidgets>=7.0.0->cufflinks) (21.3.0)\n",
      "Requirement already satisfied: jupyter-server>=1.8 in /Users/amitsahani/anaconda3/lib/python3.10/site-packages (from nbclassic>=0.4.7->notebook>=4.4.1->widgetsnbextension~=3.5.0->ipywidgets>=7.0.0->cufflinks) (1.23.4)\n",
      "Requirement already satisfied: notebook-shim>=0.1.0 in /Users/amitsahani/anaconda3/lib/python3.10/site-packages (from nbclassic>=0.4.7->notebook>=4.4.1->widgetsnbextension~=3.5.0->ipywidgets>=7.0.0->cufflinks) (0.2.2)\n",
      "Requirement already satisfied: lxml in /Users/amitsahani/anaconda3/lib/python3.10/site-packages (from nbconvert>=5->notebook>=4.4.1->widgetsnbextension~=3.5.0->ipywidgets>=7.0.0->cufflinks) (4.9.1)\n",
      "Requirement already satisfied: defusedxml in /Users/amitsahani/anaconda3/lib/python3.10/site-packages (from nbconvert>=5->notebook>=4.4.1->widgetsnbextension~=3.5.0->ipywidgets>=7.0.0->cufflinks) (0.7.1)\n",
      "Requirement already satisfied: tinycss2 in /Users/amitsahani/anaconda3/lib/python3.10/site-packages (from nbconvert>=5->notebook>=4.4.1->widgetsnbextension~=3.5.0->ipywidgets>=7.0.0->cufflinks) (1.2.1)\n",
      "Requirement already satisfied: pandocfilters>=1.4.1 in /Users/amitsahani/anaconda3/lib/python3.10/site-packages (from nbconvert>=5->notebook>=4.4.1->widgetsnbextension~=3.5.0->ipywidgets>=7.0.0->cufflinks) (1.5.0)\n",
      "Requirement already satisfied: beautifulsoup4 in /Users/amitsahani/anaconda3/lib/python3.10/site-packages (from nbconvert>=5->notebook>=4.4.1->widgetsnbextension~=3.5.0->ipywidgets>=7.0.0->cufflinks) (4.11.1)\n",
      "Requirement already satisfied: MarkupSafe>=2.0 in /Users/amitsahani/anaconda3/lib/python3.10/site-packages (from nbconvert>=5->notebook>=4.4.1->widgetsnbextension~=3.5.0->ipywidgets>=7.0.0->cufflinks) (2.1.1)\n",
      "Requirement already satisfied: nbclient>=0.5.0 in /Users/amitsahani/anaconda3/lib/python3.10/site-packages (from nbconvert>=5->notebook>=4.4.1->widgetsnbextension~=3.5.0->ipywidgets>=7.0.0->cufflinks) (0.5.13)\n",
      "Requirement already satisfied: bleach in /Users/amitsahani/anaconda3/lib/python3.10/site-packages (from nbconvert>=5->notebook>=4.4.1->widgetsnbextension~=3.5.0->ipywidgets>=7.0.0->cufflinks) (4.1.0)\n",
      "Requirement already satisfied: mistune<2,>=0.8.1 in /Users/amitsahani/anaconda3/lib/python3.10/site-packages (from nbconvert>=5->notebook>=4.4.1->widgetsnbextension~=3.5.0->ipywidgets>=7.0.0->cufflinks) (0.8.4)\n",
      "Requirement already satisfied: jupyterlab-pygments in /Users/amitsahani/anaconda3/lib/python3.10/site-packages (from nbconvert>=5->notebook>=4.4.1->widgetsnbextension~=3.5.0->ipywidgets>=7.0.0->cufflinks) (0.1.2)\n",
      "Requirement already satisfied: argon2-cffi-bindings in /Users/amitsahani/anaconda3/lib/python3.10/site-packages (from argon2-cffi->notebook>=4.4.1->widgetsnbextension~=3.5.0->ipywidgets>=7.0.0->cufflinks) (21.2.0)\n",
      "Requirement already satisfied: websocket-client in /Users/amitsahani/anaconda3/lib/python3.10/site-packages (from jupyter-server>=1.8->nbclassic>=0.4.7->notebook>=4.4.1->widgetsnbextension~=3.5.0->ipywidgets>=7.0.0->cufflinks) (0.58.0)\n",
      "Requirement already satisfied: anyio<4,>=3.1.0 in /Users/amitsahani/anaconda3/lib/python3.10/site-packages (from jupyter-server>=1.8->nbclassic>=0.4.7->notebook>=4.4.1->widgetsnbextension~=3.5.0->ipywidgets>=7.0.0->cufflinks) (3.5.0)\n",
      "Requirement already satisfied: cffi>=1.0.1 in /Users/amitsahani/anaconda3/lib/python3.10/site-packages (from argon2-cffi-bindings->argon2-cffi->notebook>=4.4.1->widgetsnbextension~=3.5.0->ipywidgets>=7.0.0->cufflinks) (1.15.1)\n",
      "Requirement already satisfied: soupsieve>1.2 in /Users/amitsahani/anaconda3/lib/python3.10/site-packages (from beautifulsoup4->nbconvert>=5->notebook>=4.4.1->widgetsnbextension~=3.5.0->ipywidgets>=7.0.0->cufflinks) (2.3.2.post1)\n",
      "Requirement already satisfied: webencodings in /Users/amitsahani/anaconda3/lib/python3.10/site-packages (from bleach->nbconvert>=5->notebook>=4.4.1->widgetsnbextension~=3.5.0->ipywidgets>=7.0.0->cufflinks) (0.5.1)\n",
      "Requirement already satisfied: idna>=2.8 in /Users/amitsahani/anaconda3/lib/python3.10/site-packages (from anyio<4,>=3.1.0->jupyter-server>=1.8->nbclassic>=0.4.7->notebook>=4.4.1->widgetsnbextension~=3.5.0->ipywidgets>=7.0.0->cufflinks) (3.4)\n",
      "Requirement already satisfied: sniffio>=1.1 in /Users/amitsahani/anaconda3/lib/python3.10/site-packages (from anyio<4,>=3.1.0->jupyter-server>=1.8->nbclassic>=0.4.7->notebook>=4.4.1->widgetsnbextension~=3.5.0->ipywidgets>=7.0.0->cufflinks) (1.2.0)\n",
      "Requirement already satisfied: pycparser in /Users/amitsahani/anaconda3/lib/python3.10/site-packages (from cffi>=1.0.1->argon2-cffi-bindings->argon2-cffi->notebook>=4.4.1->widgetsnbextension~=3.5.0->ipywidgets>=7.0.0->cufflinks) (2.21)\n",
      "Note: you may need to restart the kernel to use updated packages.\n"
     ]
    }
   ],
   "source": [
    "\n",
    "pip install cufflinks"
   ]
  },
  {
   "cell_type": "code",
   "execution_count": 39,
   "id": "7cf620f6",
   "metadata": {},
   "outputs": [],
   "source": [
    "import plotly\n",
    "import cufflinks as cf\n",
    "from cufflinks.offline import go_offline\n",
    "from plotly.offline import download_plotlyjs, init_notebook_mode, plot, iplot"
   ]
  },
  {
   "cell_type": "code",
   "execution_count": 40,
   "id": "9bae0a33",
   "metadata": {},
   "outputs": [
    {
     "data": {
      "text/html": [
       "        <script type=\"text/javascript\">\n",
       "        window.PlotlyConfig = {MathJaxConfig: 'local'};\n",
       "        if (window.MathJax && window.MathJax.Hub && window.MathJax.Hub.Config) {window.MathJax.Hub.Config({SVG: {font: \"STIX-Web\"}});}\n",
       "        if (typeof require !== 'undefined') {\n",
       "        require.undef(\"plotly\");\n",
       "        requirejs.config({\n",
       "            paths: {\n",
       "                'plotly': ['https://cdn.plot.ly/plotly-2.12.1.min']\n",
       "            }\n",
       "        });\n",
       "        require(['plotly'], function(Plotly) {\n",
       "            window._Plotly = Plotly;\n",
       "        });\n",
       "        }\n",
       "        </script>\n",
       "        "
      ]
     },
     "metadata": {},
     "output_type": "display_data"
    }
   ],
   "source": [
    "cf.go_offline()"
   ]
  },
  {
   "cell_type": "code",
   "execution_count": 41,
   "id": "06930af9",
   "metadata": {},
   "outputs": [
    {
     "data": {
      "application/vnd.plotly.v1+json": {
       "config": {
        "linkText": "Export to plot.ly",
        "plotlyServerURL": "https://plot.ly",
        "showLink": true
       },
       "data": [
        {
         "marker": {
          "color": "rgba(255, 153, 51, 0.6)",
          "line": {
           "color": "rgba(255, 153, 51, 1.0)",
           "width": 1
          }
         },
         "name": "Dep_Time_hour",
         "orientation": "v",
         "text": "",
         "type": "bar",
         "x": [
          "Early Morning",
          "Evening",
          "Morning",
          "Noon",
          "Night",
          "Late Night"
         ],
         "y": [
          2880,
          2357,
          2209,
          1731,
          1040,
          465
         ]
        }
       ],
       "layout": {
        "legend": {
         "bgcolor": "#F5F6F9",
         "font": {
          "color": "#4D5663"
         }
        },
        "paper_bgcolor": "#F5F6F9",
        "plot_bgcolor": "#F5F6F9",
        "template": {
         "data": {
          "bar": [
           {
            "error_x": {
             "color": "#2a3f5f"
            },
            "error_y": {
             "color": "#2a3f5f"
            },
            "marker": {
             "line": {
              "color": "#E5ECF6",
              "width": 0.5
             },
             "pattern": {
              "fillmode": "overlay",
              "size": 10,
              "solidity": 0.2
             }
            },
            "type": "bar"
           }
          ],
          "barpolar": [
           {
            "marker": {
             "line": {
              "color": "#E5ECF6",
              "width": 0.5
             },
             "pattern": {
              "fillmode": "overlay",
              "size": 10,
              "solidity": 0.2
             }
            },
            "type": "barpolar"
           }
          ],
          "carpet": [
           {
            "aaxis": {
             "endlinecolor": "#2a3f5f",
             "gridcolor": "white",
             "linecolor": "white",
             "minorgridcolor": "white",
             "startlinecolor": "#2a3f5f"
            },
            "baxis": {
             "endlinecolor": "#2a3f5f",
             "gridcolor": "white",
             "linecolor": "white",
             "minorgridcolor": "white",
             "startlinecolor": "#2a3f5f"
            },
            "type": "carpet"
           }
          ],
          "choropleth": [
           {
            "colorbar": {
             "outlinewidth": 0,
             "ticks": ""
            },
            "type": "choropleth"
           }
          ],
          "contour": [
           {
            "colorbar": {
             "outlinewidth": 0,
             "ticks": ""
            },
            "colorscale": [
             [
              0,
              "#0d0887"
             ],
             [
              0.1111111111111111,
              "#46039f"
             ],
             [
              0.2222222222222222,
              "#7201a8"
             ],
             [
              0.3333333333333333,
              "#9c179e"
             ],
             [
              0.4444444444444444,
              "#bd3786"
             ],
             [
              0.5555555555555556,
              "#d8576b"
             ],
             [
              0.6666666666666666,
              "#ed7953"
             ],
             [
              0.7777777777777778,
              "#fb9f3a"
             ],
             [
              0.8888888888888888,
              "#fdca26"
             ],
             [
              1,
              "#f0f921"
             ]
            ],
            "type": "contour"
           }
          ],
          "contourcarpet": [
           {
            "colorbar": {
             "outlinewidth": 0,
             "ticks": ""
            },
            "type": "contourcarpet"
           }
          ],
          "heatmap": [
           {
            "colorbar": {
             "outlinewidth": 0,
             "ticks": ""
            },
            "colorscale": [
             [
              0,
              "#0d0887"
             ],
             [
              0.1111111111111111,
              "#46039f"
             ],
             [
              0.2222222222222222,
              "#7201a8"
             ],
             [
              0.3333333333333333,
              "#9c179e"
             ],
             [
              0.4444444444444444,
              "#bd3786"
             ],
             [
              0.5555555555555556,
              "#d8576b"
             ],
             [
              0.6666666666666666,
              "#ed7953"
             ],
             [
              0.7777777777777778,
              "#fb9f3a"
             ],
             [
              0.8888888888888888,
              "#fdca26"
             ],
             [
              1,
              "#f0f921"
             ]
            ],
            "type": "heatmap"
           }
          ],
          "heatmapgl": [
           {
            "colorbar": {
             "outlinewidth": 0,
             "ticks": ""
            },
            "colorscale": [
             [
              0,
              "#0d0887"
             ],
             [
              0.1111111111111111,
              "#46039f"
             ],
             [
              0.2222222222222222,
              "#7201a8"
             ],
             [
              0.3333333333333333,
              "#9c179e"
             ],
             [
              0.4444444444444444,
              "#bd3786"
             ],
             [
              0.5555555555555556,
              "#d8576b"
             ],
             [
              0.6666666666666666,
              "#ed7953"
             ],
             [
              0.7777777777777778,
              "#fb9f3a"
             ],
             [
              0.8888888888888888,
              "#fdca26"
             ],
             [
              1,
              "#f0f921"
             ]
            ],
            "type": "heatmapgl"
           }
          ],
          "histogram": [
           {
            "marker": {
             "pattern": {
              "fillmode": "overlay",
              "size": 10,
              "solidity": 0.2
             }
            },
            "type": "histogram"
           }
          ],
          "histogram2d": [
           {
            "colorbar": {
             "outlinewidth": 0,
             "ticks": ""
            },
            "colorscale": [
             [
              0,
              "#0d0887"
             ],
             [
              0.1111111111111111,
              "#46039f"
             ],
             [
              0.2222222222222222,
              "#7201a8"
             ],
             [
              0.3333333333333333,
              "#9c179e"
             ],
             [
              0.4444444444444444,
              "#bd3786"
             ],
             [
              0.5555555555555556,
              "#d8576b"
             ],
             [
              0.6666666666666666,
              "#ed7953"
             ],
             [
              0.7777777777777778,
              "#fb9f3a"
             ],
             [
              0.8888888888888888,
              "#fdca26"
             ],
             [
              1,
              "#f0f921"
             ]
            ],
            "type": "histogram2d"
           }
          ],
          "histogram2dcontour": [
           {
            "colorbar": {
             "outlinewidth": 0,
             "ticks": ""
            },
            "colorscale": [
             [
              0,
              "#0d0887"
             ],
             [
              0.1111111111111111,
              "#46039f"
             ],
             [
              0.2222222222222222,
              "#7201a8"
             ],
             [
              0.3333333333333333,
              "#9c179e"
             ],
             [
              0.4444444444444444,
              "#bd3786"
             ],
             [
              0.5555555555555556,
              "#d8576b"
             ],
             [
              0.6666666666666666,
              "#ed7953"
             ],
             [
              0.7777777777777778,
              "#fb9f3a"
             ],
             [
              0.8888888888888888,
              "#fdca26"
             ],
             [
              1,
              "#f0f921"
             ]
            ],
            "type": "histogram2dcontour"
           }
          ],
          "mesh3d": [
           {
            "colorbar": {
             "outlinewidth": 0,
             "ticks": ""
            },
            "type": "mesh3d"
           }
          ],
          "parcoords": [
           {
            "line": {
             "colorbar": {
              "outlinewidth": 0,
              "ticks": ""
             }
            },
            "type": "parcoords"
           }
          ],
          "pie": [
           {
            "automargin": true,
            "type": "pie"
           }
          ],
          "scatter": [
           {
            "fillpattern": {
             "fillmode": "overlay",
             "size": 10,
             "solidity": 0.2
            },
            "type": "scatter"
           }
          ],
          "scatter3d": [
           {
            "line": {
             "colorbar": {
              "outlinewidth": 0,
              "ticks": ""
             }
            },
            "marker": {
             "colorbar": {
              "outlinewidth": 0,
              "ticks": ""
             }
            },
            "type": "scatter3d"
           }
          ],
          "scattercarpet": [
           {
            "marker": {
             "colorbar": {
              "outlinewidth": 0,
              "ticks": ""
             }
            },
            "type": "scattercarpet"
           }
          ],
          "scattergeo": [
           {
            "marker": {
             "colorbar": {
              "outlinewidth": 0,
              "ticks": ""
             }
            },
            "type": "scattergeo"
           }
          ],
          "scattergl": [
           {
            "marker": {
             "colorbar": {
              "outlinewidth": 0,
              "ticks": ""
             }
            },
            "type": "scattergl"
           }
          ],
          "scattermapbox": [
           {
            "marker": {
             "colorbar": {
              "outlinewidth": 0,
              "ticks": ""
             }
            },
            "type": "scattermapbox"
           }
          ],
          "scatterpolar": [
           {
            "marker": {
             "colorbar": {
              "outlinewidth": 0,
              "ticks": ""
             }
            },
            "type": "scatterpolar"
           }
          ],
          "scatterpolargl": [
           {
            "marker": {
             "colorbar": {
              "outlinewidth": 0,
              "ticks": ""
             }
            },
            "type": "scatterpolargl"
           }
          ],
          "scatterternary": [
           {
            "marker": {
             "colorbar": {
              "outlinewidth": 0,
              "ticks": ""
             }
            },
            "type": "scatterternary"
           }
          ],
          "surface": [
           {
            "colorbar": {
             "outlinewidth": 0,
             "ticks": ""
            },
            "colorscale": [
             [
              0,
              "#0d0887"
             ],
             [
              0.1111111111111111,
              "#46039f"
             ],
             [
              0.2222222222222222,
              "#7201a8"
             ],
             [
              0.3333333333333333,
              "#9c179e"
             ],
             [
              0.4444444444444444,
              "#bd3786"
             ],
             [
              0.5555555555555556,
              "#d8576b"
             ],
             [
              0.6666666666666666,
              "#ed7953"
             ],
             [
              0.7777777777777778,
              "#fb9f3a"
             ],
             [
              0.8888888888888888,
              "#fdca26"
             ],
             [
              1,
              "#f0f921"
             ]
            ],
            "type": "surface"
           }
          ],
          "table": [
           {
            "cells": {
             "fill": {
              "color": "#EBF0F8"
             },
             "line": {
              "color": "white"
             }
            },
            "header": {
             "fill": {
              "color": "#C8D4E3"
             },
             "line": {
              "color": "white"
             }
            },
            "type": "table"
           }
          ]
         },
         "layout": {
          "annotationdefaults": {
           "arrowcolor": "#2a3f5f",
           "arrowhead": 0,
           "arrowwidth": 1
          },
          "autotypenumbers": "strict",
          "coloraxis": {
           "colorbar": {
            "outlinewidth": 0,
            "ticks": ""
           }
          },
          "colorscale": {
           "diverging": [
            [
             0,
             "#8e0152"
            ],
            [
             0.1,
             "#c51b7d"
            ],
            [
             0.2,
             "#de77ae"
            ],
            [
             0.3,
             "#f1b6da"
            ],
            [
             0.4,
             "#fde0ef"
            ],
            [
             0.5,
             "#f7f7f7"
            ],
            [
             0.6,
             "#e6f5d0"
            ],
            [
             0.7,
             "#b8e186"
            ],
            [
             0.8,
             "#7fbc41"
            ],
            [
             0.9,
             "#4d9221"
            ],
            [
             1,
             "#276419"
            ]
           ],
           "sequential": [
            [
             0,
             "#0d0887"
            ],
            [
             0.1111111111111111,
             "#46039f"
            ],
            [
             0.2222222222222222,
             "#7201a8"
            ],
            [
             0.3333333333333333,
             "#9c179e"
            ],
            [
             0.4444444444444444,
             "#bd3786"
            ],
            [
             0.5555555555555556,
             "#d8576b"
            ],
            [
             0.6666666666666666,
             "#ed7953"
            ],
            [
             0.7777777777777778,
             "#fb9f3a"
            ],
            [
             0.8888888888888888,
             "#fdca26"
            ],
            [
             1,
             "#f0f921"
            ]
           ],
           "sequentialminus": [
            [
             0,
             "#0d0887"
            ],
            [
             0.1111111111111111,
             "#46039f"
            ],
            [
             0.2222222222222222,
             "#7201a8"
            ],
            [
             0.3333333333333333,
             "#9c179e"
            ],
            [
             0.4444444444444444,
             "#bd3786"
            ],
            [
             0.5555555555555556,
             "#d8576b"
            ],
            [
             0.6666666666666666,
             "#ed7953"
            ],
            [
             0.7777777777777778,
             "#fb9f3a"
            ],
            [
             0.8888888888888888,
             "#fdca26"
            ],
            [
             1,
             "#f0f921"
            ]
           ]
          },
          "colorway": [
           "#636efa",
           "#EF553B",
           "#00cc96",
           "#ab63fa",
           "#FFA15A",
           "#19d3f3",
           "#FF6692",
           "#B6E880",
           "#FF97FF",
           "#FECB52"
          ],
          "font": {
           "color": "#2a3f5f"
          },
          "geo": {
           "bgcolor": "white",
           "lakecolor": "white",
           "landcolor": "#E5ECF6",
           "showlakes": true,
           "showland": true,
           "subunitcolor": "white"
          },
          "hoverlabel": {
           "align": "left"
          },
          "hovermode": "closest",
          "mapbox": {
           "style": "light"
          },
          "paper_bgcolor": "white",
          "plot_bgcolor": "#E5ECF6",
          "polar": {
           "angularaxis": {
            "gridcolor": "white",
            "linecolor": "white",
            "ticks": ""
           },
           "bgcolor": "#E5ECF6",
           "radialaxis": {
            "gridcolor": "white",
            "linecolor": "white",
            "ticks": ""
           }
          },
          "scene": {
           "xaxis": {
            "backgroundcolor": "#E5ECF6",
            "gridcolor": "white",
            "gridwidth": 2,
            "linecolor": "white",
            "showbackground": true,
            "ticks": "",
            "zerolinecolor": "white"
           },
           "yaxis": {
            "backgroundcolor": "#E5ECF6",
            "gridcolor": "white",
            "gridwidth": 2,
            "linecolor": "white",
            "showbackground": true,
            "ticks": "",
            "zerolinecolor": "white"
           },
           "zaxis": {
            "backgroundcolor": "#E5ECF6",
            "gridcolor": "white",
            "gridwidth": 2,
            "linecolor": "white",
            "showbackground": true,
            "ticks": "",
            "zerolinecolor": "white"
           }
          },
          "shapedefaults": {
           "line": {
            "color": "#2a3f5f"
           }
          },
          "ternary": {
           "aaxis": {
            "gridcolor": "white",
            "linecolor": "white",
            "ticks": ""
           },
           "baxis": {
            "gridcolor": "white",
            "linecolor": "white",
            "ticks": ""
           },
           "bgcolor": "#E5ECF6",
           "caxis": {
            "gridcolor": "white",
            "linecolor": "white",
            "ticks": ""
           }
          },
          "title": {
           "x": 0.05
          },
          "xaxis": {
           "automargin": true,
           "gridcolor": "white",
           "linecolor": "white",
           "ticks": "",
           "title": {
            "standoff": 15
           },
           "zerolinecolor": "white",
           "zerolinewidth": 2
          },
          "yaxis": {
           "automargin": true,
           "gridcolor": "white",
           "linecolor": "white",
           "ticks": "",
           "title": {
            "standoff": 15
           },
           "zerolinecolor": "white",
           "zerolinewidth": 2
          }
         }
        },
        "title": {
         "font": {
          "color": "#4D5663"
         }
        },
        "xaxis": {
         "gridcolor": "#E1E5ED",
         "showgrid": true,
         "tickfont": {
          "color": "#4D5663"
         },
         "title": {
          "font": {
           "color": "#4D5663"
          },
          "text": ""
         },
         "zerolinecolor": "#E1E5ED"
        },
        "yaxis": {
         "gridcolor": "#E1E5ED",
         "showgrid": true,
         "tickfont": {
          "color": "#4D5663"
         },
         "title": {
          "font": {
           "color": "#4D5663"
          },
          "text": ""
         },
         "zerolinecolor": "#E1E5ED"
        }
       }
      },
      "text/html": [
       "<div>                            <div id=\"9a5fa3b2-1e43-46cf-82d6-220ddef88ac0\" class=\"plotly-graph-div\" style=\"height:525px; width:100%;\"></div>            <script type=\"text/javascript\">                require([\"plotly\"], function(Plotly) {                    window.PLOTLYENV=window.PLOTLYENV || {};\n",
       "                    window.PLOTLYENV.BASE_URL='https://plot.ly';                                    if (document.getElementById(\"9a5fa3b2-1e43-46cf-82d6-220ddef88ac0\")) {                    Plotly.newPlot(                        \"9a5fa3b2-1e43-46cf-82d6-220ddef88ac0\",                        [{\"marker\":{\"color\":\"rgba(255, 153, 51, 0.6)\",\"line\":{\"color\":\"rgba(255, 153, 51, 1.0)\",\"width\":1}},\"name\":\"Dep_Time_hour\",\"orientation\":\"v\",\"text\":\"\",\"x\":[\"Early Morning\",\"Evening\",\"Morning\",\"Noon\",\"Night\",\"Late Night\"],\"y\":[2880,2357,2209,1731,1040,465],\"type\":\"bar\"}],                        {\"legend\":{\"bgcolor\":\"#F5F6F9\",\"font\":{\"color\":\"#4D5663\"}},\"paper_bgcolor\":\"#F5F6F9\",\"plot_bgcolor\":\"#F5F6F9\",\"template\":{\"data\":{\"barpolar\":[{\"marker\":{\"line\":{\"color\":\"#E5ECF6\",\"width\":0.5},\"pattern\":{\"fillmode\":\"overlay\",\"size\":10,\"solidity\":0.2}},\"type\":\"barpolar\"}],\"bar\":[{\"error_x\":{\"color\":\"#2a3f5f\"},\"error_y\":{\"color\":\"#2a3f5f\"},\"marker\":{\"line\":{\"color\":\"#E5ECF6\",\"width\":0.5},\"pattern\":{\"fillmode\":\"overlay\",\"size\":10,\"solidity\":0.2}},\"type\":\"bar\"}],\"carpet\":[{\"aaxis\":{\"endlinecolor\":\"#2a3f5f\",\"gridcolor\":\"white\",\"linecolor\":\"white\",\"minorgridcolor\":\"white\",\"startlinecolor\":\"#2a3f5f\"},\"baxis\":{\"endlinecolor\":\"#2a3f5f\",\"gridcolor\":\"white\",\"linecolor\":\"white\",\"minorgridcolor\":\"white\",\"startlinecolor\":\"#2a3f5f\"},\"type\":\"carpet\"}],\"choropleth\":[{\"colorbar\":{\"outlinewidth\":0,\"ticks\":\"\"},\"type\":\"choropleth\"}],\"contourcarpet\":[{\"colorbar\":{\"outlinewidth\":0,\"ticks\":\"\"},\"type\":\"contourcarpet\"}],\"contour\":[{\"colorbar\":{\"outlinewidth\":0,\"ticks\":\"\"},\"colorscale\":[[0.0,\"#0d0887\"],[0.1111111111111111,\"#46039f\"],[0.2222222222222222,\"#7201a8\"],[0.3333333333333333,\"#9c179e\"],[0.4444444444444444,\"#bd3786\"],[0.5555555555555556,\"#d8576b\"],[0.6666666666666666,\"#ed7953\"],[0.7777777777777778,\"#fb9f3a\"],[0.8888888888888888,\"#fdca26\"],[1.0,\"#f0f921\"]],\"type\":\"contour\"}],\"heatmapgl\":[{\"colorbar\":{\"outlinewidth\":0,\"ticks\":\"\"},\"colorscale\":[[0.0,\"#0d0887\"],[0.1111111111111111,\"#46039f\"],[0.2222222222222222,\"#7201a8\"],[0.3333333333333333,\"#9c179e\"],[0.4444444444444444,\"#bd3786\"],[0.5555555555555556,\"#d8576b\"],[0.6666666666666666,\"#ed7953\"],[0.7777777777777778,\"#fb9f3a\"],[0.8888888888888888,\"#fdca26\"],[1.0,\"#f0f921\"]],\"type\":\"heatmapgl\"}],\"heatmap\":[{\"colorbar\":{\"outlinewidth\":0,\"ticks\":\"\"},\"colorscale\":[[0.0,\"#0d0887\"],[0.1111111111111111,\"#46039f\"],[0.2222222222222222,\"#7201a8\"],[0.3333333333333333,\"#9c179e\"],[0.4444444444444444,\"#bd3786\"],[0.5555555555555556,\"#d8576b\"],[0.6666666666666666,\"#ed7953\"],[0.7777777777777778,\"#fb9f3a\"],[0.8888888888888888,\"#fdca26\"],[1.0,\"#f0f921\"]],\"type\":\"heatmap\"}],\"histogram2dcontour\":[{\"colorbar\":{\"outlinewidth\":0,\"ticks\":\"\"},\"colorscale\":[[0.0,\"#0d0887\"],[0.1111111111111111,\"#46039f\"],[0.2222222222222222,\"#7201a8\"],[0.3333333333333333,\"#9c179e\"],[0.4444444444444444,\"#bd3786\"],[0.5555555555555556,\"#d8576b\"],[0.6666666666666666,\"#ed7953\"],[0.7777777777777778,\"#fb9f3a\"],[0.8888888888888888,\"#fdca26\"],[1.0,\"#f0f921\"]],\"type\":\"histogram2dcontour\"}],\"histogram2d\":[{\"colorbar\":{\"outlinewidth\":0,\"ticks\":\"\"},\"colorscale\":[[0.0,\"#0d0887\"],[0.1111111111111111,\"#46039f\"],[0.2222222222222222,\"#7201a8\"],[0.3333333333333333,\"#9c179e\"],[0.4444444444444444,\"#bd3786\"],[0.5555555555555556,\"#d8576b\"],[0.6666666666666666,\"#ed7953\"],[0.7777777777777778,\"#fb9f3a\"],[0.8888888888888888,\"#fdca26\"],[1.0,\"#f0f921\"]],\"type\":\"histogram2d\"}],\"histogram\":[{\"marker\":{\"pattern\":{\"fillmode\":\"overlay\",\"size\":10,\"solidity\":0.2}},\"type\":\"histogram\"}],\"mesh3d\":[{\"colorbar\":{\"outlinewidth\":0,\"ticks\":\"\"},\"type\":\"mesh3d\"}],\"parcoords\":[{\"line\":{\"colorbar\":{\"outlinewidth\":0,\"ticks\":\"\"}},\"type\":\"parcoords\"}],\"pie\":[{\"automargin\":true,\"type\":\"pie\"}],\"scatter3d\":[{\"line\":{\"colorbar\":{\"outlinewidth\":0,\"ticks\":\"\"}},\"marker\":{\"colorbar\":{\"outlinewidth\":0,\"ticks\":\"\"}},\"type\":\"scatter3d\"}],\"scattercarpet\":[{\"marker\":{\"colorbar\":{\"outlinewidth\":0,\"ticks\":\"\"}},\"type\":\"scattercarpet\"}],\"scattergeo\":[{\"marker\":{\"colorbar\":{\"outlinewidth\":0,\"ticks\":\"\"}},\"type\":\"scattergeo\"}],\"scattergl\":[{\"marker\":{\"colorbar\":{\"outlinewidth\":0,\"ticks\":\"\"}},\"type\":\"scattergl\"}],\"scattermapbox\":[{\"marker\":{\"colorbar\":{\"outlinewidth\":0,\"ticks\":\"\"}},\"type\":\"scattermapbox\"}],\"scatterpolargl\":[{\"marker\":{\"colorbar\":{\"outlinewidth\":0,\"ticks\":\"\"}},\"type\":\"scatterpolargl\"}],\"scatterpolar\":[{\"marker\":{\"colorbar\":{\"outlinewidth\":0,\"ticks\":\"\"}},\"type\":\"scatterpolar\"}],\"scatter\":[{\"fillpattern\":{\"fillmode\":\"overlay\",\"size\":10,\"solidity\":0.2},\"type\":\"scatter\"}],\"scatterternary\":[{\"marker\":{\"colorbar\":{\"outlinewidth\":0,\"ticks\":\"\"}},\"type\":\"scatterternary\"}],\"surface\":[{\"colorbar\":{\"outlinewidth\":0,\"ticks\":\"\"},\"colorscale\":[[0.0,\"#0d0887\"],[0.1111111111111111,\"#46039f\"],[0.2222222222222222,\"#7201a8\"],[0.3333333333333333,\"#9c179e\"],[0.4444444444444444,\"#bd3786\"],[0.5555555555555556,\"#d8576b\"],[0.6666666666666666,\"#ed7953\"],[0.7777777777777778,\"#fb9f3a\"],[0.8888888888888888,\"#fdca26\"],[1.0,\"#f0f921\"]],\"type\":\"surface\"}],\"table\":[{\"cells\":{\"fill\":{\"color\":\"#EBF0F8\"},\"line\":{\"color\":\"white\"}},\"header\":{\"fill\":{\"color\":\"#C8D4E3\"},\"line\":{\"color\":\"white\"}},\"type\":\"table\"}]},\"layout\":{\"annotationdefaults\":{\"arrowcolor\":\"#2a3f5f\",\"arrowhead\":0,\"arrowwidth\":1},\"autotypenumbers\":\"strict\",\"coloraxis\":{\"colorbar\":{\"outlinewidth\":0,\"ticks\":\"\"}},\"colorscale\":{\"diverging\":[[0,\"#8e0152\"],[0.1,\"#c51b7d\"],[0.2,\"#de77ae\"],[0.3,\"#f1b6da\"],[0.4,\"#fde0ef\"],[0.5,\"#f7f7f7\"],[0.6,\"#e6f5d0\"],[0.7,\"#b8e186\"],[0.8,\"#7fbc41\"],[0.9,\"#4d9221\"],[1,\"#276419\"]],\"sequential\":[[0.0,\"#0d0887\"],[0.1111111111111111,\"#46039f\"],[0.2222222222222222,\"#7201a8\"],[0.3333333333333333,\"#9c179e\"],[0.4444444444444444,\"#bd3786\"],[0.5555555555555556,\"#d8576b\"],[0.6666666666666666,\"#ed7953\"],[0.7777777777777778,\"#fb9f3a\"],[0.8888888888888888,\"#fdca26\"],[1.0,\"#f0f921\"]],\"sequentialminus\":[[0.0,\"#0d0887\"],[0.1111111111111111,\"#46039f\"],[0.2222222222222222,\"#7201a8\"],[0.3333333333333333,\"#9c179e\"],[0.4444444444444444,\"#bd3786\"],[0.5555555555555556,\"#d8576b\"],[0.6666666666666666,\"#ed7953\"],[0.7777777777777778,\"#fb9f3a\"],[0.8888888888888888,\"#fdca26\"],[1.0,\"#f0f921\"]]},\"colorway\":[\"#636efa\",\"#EF553B\",\"#00cc96\",\"#ab63fa\",\"#FFA15A\",\"#19d3f3\",\"#FF6692\",\"#B6E880\",\"#FF97FF\",\"#FECB52\"],\"font\":{\"color\":\"#2a3f5f\"},\"geo\":{\"bgcolor\":\"white\",\"lakecolor\":\"white\",\"landcolor\":\"#E5ECF6\",\"showlakes\":true,\"showland\":true,\"subunitcolor\":\"white\"},\"hoverlabel\":{\"align\":\"left\"},\"hovermode\":\"closest\",\"mapbox\":{\"style\":\"light\"},\"paper_bgcolor\":\"white\",\"plot_bgcolor\":\"#E5ECF6\",\"polar\":{\"angularaxis\":{\"gridcolor\":\"white\",\"linecolor\":\"white\",\"ticks\":\"\"},\"bgcolor\":\"#E5ECF6\",\"radialaxis\":{\"gridcolor\":\"white\",\"linecolor\":\"white\",\"ticks\":\"\"}},\"scene\":{\"xaxis\":{\"backgroundcolor\":\"#E5ECF6\",\"gridcolor\":\"white\",\"gridwidth\":2,\"linecolor\":\"white\",\"showbackground\":true,\"ticks\":\"\",\"zerolinecolor\":\"white\"},\"yaxis\":{\"backgroundcolor\":\"#E5ECF6\",\"gridcolor\":\"white\",\"gridwidth\":2,\"linecolor\":\"white\",\"showbackground\":true,\"ticks\":\"\",\"zerolinecolor\":\"white\"},\"zaxis\":{\"backgroundcolor\":\"#E5ECF6\",\"gridcolor\":\"white\",\"gridwidth\":2,\"linecolor\":\"white\",\"showbackground\":true,\"ticks\":\"\",\"zerolinecolor\":\"white\"}},\"shapedefaults\":{\"line\":{\"color\":\"#2a3f5f\"}},\"ternary\":{\"aaxis\":{\"gridcolor\":\"white\",\"linecolor\":\"white\",\"ticks\":\"\"},\"baxis\":{\"gridcolor\":\"white\",\"linecolor\":\"white\",\"ticks\":\"\"},\"bgcolor\":\"#E5ECF6\",\"caxis\":{\"gridcolor\":\"white\",\"linecolor\":\"white\",\"ticks\":\"\"}},\"title\":{\"x\":0.05},\"xaxis\":{\"automargin\":true,\"gridcolor\":\"white\",\"linecolor\":\"white\",\"ticks\":\"\",\"title\":{\"standoff\":15},\"zerolinecolor\":\"white\",\"zerolinewidth\":2},\"yaxis\":{\"automargin\":true,\"gridcolor\":\"white\",\"linecolor\":\"white\",\"ticks\":\"\",\"title\":{\"standoff\":15},\"zerolinecolor\":\"white\",\"zerolinewidth\":2}}},\"title\":{\"font\":{\"color\":\"#4D5663\"}},\"xaxis\":{\"gridcolor\":\"#E1E5ED\",\"showgrid\":true,\"tickfont\":{\"color\":\"#4D5663\"},\"title\":{\"font\":{\"color\":\"#4D5663\"},\"text\":\"\"},\"zerolinecolor\":\"#E1E5ED\"},\"yaxis\":{\"gridcolor\":\"#E1E5ED\",\"showgrid\":true,\"tickfont\":{\"color\":\"#4D5663\"},\"title\":{\"font\":{\"color\":\"#4D5663\"},\"text\":\"\"},\"zerolinecolor\":\"#E1E5ED\"}},                        {\"showLink\": true, \"linkText\": \"Export to plot.ly\", \"plotlyServerURL\": \"https://plot.ly\", \"responsive\": true}                    ).then(function(){\n",
       "                            \n",
       "var gd = document.getElementById('9a5fa3b2-1e43-46cf-82d6-220ddef88ac0');\n",
       "var x = new MutationObserver(function (mutations, observer) {{\n",
       "        var display = window.getComputedStyle(gd).display;\n",
       "        if (!display || display === 'none') {{\n",
       "            console.log([gd, 'removed!']);\n",
       "            Plotly.purge(gd);\n",
       "            observer.disconnect();\n",
       "        }}\n",
       "}});\n",
       "\n",
       "// Listen for the removal of the full notebook cells\n",
       "var notebookContainer = gd.closest('#notebook-container');\n",
       "if (notebookContainer) {{\n",
       "    x.observe(notebookContainer, {childList: true});\n",
       "}}\n",
       "\n",
       "// Listen for the clearing of the current output cell\n",
       "var outputEl = gd.closest('.output');\n",
       "if (outputEl) {{\n",
       "    x.observe(outputEl, {childList: true});\n",
       "}}\n",
       "\n",
       "                        })                };                });            </script>        </div>"
      ]
     },
     "metadata": {},
     "output_type": "display_data"
    }
   ],
   "source": [
    "### Using 'iplot'\n",
    "flight_count.iplot(kind = 'bar')"
   ]
  },
  {
   "cell_type": "markdown",
   "id": "aadbb86d",
   "metadata": {},
   "source": [
    "### Preprocessing the duration feature"
   ]
  },
  {
   "cell_type": "code",
   "execution_count": 42,
   "id": "a66221f6",
   "metadata": {},
   "outputs": [],
   "source": [
    "### Using the if-else statements"
   ]
  },
  {
   "cell_type": "code",
   "execution_count": 43,
   "id": "fe9bd48f",
   "metadata": {},
   "outputs": [],
   "source": [
    "def preprocess_duration(x):\n",
    "    if 'h' not in x:\n",
    "        x = '0h '+x\n",
    "    elif 'm' not in x:\n",
    "        x = x+' 0m'    \n",
    "    return x"
   ]
  },
  {
   "cell_type": "code",
   "execution_count": 44,
   "id": "b8f477e8",
   "metadata": {},
   "outputs": [],
   "source": [
    "data['Duration'] = data['Duration'].apply(preprocess_duration)"
   ]
  },
  {
   "cell_type": "code",
   "execution_count": 45,
   "id": "7ca39903",
   "metadata": {},
   "outputs": [
    {
     "data": {
      "text/plain": [
       "0        2h 50m\n",
       "1        7h 25m\n",
       "2        19h 0m\n",
       "3        5h 25m\n",
       "4        4h 45m\n",
       "          ...  \n",
       "10678    2h 30m\n",
       "10679    2h 35m\n",
       "10680     3h 0m\n",
       "10681    2h 40m\n",
       "10682    8h 20m\n",
       "Name: Duration, Length: 10682, dtype: object"
      ]
     },
     "execution_count": 45,
     "metadata": {},
     "output_type": "execute_result"
    }
   ],
   "source": [
    "data['Duration']"
   ]
  },
  {
   "cell_type": "code",
   "execution_count": 46,
   "id": "648e0bea",
   "metadata": {},
   "outputs": [
    {
     "data": {
      "text/plain": [
       "'2h 50m'"
      ]
     },
     "execution_count": 46,
     "metadata": {},
     "output_type": "execute_result"
    }
   ],
   "source": [
    "data['Duration'][0]"
   ]
  },
  {
   "cell_type": "code",
   "execution_count": 47,
   "id": "b916882f",
   "metadata": {},
   "outputs": [
    {
     "data": {
      "text/plain": [
       "['2h', '50m']"
      ]
     },
     "execution_count": 47,
     "metadata": {},
     "output_type": "execute_result"
    }
   ],
   "source": [
    "data['Duration'][0].split(' ')"
   ]
  },
  {
   "cell_type": "code",
   "execution_count": 48,
   "id": "576638d0",
   "metadata": {},
   "outputs": [
    {
     "data": {
      "text/plain": [
       "'50m'"
      ]
     },
     "execution_count": 48,
     "metadata": {},
     "output_type": "execute_result"
    }
   ],
   "source": [
    "(data['Duration'][0].split(' ')[1])"
   ]
  },
  {
   "cell_type": "code",
   "execution_count": 49,
   "id": "ddfe999a",
   "metadata": {},
   "outputs": [
    {
     "data": {
      "text/plain": [
       "'2h'"
      ]
     },
     "execution_count": 49,
     "metadata": {},
     "output_type": "execute_result"
    }
   ],
   "source": [
    "data['Duration'][0].split(' ')[0]"
   ]
  },
  {
   "cell_type": "code",
   "execution_count": 50,
   "id": "3fcbb5de",
   "metadata": {},
   "outputs": [
    {
     "data": {
      "text/plain": [
       "50"
      ]
     },
     "execution_count": 50,
     "metadata": {},
     "output_type": "execute_result"
    }
   ],
   "source": [
    "### Converting these values form string to integers\n",
    "int(data['Duration'][0].split(' ')[1][0:-1])"
   ]
  },
  {
   "cell_type": "code",
   "execution_count": 51,
   "id": "b782d5f3",
   "metadata": {},
   "outputs": [
    {
     "data": {
      "text/plain": [
       "2"
      ]
     },
     "execution_count": 51,
     "metadata": {},
     "output_type": "execute_result"
    }
   ],
   "source": [
    "int(data['Duration'][0].split(' ')[0][0:-1])"
   ]
  },
  {
   "cell_type": "code",
   "execution_count": 52,
   "id": "688d86a8",
   "metadata": {},
   "outputs": [],
   "source": [
    "### applying lambda funuction inorder to get the hours\n",
    "data['Duration_hour'] = data['Duration'].apply(lambda x: \n",
    "                       int(data['Duration'][0].split(' ')[0][0:-1]))"
   ]
  },
  {
   "cell_type": "code",
   "execution_count": 53,
   "id": "09984e47",
   "metadata": {},
   "outputs": [],
   "source": [
    "### applying lambda funuction inorder to get the minutes\n",
    "data['Duration_minutes'] = data['Duration'].apply(lambda x: \n",
    "                       int(data['Duration'][0].split(' ')[1][0:-1]))"
   ]
  },
  {
   "cell_type": "code",
   "execution_count": 54,
   "id": "adc6009e",
   "metadata": {},
   "outputs": [
    {
     "data": {
      "text/html": [
       "<div>\n",
       "<style scoped>\n",
       "    .dataframe tbody tr th:only-of-type {\n",
       "        vertical-align: middle;\n",
       "    }\n",
       "\n",
       "    .dataframe tbody tr th {\n",
       "        vertical-align: top;\n",
       "    }\n",
       "\n",
       "    .dataframe thead th {\n",
       "        text-align: right;\n",
       "    }\n",
       "</style>\n",
       "<table border=\"1\" class=\"dataframe\">\n",
       "  <thead>\n",
       "    <tr style=\"text-align: right;\">\n",
       "      <th></th>\n",
       "      <th>Airline</th>\n",
       "      <th>Source</th>\n",
       "      <th>Destination</th>\n",
       "      <th>Route</th>\n",
       "      <th>Duration</th>\n",
       "      <th>Total_Stops</th>\n",
       "      <th>Additional_Info</th>\n",
       "      <th>Price</th>\n",
       "      <th>Journey_day</th>\n",
       "      <th>Journey_month</th>\n",
       "      <th>Journey_year</th>\n",
       "      <th>Dep_Time_hour</th>\n",
       "      <th>Dep_Time_minute</th>\n",
       "      <th>Arrival_Time_hour</th>\n",
       "      <th>Arrival_Time_minute</th>\n",
       "      <th>Duration_hour</th>\n",
       "      <th>Duration_minutes</th>\n",
       "    </tr>\n",
       "  </thead>\n",
       "  <tbody>\n",
       "    <tr>\n",
       "      <th>0</th>\n",
       "      <td>IndiGo</td>\n",
       "      <td>Banglore</td>\n",
       "      <td>New Delhi</td>\n",
       "      <td>BLR → DEL</td>\n",
       "      <td>2h 50m</td>\n",
       "      <td>non-stop</td>\n",
       "      <td>No info</td>\n",
       "      <td>3897</td>\n",
       "      <td>24</td>\n",
       "      <td>3</td>\n",
       "      <td>2019</td>\n",
       "      <td>22</td>\n",
       "      <td>20</td>\n",
       "      <td>1</td>\n",
       "      <td>10</td>\n",
       "      <td>2</td>\n",
       "      <td>50</td>\n",
       "    </tr>\n",
       "    <tr>\n",
       "      <th>1</th>\n",
       "      <td>Air India</td>\n",
       "      <td>Kolkata</td>\n",
       "      <td>Banglore</td>\n",
       "      <td>CCU → IXR → BBI → BLR</td>\n",
       "      <td>7h 25m</td>\n",
       "      <td>2 stops</td>\n",
       "      <td>No info</td>\n",
       "      <td>7662</td>\n",
       "      <td>5</td>\n",
       "      <td>1</td>\n",
       "      <td>2019</td>\n",
       "      <td>5</td>\n",
       "      <td>50</td>\n",
       "      <td>13</td>\n",
       "      <td>15</td>\n",
       "      <td>2</td>\n",
       "      <td>50</td>\n",
       "    </tr>\n",
       "    <tr>\n",
       "      <th>2</th>\n",
       "      <td>Jet Airways</td>\n",
       "      <td>Delhi</td>\n",
       "      <td>Cochin</td>\n",
       "      <td>DEL → LKO → BOM → COK</td>\n",
       "      <td>19h 0m</td>\n",
       "      <td>2 stops</td>\n",
       "      <td>No info</td>\n",
       "      <td>13882</td>\n",
       "      <td>6</td>\n",
       "      <td>9</td>\n",
       "      <td>2019</td>\n",
       "      <td>9</td>\n",
       "      <td>25</td>\n",
       "      <td>4</td>\n",
       "      <td>25</td>\n",
       "      <td>2</td>\n",
       "      <td>50</td>\n",
       "    </tr>\n",
       "  </tbody>\n",
       "</table>\n",
       "</div>"
      ],
      "text/plain": [
       "       Airline    Source Destination                  Route Duration  \\\n",
       "0       IndiGo  Banglore   New Delhi              BLR → DEL   2h 50m   \n",
       "1    Air India   Kolkata    Banglore  CCU → IXR → BBI → BLR   7h 25m   \n",
       "2  Jet Airways     Delhi      Cochin  DEL → LKO → BOM → COK   19h 0m   \n",
       "\n",
       "  Total_Stops Additional_Info  Price  Journey_day  Journey_month  \\\n",
       "0    non-stop         No info   3897           24              3   \n",
       "1     2 stops         No info   7662            5              1   \n",
       "2     2 stops         No info  13882            6              9   \n",
       "\n",
       "   Journey_year  Dep_Time_hour  Dep_Time_minute  Arrival_Time_hour  \\\n",
       "0          2019             22               20                  1   \n",
       "1          2019              5               50                 13   \n",
       "2          2019              9               25                  4   \n",
       "\n",
       "   Arrival_Time_minute  Duration_hour  Duration_minutes  \n",
       "0                   10              2                50  \n",
       "1                   15              2                50  \n",
       "2                   25              2                50  "
      ]
     },
     "execution_count": 54,
     "metadata": {},
     "output_type": "execute_result"
    }
   ],
   "source": [
    "data.head(3)"
   ]
  },
  {
   "cell_type": "markdown",
   "id": "207d4cf5",
   "metadata": {},
   "source": [
    "### Analyse wether the duration impacts the price or not..??"
   ]
  },
  {
   "cell_type": "code",
   "execution_count": 55,
   "id": "8547cdc2",
   "metadata": {},
   "outputs": [
    {
     "data": {
      "text/plain": [
       "170"
      ]
     },
     "execution_count": 55,
     "metadata": {},
     "output_type": "execute_result"
    }
   ],
   "source": [
    "### Calculating the total minutes\n",
    "eval('50*1+60*2')"
   ]
  },
  {
   "cell_type": "code",
   "execution_count": 56,
   "id": "31e519b2",
   "metadata": {},
   "outputs": [],
   "source": [
    "data['Duration_total_minutes'] = data['Duration'].str.replace('h', '*60').str.replace(' ','+').str.replace('m','*1').apply(eval)"
   ]
  },
  {
   "cell_type": "code",
   "execution_count": 57,
   "id": "b7603f5a",
   "metadata": {},
   "outputs": [
    {
     "data": {
      "text/html": [
       "<div>\n",
       "<style scoped>\n",
       "    .dataframe tbody tr th:only-of-type {\n",
       "        vertical-align: middle;\n",
       "    }\n",
       "\n",
       "    .dataframe tbody tr th {\n",
       "        vertical-align: top;\n",
       "    }\n",
       "\n",
       "    .dataframe thead th {\n",
       "        text-align: right;\n",
       "    }\n",
       "</style>\n",
       "<table border=\"1\" class=\"dataframe\">\n",
       "  <thead>\n",
       "    <tr style=\"text-align: right;\">\n",
       "      <th></th>\n",
       "      <th>Airline</th>\n",
       "      <th>Source</th>\n",
       "      <th>Destination</th>\n",
       "      <th>Route</th>\n",
       "      <th>Duration</th>\n",
       "      <th>Total_Stops</th>\n",
       "      <th>Additional_Info</th>\n",
       "      <th>Price</th>\n",
       "      <th>Journey_day</th>\n",
       "      <th>Journey_month</th>\n",
       "      <th>Journey_year</th>\n",
       "      <th>Dep_Time_hour</th>\n",
       "      <th>Dep_Time_minute</th>\n",
       "      <th>Arrival_Time_hour</th>\n",
       "      <th>Arrival_Time_minute</th>\n",
       "      <th>Duration_hour</th>\n",
       "      <th>Duration_minutes</th>\n",
       "      <th>Duration_total_minutes</th>\n",
       "    </tr>\n",
       "  </thead>\n",
       "  <tbody>\n",
       "    <tr>\n",
       "      <th>0</th>\n",
       "      <td>IndiGo</td>\n",
       "      <td>Banglore</td>\n",
       "      <td>New Delhi</td>\n",
       "      <td>BLR → DEL</td>\n",
       "      <td>2h 50m</td>\n",
       "      <td>non-stop</td>\n",
       "      <td>No info</td>\n",
       "      <td>3897</td>\n",
       "      <td>24</td>\n",
       "      <td>3</td>\n",
       "      <td>2019</td>\n",
       "      <td>22</td>\n",
       "      <td>20</td>\n",
       "      <td>1</td>\n",
       "      <td>10</td>\n",
       "      <td>2</td>\n",
       "      <td>50</td>\n",
       "      <td>170</td>\n",
       "    </tr>\n",
       "    <tr>\n",
       "      <th>1</th>\n",
       "      <td>Air India</td>\n",
       "      <td>Kolkata</td>\n",
       "      <td>Banglore</td>\n",
       "      <td>CCU → IXR → BBI → BLR</td>\n",
       "      <td>7h 25m</td>\n",
       "      <td>2 stops</td>\n",
       "      <td>No info</td>\n",
       "      <td>7662</td>\n",
       "      <td>5</td>\n",
       "      <td>1</td>\n",
       "      <td>2019</td>\n",
       "      <td>5</td>\n",
       "      <td>50</td>\n",
       "      <td>13</td>\n",
       "      <td>15</td>\n",
       "      <td>2</td>\n",
       "      <td>50</td>\n",
       "      <td>445</td>\n",
       "    </tr>\n",
       "    <tr>\n",
       "      <th>2</th>\n",
       "      <td>Jet Airways</td>\n",
       "      <td>Delhi</td>\n",
       "      <td>Cochin</td>\n",
       "      <td>DEL → LKO → BOM → COK</td>\n",
       "      <td>19h 0m</td>\n",
       "      <td>2 stops</td>\n",
       "      <td>No info</td>\n",
       "      <td>13882</td>\n",
       "      <td>6</td>\n",
       "      <td>9</td>\n",
       "      <td>2019</td>\n",
       "      <td>9</td>\n",
       "      <td>25</td>\n",
       "      <td>4</td>\n",
       "      <td>25</td>\n",
       "      <td>2</td>\n",
       "      <td>50</td>\n",
       "      <td>1140</td>\n",
       "    </tr>\n",
       "  </tbody>\n",
       "</table>\n",
       "</div>"
      ],
      "text/plain": [
       "       Airline    Source Destination                  Route Duration  \\\n",
       "0       IndiGo  Banglore   New Delhi              BLR → DEL   2h 50m   \n",
       "1    Air India   Kolkata    Banglore  CCU → IXR → BBI → BLR   7h 25m   \n",
       "2  Jet Airways     Delhi      Cochin  DEL → LKO → BOM → COK   19h 0m   \n",
       "\n",
       "  Total_Stops Additional_Info  Price  Journey_day  Journey_month  \\\n",
       "0    non-stop         No info   3897           24              3   \n",
       "1     2 stops         No info   7662            5              1   \n",
       "2     2 stops         No info  13882            6              9   \n",
       "\n",
       "   Journey_year  Dep_Time_hour  Dep_Time_minute  Arrival_Time_hour  \\\n",
       "0          2019             22               20                  1   \n",
       "1          2019              5               50                 13   \n",
       "2          2019              9               25                  4   \n",
       "\n",
       "   Arrival_Time_minute  Duration_hour  Duration_minutes  \\\n",
       "0                   10              2                50   \n",
       "1                   15              2                50   \n",
       "2                   25              2                50   \n",
       "\n",
       "   Duration_total_minutes  \n",
       "0                     170  \n",
       "1                     445  \n",
       "2                    1140  "
      ]
     },
     "execution_count": 57,
     "metadata": {},
     "output_type": "execute_result"
    }
   ],
   "source": [
    "data.head(3)"
   ]
  },
  {
   "cell_type": "code",
   "execution_count": 58,
   "id": "8f569baf",
   "metadata": {},
   "outputs": [],
   "source": [
    "### lmplot is the combination of reggression and scatter plot"
   ]
  },
  {
   "cell_type": "code",
   "execution_count": 59,
   "id": "9087b329",
   "metadata": {},
   "outputs": [
    {
     "data": {
      "text/plain": [
       "<seaborn.axisgrid.FacetGrid at 0x7fa1db5ca080>"
      ]
     },
     "execution_count": 59,
     "metadata": {},
     "output_type": "execute_result"
    },
    {
     "data": {
      "image/png": "[encoded data removed]",
      "text/plain": [
       "<Figure size 500x500 with 1 Axes>"
      ]
     },
     "metadata": {},
     "output_type": "display_data"
    }
   ],
   "source": [
    "sns.lmplot(x='Duration_total_minutes', y = 'Price', data = data)"
   ]
  },
  {
   "cell_type": "code",
   "execution_count": 60,
   "id": "192e5b4e",
   "metadata": {},
   "outputs": [],
   "source": [
    "### Which city has the maximum final destination of flights\n",
    "### main cities are Mumbai, Delhi and Bangalore"
   ]
  },
  {
   "cell_type": "code",
   "execution_count": null,
   "id": "4eb7d628",
   "metadata": {},
   "outputs": [],
   "source": []
  },
  {
   "cell_type": "code",
   "execution_count": 61,
   "id": "87270e9e",
   "metadata": {},
   "outputs": [
    {
     "data": {
      "text/plain": [
       "array(['New Delhi', 'Banglore', 'Cochin', 'Kolkata', 'Delhi', 'Hyderabad'],\n",
       "      dtype=object)"
      ]
     },
     "execution_count": 61,
     "metadata": {},
     "output_type": "execute_result"
    }
   ],
   "source": [
    "data[\"Destination\"].unique()"
   ]
  },
  {
   "cell_type": "code",
   "execution_count": 62,
   "id": "aa580a97",
   "metadata": {},
   "outputs": [
    {
     "data": {
      "text/plain": [
       "<Axes: ylabel='Destination'>"
      ]
     },
     "execution_count": 62,
     "metadata": {},
     "output_type": "execute_result"
    },
    {
     "data": {
      "image/png": "[encoded data removed]",
      "text/plain": [
       "<Figure size 640x480 with 1 Axes>"
      ]
     },
     "metadata": {},
     "output_type": "display_data"
    }
   ],
   "source": [
    "data['Destination'].value_counts().plot(kind = 'pie')"
   ]
  },
  {
   "cell_type": "code",
   "execution_count": 63,
   "id": "347069e0",
   "metadata": {},
   "outputs": [],
   "source": [
    "### on which route jet airways is extremely used"
   ]
  },
  {
   "cell_type": "code",
   "execution_count": 64,
   "id": "06e3663b",
   "metadata": {},
   "outputs": [
    {
     "data": {
      "text/plain": [
       "0                    BLR → DEL\n",
       "1        CCU → IXR → BBI → BLR\n",
       "2        DEL → LKO → BOM → COK\n",
       "3              CCU → NAG → BLR\n",
       "4              BLR → NAG → DEL\n",
       "                 ...          \n",
       "10678                CCU → BLR\n",
       "10679                CCU → BLR\n",
       "10680                BLR → DEL\n",
       "10681                BLR → DEL\n",
       "10682    DEL → GOI → BOM → COK\n",
       "Name: Route, Length: 10682, dtype: object"
      ]
     },
     "execution_count": 64,
     "metadata": {},
     "output_type": "execute_result"
    }
   ],
   "source": [
    "data['Route']"
   ]
  },
  {
   "cell_type": "code",
   "execution_count": 65,
   "id": "a17e3589",
   "metadata": {},
   "outputs": [
    {
     "data": {
      "text/html": [
       "<div>\n",
       "<style scoped>\n",
       "    .dataframe tbody tr th:only-of-type {\n",
       "        vertical-align: middle;\n",
       "    }\n",
       "\n",
       "    .dataframe tbody tr th {\n",
       "        vertical-align: top;\n",
       "    }\n",
       "\n",
       "    .dataframe thead th {\n",
       "        text-align: right;\n",
       "    }\n",
       "</style>\n",
       "<table border=\"1\" class=\"dataframe\">\n",
       "  <thead>\n",
       "    <tr style=\"text-align: right;\">\n",
       "      <th></th>\n",
       "      <th>Airline</th>\n",
       "      <th>Source</th>\n",
       "      <th>Destination</th>\n",
       "      <th>Route</th>\n",
       "      <th>Duration</th>\n",
       "      <th>Total_Stops</th>\n",
       "      <th>Additional_Info</th>\n",
       "      <th>Price</th>\n",
       "      <th>Journey_day</th>\n",
       "      <th>Journey_month</th>\n",
       "      <th>Journey_year</th>\n",
       "      <th>Dep_Time_hour</th>\n",
       "      <th>Dep_Time_minute</th>\n",
       "      <th>Arrival_Time_hour</th>\n",
       "      <th>Arrival_Time_minute</th>\n",
       "      <th>Duration_hour</th>\n",
       "      <th>Duration_minutes</th>\n",
       "      <th>Duration_total_minutes</th>\n",
       "    </tr>\n",
       "  </thead>\n",
       "  <tbody>\n",
       "    <tr>\n",
       "      <th>2</th>\n",
       "      <td>Jet Airways</td>\n",
       "      <td>Delhi</td>\n",
       "      <td>Cochin</td>\n",
       "      <td>DEL → LKO → BOM → COK</td>\n",
       "      <td>19h 0m</td>\n",
       "      <td>2 stops</td>\n",
       "      <td>No info</td>\n",
       "      <td>13882</td>\n",
       "      <td>6</td>\n",
       "      <td>9</td>\n",
       "      <td>2019</td>\n",
       "      <td>9</td>\n",
       "      <td>25</td>\n",
       "      <td>4</td>\n",
       "      <td>25</td>\n",
       "      <td>2</td>\n",
       "      <td>50</td>\n",
       "      <td>1140</td>\n",
       "    </tr>\n",
       "    <tr>\n",
       "      <th>6</th>\n",
       "      <td>Jet Airways</td>\n",
       "      <td>Banglore</td>\n",
       "      <td>New Delhi</td>\n",
       "      <td>BLR → BOM → DEL</td>\n",
       "      <td>15h 30m</td>\n",
       "      <td>1 stop</td>\n",
       "      <td>In-flight meal not included</td>\n",
       "      <td>11087</td>\n",
       "      <td>3</td>\n",
       "      <td>12</td>\n",
       "      <td>2019</td>\n",
       "      <td>18</td>\n",
       "      <td>55</td>\n",
       "      <td>10</td>\n",
       "      <td>25</td>\n",
       "      <td>2</td>\n",
       "      <td>50</td>\n",
       "      <td>930</td>\n",
       "    </tr>\n",
       "    <tr>\n",
       "      <th>7</th>\n",
       "      <td>Jet Airways</td>\n",
       "      <td>Banglore</td>\n",
       "      <td>New Delhi</td>\n",
       "      <td>BLR → BOM → DEL</td>\n",
       "      <td>21h 5m</td>\n",
       "      <td>1 stop</td>\n",
       "      <td>No info</td>\n",
       "      <td>22270</td>\n",
       "      <td>3</td>\n",
       "      <td>1</td>\n",
       "      <td>2019</td>\n",
       "      <td>8</td>\n",
       "      <td>0</td>\n",
       "      <td>5</td>\n",
       "      <td>5</td>\n",
       "      <td>2</td>\n",
       "      <td>50</td>\n",
       "      <td>1265</td>\n",
       "    </tr>\n",
       "    <tr>\n",
       "      <th>8</th>\n",
       "      <td>Jet Airways</td>\n",
       "      <td>Banglore</td>\n",
       "      <td>New Delhi</td>\n",
       "      <td>BLR → BOM → DEL</td>\n",
       "      <td>25h 30m</td>\n",
       "      <td>1 stop</td>\n",
       "      <td>In-flight meal not included</td>\n",
       "      <td>11087</td>\n",
       "      <td>3</td>\n",
       "      <td>12</td>\n",
       "      <td>2019</td>\n",
       "      <td>8</td>\n",
       "      <td>55</td>\n",
       "      <td>10</td>\n",
       "      <td>25</td>\n",
       "      <td>2</td>\n",
       "      <td>50</td>\n",
       "      <td>1530</td>\n",
       "    </tr>\n",
       "    <tr>\n",
       "      <th>13</th>\n",
       "      <td>Jet Airways</td>\n",
       "      <td>Kolkata</td>\n",
       "      <td>Banglore</td>\n",
       "      <td>CCU → BOM → BLR</td>\n",
       "      <td>12h 10m</td>\n",
       "      <td>1 stop</td>\n",
       "      <td>In-flight meal not included</td>\n",
       "      <td>9663</td>\n",
       "      <td>5</td>\n",
       "      <td>9</td>\n",
       "      <td>2019</td>\n",
       "      <td>21</td>\n",
       "      <td>10</td>\n",
       "      <td>9</td>\n",
       "      <td>20</td>\n",
       "      <td>2</td>\n",
       "      <td>50</td>\n",
       "      <td>730</td>\n",
       "    </tr>\n",
       "    <tr>\n",
       "      <th>...</th>\n",
       "      <td>...</td>\n",
       "      <td>...</td>\n",
       "      <td>...</td>\n",
       "      <td>...</td>\n",
       "      <td>...</td>\n",
       "      <td>...</td>\n",
       "      <td>...</td>\n",
       "      <td>...</td>\n",
       "      <td>...</td>\n",
       "      <td>...</td>\n",
       "      <td>...</td>\n",
       "      <td>...</td>\n",
       "      <td>...</td>\n",
       "      <td>...</td>\n",
       "      <td>...</td>\n",
       "      <td>...</td>\n",
       "      <td>...</td>\n",
       "      <td>...</td>\n",
       "    </tr>\n",
       "    <tr>\n",
       "      <th>10668</th>\n",
       "      <td>Jet Airways</td>\n",
       "      <td>Delhi</td>\n",
       "      <td>Cochin</td>\n",
       "      <td>DEL → JDH → BOM → COK</td>\n",
       "      <td>7h 20m</td>\n",
       "      <td>2 stops</td>\n",
       "      <td>No info</td>\n",
       "      <td>21219</td>\n",
       "      <td>5</td>\n",
       "      <td>9</td>\n",
       "      <td>2019</td>\n",
       "      <td>11</td>\n",
       "      <td>40</td>\n",
       "      <td>19</td>\n",
       "      <td>0</td>\n",
       "      <td>2</td>\n",
       "      <td>50</td>\n",
       "      <td>440</td>\n",
       "    </tr>\n",
       "    <tr>\n",
       "      <th>10672</th>\n",
       "      <td>Jet Airways</td>\n",
       "      <td>Delhi</td>\n",
       "      <td>Cochin</td>\n",
       "      <td>DEL → AMD → BOM → COK</td>\n",
       "      <td>19h 55m</td>\n",
       "      <td>2 stops</td>\n",
       "      <td>In-flight meal not included</td>\n",
       "      <td>11150</td>\n",
       "      <td>27</td>\n",
       "      <td>6</td>\n",
       "      <td>2019</td>\n",
       "      <td>23</td>\n",
       "      <td>5</td>\n",
       "      <td>19</td>\n",
       "      <td>0</td>\n",
       "      <td>2</td>\n",
       "      <td>50</td>\n",
       "      <td>1195</td>\n",
       "    </tr>\n",
       "    <tr>\n",
       "      <th>10673</th>\n",
       "      <td>Jet Airways</td>\n",
       "      <td>Delhi</td>\n",
       "      <td>Cochin</td>\n",
       "      <td>DEL → AMD → BOM → COK</td>\n",
       "      <td>15h 0m</td>\n",
       "      <td>2 stops</td>\n",
       "      <td>No info</td>\n",
       "      <td>16704</td>\n",
       "      <td>27</td>\n",
       "      <td>5</td>\n",
       "      <td>2019</td>\n",
       "      <td>13</td>\n",
       "      <td>25</td>\n",
       "      <td>4</td>\n",
       "      <td>25</td>\n",
       "      <td>2</td>\n",
       "      <td>50</td>\n",
       "      <td>900</td>\n",
       "    </tr>\n",
       "    <tr>\n",
       "      <th>10674</th>\n",
       "      <td>Jet Airways</td>\n",
       "      <td>Banglore</td>\n",
       "      <td>New Delhi</td>\n",
       "      <td>BLR → BOM → DEL</td>\n",
       "      <td>24h 45m</td>\n",
       "      <td>1 stop</td>\n",
       "      <td>In-flight meal not included</td>\n",
       "      <td>11087</td>\n",
       "      <td>3</td>\n",
       "      <td>12</td>\n",
       "      <td>2019</td>\n",
       "      <td>20</td>\n",
       "      <td>35</td>\n",
       "      <td>21</td>\n",
       "      <td>20</td>\n",
       "      <td>2</td>\n",
       "      <td>50</td>\n",
       "      <td>1485</td>\n",
       "    </tr>\n",
       "    <tr>\n",
       "      <th>10680</th>\n",
       "      <td>Jet Airways</td>\n",
       "      <td>Banglore</td>\n",
       "      <td>Delhi</td>\n",
       "      <td>BLR → DEL</td>\n",
       "      <td>3h 0m</td>\n",
       "      <td>non-stop</td>\n",
       "      <td>No info</td>\n",
       "      <td>7229</td>\n",
       "      <td>27</td>\n",
       "      <td>4</td>\n",
       "      <td>2019</td>\n",
       "      <td>8</td>\n",
       "      <td>20</td>\n",
       "      <td>11</td>\n",
       "      <td>20</td>\n",
       "      <td>2</td>\n",
       "      <td>50</td>\n",
       "      <td>180</td>\n",
       "    </tr>\n",
       "  </tbody>\n",
       "</table>\n",
       "<p>3849 rows × 18 columns</p>\n",
       "</div>"
      ],
      "text/plain": [
       "           Airline    Source Destination                  Route Duration  \\\n",
       "2      Jet Airways     Delhi      Cochin  DEL → LKO → BOM → COK   19h 0m   \n",
       "6      Jet Airways  Banglore   New Delhi        BLR → BOM → DEL  15h 30m   \n",
       "7      Jet Airways  Banglore   New Delhi        BLR → BOM → DEL   21h 5m   \n",
       "8      Jet Airways  Banglore   New Delhi        BLR → BOM → DEL  25h 30m   \n",
       "13     Jet Airways   Kolkata    Banglore        CCU → BOM → BLR  12h 10m   \n",
       "...            ...       ...         ...                    ...      ...   \n",
       "10668  Jet Airways     Delhi      Cochin  DEL → JDH → BOM → COK   7h 20m   \n",
       "10672  Jet Airways     Delhi      Cochin  DEL → AMD → BOM → COK  19h 55m   \n",
       "10673  Jet Airways     Delhi      Cochin  DEL → AMD → BOM → COK   15h 0m   \n",
       "10674  Jet Airways  Banglore   New Delhi        BLR → BOM → DEL  24h 45m   \n",
       "10680  Jet Airways  Banglore       Delhi              BLR → DEL    3h 0m   \n",
       "\n",
       "      Total_Stops              Additional_Info  Price  Journey_day  \\\n",
       "2         2 stops                      No info  13882            6   \n",
       "6          1 stop  In-flight meal not included  11087            3   \n",
       "7          1 stop                      No info  22270            3   \n",
       "8          1 stop  In-flight meal not included  11087            3   \n",
       "13         1 stop  In-flight meal not included   9663            5   \n",
       "...           ...                          ...    ...          ...   \n",
       "10668     2 stops                      No info  21219            5   \n",
       "10672     2 stops  In-flight meal not included  11150           27   \n",
       "10673     2 stops                      No info  16704           27   \n",
       "10674      1 stop  In-flight meal not included  11087            3   \n",
       "10680    non-stop                      No info   7229           27   \n",
       "\n",
       "       Journey_month  Journey_year  Dep_Time_hour  Dep_Time_minute  \\\n",
       "2                  9          2019              9               25   \n",
       "6                 12          2019             18               55   \n",
       "7                  1          2019              8                0   \n",
       "8                 12          2019              8               55   \n",
       "13                 9          2019             21               10   \n",
       "...              ...           ...            ...              ...   \n",
       "10668              9          2019             11               40   \n",
       "10672              6          2019             23                5   \n",
       "10673              5          2019             13               25   \n",
       "10674             12          2019             20               35   \n",
       "10680              4          2019              8               20   \n",
       "\n",
       "       Arrival_Time_hour  Arrival_Time_minute  Duration_hour  \\\n",
       "2                      4                   25              2   \n",
       "6                     10                   25              2   \n",
       "7                      5                    5              2   \n",
       "8                     10                   25              2   \n",
       "13                     9                   20              2   \n",
       "...                  ...                  ...            ...   \n",
       "10668                 19                    0              2   \n",
       "10672                 19                    0              2   \n",
       "10673                  4                   25              2   \n",
       "10674                 21                   20              2   \n",
       "10680                 11                   20              2   \n",
       "\n",
       "       Duration_minutes  Duration_total_minutes  \n",
       "2                    50                    1140  \n",
       "6                    50                     930  \n",
       "7                    50                    1265  \n",
       "8                    50                    1530  \n",
       "13                   50                     730  \n",
       "...                 ...                     ...  \n",
       "10668                50                     440  \n",
       "10672                50                    1195  \n",
       "10673                50                     900  \n",
       "10674                50                    1485  \n",
       "10680                50                     180  \n",
       "\n",
       "[3849 rows x 18 columns]"
      ]
     },
     "execution_count": 65,
     "metadata": {},
     "output_type": "execute_result"
    }
   ],
   "source": [
    "data[data['Airline'] == 'Jet Airways']"
   ]
  },
  {
   "cell_type": "code",
   "execution_count": 66,
   "id": "64666f0b",
   "metadata": {},
   "outputs": [],
   "source": [
    "### Counting the most travelled route for Jet airways"
   ]
  },
  {
   "cell_type": "code",
   "execution_count": 67,
   "id": "676fa73f",
   "metadata": {},
   "outputs": [
    {
     "data": {
      "text/plain": [
       "Route\n",
       "CCU → BOM → BLR          930\n",
       "DEL → BOM → COK          875\n",
       "BLR → BOM → DEL          385\n",
       "BLR → DEL                382\n",
       "CCU → DEL → BLR          300\n",
       "BOM → HYD                207\n",
       "DEL → JAI → BOM → COK    207\n",
       "DEL → AMD → BOM → COK    141\n",
       "DEL → IDR → BOM → COK     86\n",
       "DEL → NAG → BOM → COK     61\n",
       "DEL → ATQ → BOM → COK     38\n",
       "DEL → COK                 34\n",
       "DEL → BHO → BOM → COK     29\n",
       "DEL → BDQ → BOM → COK     28\n",
       "DEL → LKO → BOM → COK     25\n",
       "DEL → JDH → BOM → COK     23\n",
       "CCU → GAU → BLR           22\n",
       "DEL → MAA → BOM → COK     16\n",
       "DEL → IXC → BOM → COK     13\n",
       "BLR → MAA → DEL           10\n",
       "BLR → BDQ → DEL            8\n",
       "DEL → UDR → BOM → COK      7\n",
       "BOM → DEL → HYD            5\n",
       "CCU → BOM → PNQ → BLR      4\n",
       "BLR → BOM → JDH → DEL      3\n",
       "DEL → DED → BOM → COK      2\n",
       "BOM → BDQ → DEL → HYD      2\n",
       "DEL → CCU → BOM → COK      1\n",
       "BOM → VNS → DEL → HYD      1\n",
       "BOM → UDR → DEL → HYD      1\n",
       "BOM → JDH → DEL → HYD      1\n",
       "BOM → IDR → DEL → HYD      1\n",
       "BOM → DED → DEL → HYD      1\n",
       "dtype: int64"
      ]
     },
     "execution_count": 67,
     "metadata": {},
     "output_type": "execute_result"
    }
   ],
   "source": [
    "data[data['Airline'] == 'Jet Airways'].groupby('Route').size().sort_values(ascending = False)"
   ]
  },
  {
   "cell_type": "code",
   "execution_count": 68,
   "id": "83cc1bc4",
   "metadata": {},
   "outputs": [],
   "source": [
    "### Airline vs Price Analysis"
   ]
  },
  {
   "cell_type": "code",
   "execution_count": 69,
   "id": "033eda7d",
   "metadata": {},
   "outputs": [],
   "source": [
    "from matplotlib.pyplot import figure"
   ]
  },
  {
   "cell_type": "code",
   "execution_count": 70,
   "id": "2af22031",
   "metadata": {},
   "outputs": [
    {
     "data": {
      "text/plain": [
       "(array([ 0,  1,  2,  3,  4,  5,  6,  7,  8,  9, 10, 11]),\n",
       " [Text(0, 0, 'IndiGo'),\n",
       "  Text(1, 0, 'Air India'),\n",
       "  Text(2, 0, 'Jet Airways'),\n",
       "  Text(3, 0, 'SpiceJet'),\n",
       "  Text(4, 0, 'Multiple carriers'),\n",
       "  Text(5, 0, 'GoAir'),\n",
       "  Text(6, 0, 'Vistara'),\n",
       "  Text(7, 0, 'Air Asia'),\n",
       "  Text(8, 0, 'Vistara Premium economy'),\n",
       "  Text(9, 0, 'Jet Airways Business'),\n",
       "  Text(10, 0, 'Multiple carriers Premium economy'),\n",
       "  Text(11, 0, 'Trujet')])"
      ]
     },
     "execution_count": 70,
     "metadata": {},
     "output_type": "execute_result"
    },
    {
     "data": {
      "image/png": "[encoded data removed]",
      "text/plain": [
       "<Figure size 1500x500 with 1 Axes>"
      ]
     },
     "metadata": {},
     "output_type": "display_data"
    }
   ],
   "source": [
    "plt.figure(figsize=(15,5))\n",
    "sns.boxplot(y = 'Price', x = 'Airline', data = data)\n",
    "plt.xticks(rotation = 'vertical')"
   ]
  },
  {
   "cell_type": "code",
   "execution_count": 71,
   "id": "08a5b0e6",
   "metadata": {},
   "outputs": [],
   "source": [
    "## for boxplot + Distrubition of data we can use Violinplot"
   ]
  },
  {
   "cell_type": "code",
   "execution_count": 72,
   "id": "d6140a95",
   "metadata": {},
   "outputs": [
    {
     "data": {
      "text/plain": [
       "(array([ 0,  1,  2,  3,  4,  5,  6,  7,  8,  9, 10, 11]),\n",
       " [Text(0, 0, 'IndiGo'),\n",
       "  Text(1, 0, 'Air India'),\n",
       "  Text(2, 0, 'Jet Airways'),\n",
       "  Text(3, 0, 'SpiceJet'),\n",
       "  Text(4, 0, 'Multiple carriers'),\n",
       "  Text(5, 0, 'GoAir'),\n",
       "  Text(6, 0, 'Vistara'),\n",
       "  Text(7, 0, 'Air Asia'),\n",
       "  Text(8, 0, 'Vistara Premium economy'),\n",
       "  Text(9, 0, 'Jet Airways Business'),\n",
       "  Text(10, 0, 'Multiple carriers Premium economy'),\n",
       "  Text(11, 0, 'Trujet')])"
      ]
     },
     "execution_count": 72,
     "metadata": {},
     "output_type": "execute_result"
    },
    {
     "data": {
      "image/png": "[encoded data removed]",
      "text/plain": [
       "<Figure size 1500x500 with 1 Axes>"
      ]
     },
     "metadata": {},
     "output_type": "display_data"
    }
   ],
   "source": [
    "plt.figure(figsize=(15,5))\n",
    "sns.violinplot(y = 'Price', x = 'Airline', data = data)\n",
    "plt.xticks(rotation = 'vertical')"
   ]
  },
  {
   "cell_type": "markdown",
   "id": "6ec6fa01",
   "metadata": {},
   "source": [
    "### Handle Categorical data and applying one-hot encoding on the data"
   ]
  },
  {
   "cell_type": "code",
   "execution_count": 73,
   "id": "15d12a11",
   "metadata": {},
   "outputs": [
    {
     "data": {
      "text/plain": [
       "No info                         8344\n",
       "In-flight meal not included     1982\n",
       "No check-in baggage included     320\n",
       "1 Long layover                    19\n",
       "Change airports                    7\n",
       "Business class                     4\n",
       "No Info                            3\n",
       "1 Short layover                    1\n",
       "Red-eye flight                     1\n",
       "2 Long layover                     1\n",
       "Name: Additional_Info, dtype: int64"
      ]
     },
     "execution_count": 73,
     "metadata": {},
     "output_type": "execute_result"
    }
   ],
   "source": [
    "data['Additional_Info'].value_counts()"
   ]
  },
  {
   "cell_type": "code",
   "execution_count": 74,
   "id": "de09360d",
   "metadata": {},
   "outputs": [
    {
     "data": {
      "text/plain": [
       "No info                         78.11\n",
       "In-flight meal not included     18.55\n",
       "No check-in baggage included     3.00\n",
       "1 Long layover                   0.18\n",
       "Change airports                  0.07\n",
       "Business class                   0.04\n",
       "No Info                          0.03\n",
       "1 Short layover                  0.01\n",
       "Red-eye flight                   0.01\n",
       "2 Long layover                   0.01\n",
       "Name: Additional_Info, dtype: float64"
      ]
     },
     "execution_count": 74,
     "metadata": {},
     "output_type": "execute_result"
    }
   ],
   "source": [
    "np.round(data['Additional_Info'].value_counts()/len(data)*100,2)"
   ]
  },
  {
   "cell_type": "code",
   "execution_count": 75,
   "id": "4abd7e2f",
   "metadata": {},
   "outputs": [
    {
     "data": {
      "text/html": [
       "<div>\n",
       "<style scoped>\n",
       "    .dataframe tbody tr th:only-of-type {\n",
       "        vertical-align: middle;\n",
       "    }\n",
       "\n",
       "    .dataframe tbody tr th {\n",
       "        vertical-align: top;\n",
       "    }\n",
       "\n",
       "    .dataframe thead th {\n",
       "        text-align: right;\n",
       "    }\n",
       "</style>\n",
       "<table border=\"1\" class=\"dataframe\">\n",
       "  <thead>\n",
       "    <tr style=\"text-align: right;\">\n",
       "      <th></th>\n",
       "      <th>Airline</th>\n",
       "      <th>Source</th>\n",
       "      <th>Destination</th>\n",
       "      <th>Route</th>\n",
       "      <th>Duration</th>\n",
       "      <th>Total_Stops</th>\n",
       "      <th>Additional_Info</th>\n",
       "      <th>Price</th>\n",
       "      <th>Journey_day</th>\n",
       "      <th>Journey_month</th>\n",
       "      <th>Journey_year</th>\n",
       "      <th>Dep_Time_hour</th>\n",
       "      <th>Dep_Time_minute</th>\n",
       "      <th>Arrival_Time_hour</th>\n",
       "      <th>Arrival_Time_minute</th>\n",
       "      <th>Duration_hour</th>\n",
       "      <th>Duration_minutes</th>\n",
       "      <th>Duration_total_minutes</th>\n",
       "    </tr>\n",
       "  </thead>\n",
       "  <tbody>\n",
       "    <tr>\n",
       "      <th>0</th>\n",
       "      <td>IndiGo</td>\n",
       "      <td>Banglore</td>\n",
       "      <td>New Delhi</td>\n",
       "      <td>BLR → DEL</td>\n",
       "      <td>2h 50m</td>\n",
       "      <td>non-stop</td>\n",
       "      <td>No info</td>\n",
       "      <td>3897</td>\n",
       "      <td>24</td>\n",
       "      <td>3</td>\n",
       "      <td>2019</td>\n",
       "      <td>22</td>\n",
       "      <td>20</td>\n",
       "      <td>1</td>\n",
       "      <td>10</td>\n",
       "      <td>2</td>\n",
       "      <td>50</td>\n",
       "      <td>170</td>\n",
       "    </tr>\n",
       "    <tr>\n",
       "      <th>1</th>\n",
       "      <td>Air India</td>\n",
       "      <td>Kolkata</td>\n",
       "      <td>Banglore</td>\n",
       "      <td>CCU → IXR → BBI → BLR</td>\n",
       "      <td>7h 25m</td>\n",
       "      <td>2 stops</td>\n",
       "      <td>No info</td>\n",
       "      <td>7662</td>\n",
       "      <td>5</td>\n",
       "      <td>1</td>\n",
       "      <td>2019</td>\n",
       "      <td>5</td>\n",
       "      <td>50</td>\n",
       "      <td>13</td>\n",
       "      <td>15</td>\n",
       "      <td>2</td>\n",
       "      <td>50</td>\n",
       "      <td>445</td>\n",
       "    </tr>\n",
       "    <tr>\n",
       "      <th>2</th>\n",
       "      <td>Jet Airways</td>\n",
       "      <td>Delhi</td>\n",
       "      <td>Cochin</td>\n",
       "      <td>DEL → LKO → BOM → COK</td>\n",
       "      <td>19h 0m</td>\n",
       "      <td>2 stops</td>\n",
       "      <td>No info</td>\n",
       "      <td>13882</td>\n",
       "      <td>6</td>\n",
       "      <td>9</td>\n",
       "      <td>2019</td>\n",
       "      <td>9</td>\n",
       "      <td>25</td>\n",
       "      <td>4</td>\n",
       "      <td>25</td>\n",
       "      <td>2</td>\n",
       "      <td>50</td>\n",
       "      <td>1140</td>\n",
       "    </tr>\n",
       "  </tbody>\n",
       "</table>\n",
       "</div>"
      ],
      "text/plain": [
       "       Airline    Source Destination                  Route Duration  \\\n",
       "0       IndiGo  Banglore   New Delhi              BLR → DEL   2h 50m   \n",
       "1    Air India   Kolkata    Banglore  CCU → IXR → BBI → BLR   7h 25m   \n",
       "2  Jet Airways     Delhi      Cochin  DEL → LKO → BOM → COK   19h 0m   \n",
       "\n",
       "  Total_Stops Additional_Info  Price  Journey_day  Journey_month  \\\n",
       "0    non-stop         No info   3897           24              3   \n",
       "1     2 stops         No info   7662            5              1   \n",
       "2     2 stops         No info  13882            6              9   \n",
       "\n",
       "   Journey_year  Dep_Time_hour  Dep_Time_minute  Arrival_Time_hour  \\\n",
       "0          2019             22               20                  1   \n",
       "1          2019              5               50                 13   \n",
       "2          2019              9               25                  4   \n",
       "\n",
       "   Arrival_Time_minute  Duration_hour  Duration_minutes  \\\n",
       "0                   10              2                50   \n",
       "1                   15              2                50   \n",
       "2                   25              2                50   \n",
       "\n",
       "   Duration_total_minutes  \n",
       "0                     170  \n",
       "1                     445  \n",
       "2                    1140  "
      ]
     },
     "execution_count": 75,
     "metadata": {},
     "output_type": "execute_result"
    }
   ],
   "source": [
    "### Dropping the features not needed\n",
    "data.head(3)"
   ]
  },
  {
   "cell_type": "code",
   "execution_count": 76,
   "id": "c83c30f4",
   "metadata": {},
   "outputs": [],
   "source": [
    "data.drop(columns=['Additional_Info', 'Route', 'Duration_total_minutes', 'Journey_year'], axis = 1, inplace = True)"
   ]
  },
  {
   "cell_type": "code",
   "execution_count": 77,
   "id": "6acc9255",
   "metadata": {},
   "outputs": [
    {
     "data": {
      "text/plain": [
       "Index(['Airline', 'Source', 'Destination', 'Duration', 'Total_Stops', 'Price',\n",
       "       'Journey_day', 'Journey_month', 'Dep_Time_hour', 'Dep_Time_minute',\n",
       "       'Arrival_Time_hour', 'Arrival_Time_minute', 'Duration_hour',\n",
       "       'Duration_minutes'],\n",
       "      dtype='object')"
      ]
     },
     "execution_count": 77,
     "metadata": {},
     "output_type": "execute_result"
    }
   ],
   "source": [
    "data.columns"
   ]
  },
  {
   "cell_type": "code",
   "execution_count": 78,
   "id": "189f1ac3",
   "metadata": {},
   "outputs": [
    {
     "data": {
      "text/html": [
       "<div>\n",
       "<style scoped>\n",
       "    .dataframe tbody tr th:only-of-type {\n",
       "        vertical-align: middle;\n",
       "    }\n",
       "\n",
       "    .dataframe tbody tr th {\n",
       "        vertical-align: top;\n",
       "    }\n",
       "\n",
       "    .dataframe thead th {\n",
       "        text-align: right;\n",
       "    }\n",
       "</style>\n",
       "<table border=\"1\" class=\"dataframe\">\n",
       "  <thead>\n",
       "    <tr style=\"text-align: right;\">\n",
       "      <th></th>\n",
       "      <th>Airline</th>\n",
       "      <th>Source</th>\n",
       "      <th>Destination</th>\n",
       "      <th>Duration</th>\n",
       "      <th>Total_Stops</th>\n",
       "      <th>Price</th>\n",
       "      <th>Journey_day</th>\n",
       "      <th>Journey_month</th>\n",
       "      <th>Dep_Time_hour</th>\n",
       "      <th>Dep_Time_minute</th>\n",
       "      <th>Arrival_Time_hour</th>\n",
       "      <th>Arrival_Time_minute</th>\n",
       "      <th>Duration_hour</th>\n",
       "      <th>Duration_minutes</th>\n",
       "    </tr>\n",
       "  </thead>\n",
       "  <tbody>\n",
       "    <tr>\n",
       "      <th>0</th>\n",
       "      <td>IndiGo</td>\n",
       "      <td>Banglore</td>\n",
       "      <td>New Delhi</td>\n",
       "      <td>2h 50m</td>\n",
       "      <td>non-stop</td>\n",
       "      <td>3897</td>\n",
       "      <td>24</td>\n",
       "      <td>3</td>\n",
       "      <td>22</td>\n",
       "      <td>20</td>\n",
       "      <td>1</td>\n",
       "      <td>10</td>\n",
       "      <td>2</td>\n",
       "      <td>50</td>\n",
       "    </tr>\n",
       "    <tr>\n",
       "      <th>1</th>\n",
       "      <td>Air India</td>\n",
       "      <td>Kolkata</td>\n",
       "      <td>Banglore</td>\n",
       "      <td>7h 25m</td>\n",
       "      <td>2 stops</td>\n",
       "      <td>7662</td>\n",
       "      <td>5</td>\n",
       "      <td>1</td>\n",
       "      <td>5</td>\n",
       "      <td>50</td>\n",
       "      <td>13</td>\n",
       "      <td>15</td>\n",
       "      <td>2</td>\n",
       "      <td>50</td>\n",
       "    </tr>\n",
       "    <tr>\n",
       "      <th>2</th>\n",
       "      <td>Jet Airways</td>\n",
       "      <td>Delhi</td>\n",
       "      <td>Cochin</td>\n",
       "      <td>19h 0m</td>\n",
       "      <td>2 stops</td>\n",
       "      <td>13882</td>\n",
       "      <td>6</td>\n",
       "      <td>9</td>\n",
       "      <td>9</td>\n",
       "      <td>25</td>\n",
       "      <td>4</td>\n",
       "      <td>25</td>\n",
       "      <td>2</td>\n",
       "      <td>50</td>\n",
       "    </tr>\n",
       "  </tbody>\n",
       "</table>\n",
       "</div>"
      ],
      "text/plain": [
       "       Airline    Source Destination Duration Total_Stops  Price  Journey_day  \\\n",
       "0       IndiGo  Banglore   New Delhi   2h 50m    non-stop   3897           24   \n",
       "1    Air India   Kolkata    Banglore   7h 25m     2 stops   7662            5   \n",
       "2  Jet Airways     Delhi      Cochin   19h 0m     2 stops  13882            6   \n",
       "\n",
       "   Journey_month  Dep_Time_hour  Dep_Time_minute  Arrival_Time_hour  \\\n",
       "0              3             22               20                  1   \n",
       "1              1              5               50                 13   \n",
       "2              9              9               25                  4   \n",
       "\n",
       "   Arrival_Time_minute  Duration_hour  Duration_minutes  \n",
       "0                   10              2                50  \n",
       "1                   15              2                50  \n",
       "2                   25              2                50  "
      ]
     },
     "execution_count": 78,
     "metadata": {},
     "output_type": "execute_result"
    }
   ],
   "source": [
    "data.head(3)"
   ]
  },
  {
   "cell_type": "code",
   "execution_count": 79,
   "id": "3feb6019",
   "metadata": {},
   "outputs": [],
   "source": [
    "### Applying one-hot encoding on categoral data"
   ]
  },
  {
   "cell_type": "code",
   "execution_count": 80,
   "id": "ebd65df0",
   "metadata": {},
   "outputs": [],
   "source": [
    "# Categorcial columns\n",
    "cat_col = [col for col in data.columns if data[col].dtype=='object']"
   ]
  },
  {
   "cell_type": "code",
   "execution_count": 81,
   "id": "91477df8",
   "metadata": {},
   "outputs": [],
   "source": [
    "# numerical columns\n",
    "num_col = [col for col in data.columns if data[col].dtype!='object']"
   ]
  },
  {
   "cell_type": "code",
   "execution_count": 82,
   "id": "6e3938ba",
   "metadata": {},
   "outputs": [
    {
     "data": {
      "text/plain": [
       "['Airline', 'Source', 'Destination', 'Duration', 'Total_Stops']"
      ]
     },
     "execution_count": 82,
     "metadata": {},
     "output_type": "execute_result"
    }
   ],
   "source": [
    "cat_col"
   ]
  },
  {
   "cell_type": "code",
   "execution_count": 83,
   "id": "cbd11f2e",
   "metadata": {},
   "outputs": [
    {
     "data": {
      "text/plain": [
       "['Price',\n",
       " 'Journey_day',\n",
       " 'Journey_month',\n",
       " 'Dep_Time_hour',\n",
       " 'Dep_Time_minute',\n",
       " 'Arrival_Time_hour',\n",
       " 'Arrival_Time_minute',\n",
       " 'Duration_hour',\n",
       " 'Duration_minutes']"
      ]
     },
     "execution_count": 83,
     "metadata": {},
     "output_type": "execute_result"
    }
   ],
   "source": [
    "num_col"
   ]
  },
  {
   "cell_type": "code",
   "execution_count": 84,
   "id": "fdbf790f",
   "metadata": {},
   "outputs": [
    {
     "data": {
      "text/plain": [
       "array(['Banglore', 'Kolkata', 'Delhi', 'Chennai', 'Mumbai'], dtype=object)"
      ]
     },
     "execution_count": 84,
     "metadata": {},
     "output_type": "execute_result"
    }
   ],
   "source": [
    "data['Source'].unique()"
   ]
  },
  {
   "cell_type": "code",
   "execution_count": 85,
   "id": "1f1006be",
   "metadata": {},
   "outputs": [
    {
     "data": {
      "text/plain": [
       "0        Banglore\n",
       "1         Kolkata\n",
       "2           Delhi\n",
       "3         Kolkata\n",
       "4        Banglore\n",
       "           ...   \n",
       "10678     Kolkata\n",
       "10679     Kolkata\n",
       "10680    Banglore\n",
       "10681    Banglore\n",
       "10682       Delhi\n",
       "Name: Source, Length: 10682, dtype: object"
      ]
     },
     "execution_count": 85,
     "metadata": {},
     "output_type": "execute_result"
    }
   ],
   "source": [
    "data['Source']"
   ]
  },
  {
   "cell_type": "code",
   "execution_count": 86,
   "id": "15e8be67",
   "metadata": {},
   "outputs": [
    {
     "data": {
      "text/plain": [
       "0        1\n",
       "1        0\n",
       "2        0\n",
       "3        0\n",
       "4        1\n",
       "        ..\n",
       "10678    0\n",
       "10679    0\n",
       "10680    1\n",
       "10681    1\n",
       "10682    0\n",
       "Name: Source, Length: 10682, dtype: int64"
      ]
     },
     "execution_count": 86,
     "metadata": {},
     "output_type": "execute_result"
    }
   ],
   "source": [
    "data['Source'].apply(lambda x: 1 if x=='Banglore' else 0)"
   ]
  },
  {
   "cell_type": "code",
   "execution_count": 87,
   "id": "f4ff60a0",
   "metadata": {},
   "outputs": [],
   "source": [
    "for category in data['Source'].unique():\n",
    "    data['Source_'+category] = data['Source'].apply(lambda x: 1 if x==category else 0)"
   ]
  },
  {
   "cell_type": "code",
   "execution_count": 88,
   "id": "d1e1b6fc",
   "metadata": {},
   "outputs": [
    {
     "data": {
      "text/html": [
       "<div>\n",
       "<style scoped>\n",
       "    .dataframe tbody tr th:only-of-type {\n",
       "        vertical-align: middle;\n",
       "    }\n",
       "\n",
       "    .dataframe tbody tr th {\n",
       "        vertical-align: top;\n",
       "    }\n",
       "\n",
       "    .dataframe thead th {\n",
       "        text-align: right;\n",
       "    }\n",
       "</style>\n",
       "<table border=\"1\" class=\"dataframe\">\n",
       "  <thead>\n",
       "    <tr style=\"text-align: right;\">\n",
       "      <th></th>\n",
       "      <th>Airline</th>\n",
       "      <th>Source</th>\n",
       "      <th>Destination</th>\n",
       "      <th>Duration</th>\n",
       "      <th>Total_Stops</th>\n",
       "      <th>Price</th>\n",
       "      <th>Journey_day</th>\n",
       "      <th>Journey_month</th>\n",
       "      <th>Dep_Time_hour</th>\n",
       "      <th>Dep_Time_minute</th>\n",
       "      <th>Arrival_Time_hour</th>\n",
       "      <th>Arrival_Time_minute</th>\n",
       "      <th>Duration_hour</th>\n",
       "      <th>Duration_minutes</th>\n",
       "      <th>Source_Banglore</th>\n",
       "      <th>Source_Kolkata</th>\n",
       "      <th>Source_Delhi</th>\n",
       "      <th>Source_Chennai</th>\n",
       "      <th>Source_Mumbai</th>\n",
       "    </tr>\n",
       "  </thead>\n",
       "  <tbody>\n",
       "    <tr>\n",
       "      <th>0</th>\n",
       "      <td>IndiGo</td>\n",
       "      <td>Banglore</td>\n",
       "      <td>New Delhi</td>\n",
       "      <td>2h 50m</td>\n",
       "      <td>non-stop</td>\n",
       "      <td>3897</td>\n",
       "      <td>24</td>\n",
       "      <td>3</td>\n",
       "      <td>22</td>\n",
       "      <td>20</td>\n",
       "      <td>1</td>\n",
       "      <td>10</td>\n",
       "      <td>2</td>\n",
       "      <td>50</td>\n",
       "      <td>1</td>\n",
       "      <td>0</td>\n",
       "      <td>0</td>\n",
       "      <td>0</td>\n",
       "      <td>0</td>\n",
       "    </tr>\n",
       "    <tr>\n",
       "      <th>1</th>\n",
       "      <td>Air India</td>\n",
       "      <td>Kolkata</td>\n",
       "      <td>Banglore</td>\n",
       "      <td>7h 25m</td>\n",
       "      <td>2 stops</td>\n",
       "      <td>7662</td>\n",
       "      <td>5</td>\n",
       "      <td>1</td>\n",
       "      <td>5</td>\n",
       "      <td>50</td>\n",
       "      <td>13</td>\n",
       "      <td>15</td>\n",
       "      <td>2</td>\n",
       "      <td>50</td>\n",
       "      <td>0</td>\n",
       "      <td>1</td>\n",
       "      <td>0</td>\n",
       "      <td>0</td>\n",
       "      <td>0</td>\n",
       "    </tr>\n",
       "    <tr>\n",
       "      <th>2</th>\n",
       "      <td>Jet Airways</td>\n",
       "      <td>Delhi</td>\n",
       "      <td>Cochin</td>\n",
       "      <td>19h 0m</td>\n",
       "      <td>2 stops</td>\n",
       "      <td>13882</td>\n",
       "      <td>6</td>\n",
       "      <td>9</td>\n",
       "      <td>9</td>\n",
       "      <td>25</td>\n",
       "      <td>4</td>\n",
       "      <td>25</td>\n",
       "      <td>2</td>\n",
       "      <td>50</td>\n",
       "      <td>0</td>\n",
       "      <td>0</td>\n",
       "      <td>1</td>\n",
       "      <td>0</td>\n",
       "      <td>0</td>\n",
       "    </tr>\n",
       "  </tbody>\n",
       "</table>\n",
       "</div>"
      ],
      "text/plain": [
       "       Airline    Source Destination Duration Total_Stops  Price  Journey_day  \\\n",
       "0       IndiGo  Banglore   New Delhi   2h 50m    non-stop   3897           24   \n",
       "1    Air India   Kolkata    Banglore   7h 25m     2 stops   7662            5   \n",
       "2  Jet Airways     Delhi      Cochin   19h 0m     2 stops  13882            6   \n",
       "\n",
       "   Journey_month  Dep_Time_hour  Dep_Time_minute  Arrival_Time_hour  \\\n",
       "0              3             22               20                  1   \n",
       "1              1              5               50                 13   \n",
       "2              9              9               25                  4   \n",
       "\n",
       "   Arrival_Time_minute  Duration_hour  Duration_minutes  Source_Banglore  \\\n",
       "0                   10              2                50                1   \n",
       "1                   15              2                50                0   \n",
       "2                   25              2                50                0   \n",
       "\n",
       "   Source_Kolkata  Source_Delhi  Source_Chennai  Source_Mumbai  \n",
       "0               0             0               0              0  \n",
       "1               1             0               0              0  \n",
       "2               0             1               0              0  "
      ]
     },
     "execution_count": 88,
     "metadata": {},
     "output_type": "execute_result"
    }
   ],
   "source": [
    "data.head(3)"
   ]
  },
  {
   "cell_type": "markdown",
   "id": "3def3cae",
   "metadata": {},
   "source": [
    "#### Applying target guided encoding on data. \n",
    "####In roder to avoid creation of multiple colummns created by one hot encoding we use this method"
   ]
  },
  {
   "cell_type": "code",
   "execution_count": 89,
   "id": "ea834301",
   "metadata": {},
   "outputs": [],
   "source": [
    "airlines = data.groupby(['Airline'])['Price'].mean().sort_values().index"
   ]
  },
  {
   "cell_type": "code",
   "execution_count": 90,
   "id": "2f494c76",
   "metadata": {},
   "outputs": [
    {
     "data": {
      "text/plain": [
       "Index(['Trujet', 'SpiceJet', 'Air Asia', 'IndiGo', 'GoAir', 'Vistara',\n",
       "       'Vistara Premium economy', 'Air India', 'Multiple carriers',\n",
       "       'Multiple carriers Premium economy', 'Jet Airways',\n",
       "       'Jet Airways Business'],\n",
       "      dtype='object', name='Airline')"
      ]
     },
     "execution_count": 90,
     "metadata": {},
     "output_type": "execute_result"
    }
   ],
   "source": [
    "airlines"
   ]
  },
  {
   "cell_type": "code",
   "execution_count": 91,
   "id": "644bfa8a",
   "metadata": {},
   "outputs": [],
   "source": [
    "dict1 = {key:index for index, key in enumerate(airlines,0)}"
   ]
  },
  {
   "cell_type": "code",
   "execution_count": 92,
   "id": "c6ee5d0e",
   "metadata": {},
   "outputs": [
    {
     "data": {
      "text/plain": [
       "{'Trujet': 0,\n",
       " 'SpiceJet': 1,\n",
       " 'Air Asia': 2,\n",
       " 'IndiGo': 3,\n",
       " 'GoAir': 4,\n",
       " 'Vistara': 5,\n",
       " 'Vistara Premium economy': 6,\n",
       " 'Air India': 7,\n",
       " 'Multiple carriers': 8,\n",
       " 'Multiple carriers Premium economy': 9,\n",
       " 'Jet Airways': 10,\n",
       " 'Jet Airways Business': 11}"
      ]
     },
     "execution_count": 92,
     "metadata": {},
     "output_type": "execute_result"
    }
   ],
   "source": [
    "dict1"
   ]
  },
  {
   "cell_type": "code",
   "execution_count": 93,
   "id": "f86d8719",
   "metadata": {},
   "outputs": [],
   "source": [
    "## Mapping the airline data into integer through the dictionary created above\n",
    "data['Airline']=data['Airline'].map(dict1)"
   ]
  },
  {
   "cell_type": "code",
   "execution_count": 94,
   "id": "4238e4d1",
   "metadata": {},
   "outputs": [
    {
     "data": {
      "text/plain": [
       "0         3\n",
       "1         7\n",
       "2        10\n",
       "3         3\n",
       "4         3\n",
       "         ..\n",
       "10678     2\n",
       "10679     7\n",
       "10680    10\n",
       "10681     5\n",
       "10682     7\n",
       "Name: Airline, Length: 10682, dtype: int64"
      ]
     },
     "execution_count": 94,
     "metadata": {},
     "output_type": "execute_result"
    }
   ],
   "source": [
    "data['Airline']"
   ]
  },
  {
   "cell_type": "code",
   "execution_count": 95,
   "id": "89fb6193",
   "metadata": {},
   "outputs": [
    {
     "data": {
      "text/html": [
       "<div>\n",
       "<style scoped>\n",
       "    .dataframe tbody tr th:only-of-type {\n",
       "        vertical-align: middle;\n",
       "    }\n",
       "\n",
       "    .dataframe tbody tr th {\n",
       "        vertical-align: top;\n",
       "    }\n",
       "\n",
       "    .dataframe thead th {\n",
       "        text-align: right;\n",
       "    }\n",
       "</style>\n",
       "<table border=\"1\" class=\"dataframe\">\n",
       "  <thead>\n",
       "    <tr style=\"text-align: right;\">\n",
       "      <th></th>\n",
       "      <th>Airline</th>\n",
       "      <th>Source</th>\n",
       "      <th>Destination</th>\n",
       "      <th>Duration</th>\n",
       "      <th>Total_Stops</th>\n",
       "      <th>Price</th>\n",
       "      <th>Journey_day</th>\n",
       "      <th>Journey_month</th>\n",
       "      <th>Dep_Time_hour</th>\n",
       "      <th>Dep_Time_minute</th>\n",
       "      <th>Arrival_Time_hour</th>\n",
       "      <th>Arrival_Time_minute</th>\n",
       "      <th>Duration_hour</th>\n",
       "      <th>Duration_minutes</th>\n",
       "      <th>Source_Banglore</th>\n",
       "      <th>Source_Kolkata</th>\n",
       "      <th>Source_Delhi</th>\n",
       "      <th>Source_Chennai</th>\n",
       "      <th>Source_Mumbai</th>\n",
       "    </tr>\n",
       "  </thead>\n",
       "  <tbody>\n",
       "    <tr>\n",
       "      <th>0</th>\n",
       "      <td>3</td>\n",
       "      <td>Banglore</td>\n",
       "      <td>New Delhi</td>\n",
       "      <td>2h 50m</td>\n",
       "      <td>non-stop</td>\n",
       "      <td>3897</td>\n",
       "      <td>24</td>\n",
       "      <td>3</td>\n",
       "      <td>22</td>\n",
       "      <td>20</td>\n",
       "      <td>1</td>\n",
       "      <td>10</td>\n",
       "      <td>2</td>\n",
       "      <td>50</td>\n",
       "      <td>1</td>\n",
       "      <td>0</td>\n",
       "      <td>0</td>\n",
       "      <td>0</td>\n",
       "      <td>0</td>\n",
       "    </tr>\n",
       "    <tr>\n",
       "      <th>1</th>\n",
       "      <td>7</td>\n",
       "      <td>Kolkata</td>\n",
       "      <td>Banglore</td>\n",
       "      <td>7h 25m</td>\n",
       "      <td>2 stops</td>\n",
       "      <td>7662</td>\n",
       "      <td>5</td>\n",
       "      <td>1</td>\n",
       "      <td>5</td>\n",
       "      <td>50</td>\n",
       "      <td>13</td>\n",
       "      <td>15</td>\n",
       "      <td>2</td>\n",
       "      <td>50</td>\n",
       "      <td>0</td>\n",
       "      <td>1</td>\n",
       "      <td>0</td>\n",
       "      <td>0</td>\n",
       "      <td>0</td>\n",
       "    </tr>\n",
       "  </tbody>\n",
       "</table>\n",
       "</div>"
      ],
      "text/plain": [
       "   Airline    Source Destination Duration Total_Stops  Price  Journey_day  \\\n",
       "0        3  Banglore   New Delhi   2h 50m    non-stop   3897           24   \n",
       "1        7   Kolkata    Banglore   7h 25m     2 stops   7662            5   \n",
       "\n",
       "   Journey_month  Dep_Time_hour  Dep_Time_minute  Arrival_Time_hour  \\\n",
       "0              3             22               20                  1   \n",
       "1              1              5               50                 13   \n",
       "\n",
       "   Arrival_Time_minute  Duration_hour  Duration_minutes  Source_Banglore  \\\n",
       "0                   10              2                50                1   \n",
       "1                   15              2                50                0   \n",
       "\n",
       "   Source_Kolkata  Source_Delhi  Source_Chennai  Source_Mumbai  \n",
       "0               0             0               0              0  \n",
       "1               1             0               0              0  "
      ]
     },
     "execution_count": 95,
     "metadata": {},
     "output_type": "execute_result"
    }
   ],
   "source": [
    "data.head(2)"
   ]
  },
  {
   "cell_type": "code",
   "execution_count": 96,
   "id": "174d33e4",
   "metadata": {},
   "outputs": [
    {
     "data": {
      "text/plain": [
       "array(['New Delhi', 'Banglore', 'Cochin', 'Kolkata', 'Delhi', 'Hyderabad'],\n",
       "      dtype=object)"
      ]
     },
     "execution_count": 96,
     "metadata": {},
     "output_type": "execute_result"
    }
   ],
   "source": [
    "## Delhi and New delhi have same airport\n",
    "data['Destination'].unique()"
   ]
  },
  {
   "cell_type": "code",
   "execution_count": 97,
   "id": "545c4ada",
   "metadata": {},
   "outputs": [],
   "source": [
    "# replacing new delhi with delhi\n",
    "data['Destination'].replace('New Delhi', 'Delhi', inplace = True)"
   ]
  },
  {
   "cell_type": "code",
   "execution_count": 98,
   "id": "2b4f7c21",
   "metadata": {},
   "outputs": [
    {
     "data": {
      "text/plain": [
       "array(['Delhi', 'Banglore', 'Cochin', 'Kolkata', 'Hyderabad'],\n",
       "      dtype=object)"
      ]
     },
     "execution_count": 98,
     "metadata": {},
     "output_type": "execute_result"
    }
   ],
   "source": [
    "data['Destination'].unique()"
   ]
  },
  {
   "cell_type": "code",
   "execution_count": 99,
   "id": "316ea0c6",
   "metadata": {},
   "outputs": [],
   "source": [
    "dest = data.groupby(['Destination'])['Price'].mean().sort_values().index"
   ]
  },
  {
   "cell_type": "code",
   "execution_count": 100,
   "id": "9539355a",
   "metadata": {},
   "outputs": [
    {
     "data": {
      "text/plain": [
       "Index(['Kolkata', 'Hyderabad', 'Delhi', 'Banglore', 'Cochin'], dtype='object', name='Destination')"
      ]
     },
     "execution_count": 100,
     "metadata": {},
     "output_type": "execute_result"
    }
   ],
   "source": [
    "dest"
   ]
  },
  {
   "cell_type": "code",
   "execution_count": 101,
   "id": "0c87bf12",
   "metadata": {},
   "outputs": [],
   "source": [
    "dict2 = {key:index for index, key in enumerate(dest,0)}"
   ]
  },
  {
   "cell_type": "code",
   "execution_count": 102,
   "id": "9fdaadb3",
   "metadata": {},
   "outputs": [
    {
     "data": {
      "text/plain": [
       "{'Kolkata': 0, 'Hyderabad': 1, 'Delhi': 2, 'Banglore': 3, 'Cochin': 4}"
      ]
     },
     "execution_count": 102,
     "metadata": {},
     "output_type": "execute_result"
    }
   ],
   "source": [
    "dict2"
   ]
  },
  {
   "cell_type": "code",
   "execution_count": 103,
   "id": "e895dc59",
   "metadata": {},
   "outputs": [],
   "source": [
    "data['Destination'] = data['Destination'].map(dict2)"
   ]
  },
  {
   "cell_type": "code",
   "execution_count": 104,
   "id": "60f755cb",
   "metadata": {},
   "outputs": [
    {
     "data": {
      "text/plain": [
       "0        2\n",
       "1        3\n",
       "2        4\n",
       "3        3\n",
       "4        2\n",
       "        ..\n",
       "10678    3\n",
       "10679    3\n",
       "10680    2\n",
       "10681    2\n",
       "10682    4\n",
       "Name: Destination, Length: 10682, dtype: int64"
      ]
     },
     "execution_count": 104,
     "metadata": {},
     "output_type": "execute_result"
    }
   ],
   "source": [
    "data['Destination']"
   ]
  },
  {
   "cell_type": "code",
   "execution_count": 105,
   "id": "8165b07b",
   "metadata": {},
   "outputs": [
    {
     "data": {
      "text/html": [
       "<div>\n",
       "<style scoped>\n",
       "    .dataframe tbody tr th:only-of-type {\n",
       "        vertical-align: middle;\n",
       "    }\n",
       "\n",
       "    .dataframe tbody tr th {\n",
       "        vertical-align: top;\n",
       "    }\n",
       "\n",
       "    .dataframe thead th {\n",
       "        text-align: right;\n",
       "    }\n",
       "</style>\n",
       "<table border=\"1\" class=\"dataframe\">\n",
       "  <thead>\n",
       "    <tr style=\"text-align: right;\">\n",
       "      <th></th>\n",
       "      <th>Airline</th>\n",
       "      <th>Source</th>\n",
       "      <th>Destination</th>\n",
       "      <th>Duration</th>\n",
       "      <th>Total_Stops</th>\n",
       "      <th>Price</th>\n",
       "      <th>Journey_day</th>\n",
       "      <th>Journey_month</th>\n",
       "      <th>Dep_Time_hour</th>\n",
       "      <th>Dep_Time_minute</th>\n",
       "      <th>Arrival_Time_hour</th>\n",
       "      <th>Arrival_Time_minute</th>\n",
       "      <th>Duration_hour</th>\n",
       "      <th>Duration_minutes</th>\n",
       "      <th>Source_Banglore</th>\n",
       "      <th>Source_Kolkata</th>\n",
       "      <th>Source_Delhi</th>\n",
       "      <th>Source_Chennai</th>\n",
       "      <th>Source_Mumbai</th>\n",
       "    </tr>\n",
       "  </thead>\n",
       "  <tbody>\n",
       "    <tr>\n",
       "      <th>0</th>\n",
       "      <td>3</td>\n",
       "      <td>Banglore</td>\n",
       "      <td>2</td>\n",
       "      <td>2h 50m</td>\n",
       "      <td>non-stop</td>\n",
       "      <td>3897</td>\n",
       "      <td>24</td>\n",
       "      <td>3</td>\n",
       "      <td>22</td>\n",
       "      <td>20</td>\n",
       "      <td>1</td>\n",
       "      <td>10</td>\n",
       "      <td>2</td>\n",
       "      <td>50</td>\n",
       "      <td>1</td>\n",
       "      <td>0</td>\n",
       "      <td>0</td>\n",
       "      <td>0</td>\n",
       "      <td>0</td>\n",
       "    </tr>\n",
       "    <tr>\n",
       "      <th>1</th>\n",
       "      <td>7</td>\n",
       "      <td>Kolkata</td>\n",
       "      <td>3</td>\n",
       "      <td>7h 25m</td>\n",
       "      <td>2 stops</td>\n",
       "      <td>7662</td>\n",
       "      <td>5</td>\n",
       "      <td>1</td>\n",
       "      <td>5</td>\n",
       "      <td>50</td>\n",
       "      <td>13</td>\n",
       "      <td>15</td>\n",
       "      <td>2</td>\n",
       "      <td>50</td>\n",
       "      <td>0</td>\n",
       "      <td>1</td>\n",
       "      <td>0</td>\n",
       "      <td>0</td>\n",
       "      <td>0</td>\n",
       "    </tr>\n",
       "  </tbody>\n",
       "</table>\n",
       "</div>"
      ],
      "text/plain": [
       "   Airline    Source  Destination Duration Total_Stops  Price  Journey_day  \\\n",
       "0        3  Banglore            2   2h 50m    non-stop   3897           24   \n",
       "1        7   Kolkata            3   7h 25m     2 stops   7662            5   \n",
       "\n",
       "   Journey_month  Dep_Time_hour  Dep_Time_minute  Arrival_Time_hour  \\\n",
       "0              3             22               20                  1   \n",
       "1              1              5               50                 13   \n",
       "\n",
       "   Arrival_Time_minute  Duration_hour  Duration_minutes  Source_Banglore  \\\n",
       "0                   10              2                50                1   \n",
       "1                   15              2                50                0   \n",
       "\n",
       "   Source_Kolkata  Source_Delhi  Source_Chennai  Source_Mumbai  \n",
       "0               0             0               0              0  \n",
       "1               1             0               0              0  "
      ]
     },
     "execution_count": 105,
     "metadata": {},
     "output_type": "execute_result"
    }
   ],
   "source": [
    "data.head(2)"
   ]
  },
  {
   "cell_type": "code",
   "execution_count": 106,
   "id": "e19e8aef",
   "metadata": {},
   "outputs": [
    {
     "data": {
      "text/plain": [
       "array(['non-stop', '2 stops', '1 stop', '3 stops', '4 stops'],\n",
       "      dtype=object)"
      ]
     },
     "execution_count": 106,
     "metadata": {},
     "output_type": "execute_result"
    }
   ],
   "source": [
    "data['Total_Stops'].unique()"
   ]
  },
  {
   "cell_type": "code",
   "execution_count": 107,
   "id": "05a1c026",
   "metadata": {},
   "outputs": [],
   "source": [
    "stops={'non-stop':0, '2 stops':2, '1 stop':1, '3 stops':3, '4 stops':4}"
   ]
  },
  {
   "cell_type": "code",
   "execution_count": 108,
   "id": "f3e24e83",
   "metadata": {},
   "outputs": [],
   "source": [
    "# MApping the Total_stops colummns with \n",
    "# the stops dictionary which we created above.\n",
    "data['Total_Stops'] = data['Total_Stops'].map(stops)"
   ]
  },
  {
   "cell_type": "code",
   "execution_count": 109,
   "id": "c0a84d77",
   "metadata": {},
   "outputs": [
    {
     "data": {
      "text/plain": [
       "0        0\n",
       "1        2\n",
       "2        2\n",
       "3        1\n",
       "4        1\n",
       "        ..\n",
       "10678    0\n",
       "10679    0\n",
       "10680    0\n",
       "10681    0\n",
       "10682    2\n",
       "Name: Total_Stops, Length: 10682, dtype: int64"
      ]
     },
     "execution_count": 109,
     "metadata": {},
     "output_type": "execute_result"
    }
   ],
   "source": [
    "data['Total_Stops']"
   ]
  },
  {
   "cell_type": "markdown",
   "id": "b759e07b",
   "metadata": {},
   "source": [
    "### Performing the outlier detection\n",
    "### How to deal with the outlier"
   ]
  },
  {
   "cell_type": "code",
   "execution_count": 110,
   "id": "59223faa",
   "metadata": {},
   "outputs": [],
   "source": [
    "def plot(df, col):\n",
    "    fig,(ax1, ax2, ax3) = plt.subplots(3,1)\n",
    "    sns.distplot(df[col], ax = ax1)\n",
    "    sns.boxplot(df[col], ax = ax2)\n",
    "    sns.distplot(df[col], ax = ax3, kde = False)"
   ]
  },
  {
   "cell_type": "code",
   "execution_count": 111,
   "id": "c512da2a",
   "metadata": {},
   "outputs": [
    {
     "name": "stderr",
     "output_type": "stream",
     "text": [
      "/var/folders/yh/z1154zn17c74v4p0c3d32jv80000gn/T/ipykernel_73165/184993094.py:3: UserWarning:\n",
      "\n",
      "\n",
      "\n",
      "`distplot` is a deprecated function and will be removed in seaborn v0.14.0.\n",
      "\n",
      "Please adapt your code to use either `displot` (a figure-level function with\n",
      "similar flexibility) or `histplot` (an axes-level function for histograms).\n",
      "\n",
      "For a guide to updating your code to use the new functions, please see\n",
      "https://gist.github.com/mwaskom/de44147ed2974457ad6372750bbe5751\n",
      "\n",
      "\n",
      "/var/folders/yh/z1154zn17c74v4p0c3d32jv80000gn/T/ipykernel_73165/184993094.py:5: UserWarning:\n",
      "\n",
      "\n",
      "\n",
      "`distplot` is a deprecated function and will be removed in seaborn v0.14.0.\n",
      "\n",
      "Please adapt your code to use either `displot` (a figure-level function with\n",
      "similar flexibility) or `histplot` (an axes-level function for histograms).\n",
      "\n",
      "For a guide to updating your code to use the new functions, please see\n",
      "https://gist.github.com/mwaskom/de44147ed2974457ad6372750bbe5751\n",
      "\n",
      "\n"
     ]
    },
    {
     "data": {
      "image/png": "[encoded data removed]",
      "text/plain": [
       "<Figure size 640x480 with 3 Axes>"
      ]
     },
     "metadata": {},
     "output_type": "display_data"
    }
   ],
   "source": [
    "## detecting outliers using plots\n",
    "plot(data, 'Price')"
   ]
  },
  {
   "cell_type": "code",
   "execution_count": 112,
   "id": "f741d844",
   "metadata": {},
   "outputs": [],
   "source": [
    "# We will replace the values of the outliers with \n",
    "# the median of the columns. Because if we use mean values \n",
    "# then it will affect our dataset badly whereas if we use \n",
    "# median if just pickups the middle value of the dataset\n",
    "# and it remains unaffected"
   ]
  },
  {
   "cell_type": "code",
   "execution_count": 113,
   "id": "a6a7ae45",
   "metadata": {},
   "outputs": [],
   "source": [
    "# Median approach\n",
    "data['Price'] = np.where(data['Price']>= 35000, data['Price'].median(), data['Price'])"
   ]
  },
  {
   "cell_type": "code",
   "execution_count": 114,
   "id": "a6f4a7ea",
   "metadata": {},
   "outputs": [
    {
     "name": "stderr",
     "output_type": "stream",
     "text": [
      "/var/folders/yh/z1154zn17c74v4p0c3d32jv80000gn/T/ipykernel_73165/184993094.py:3: UserWarning:\n",
      "\n",
      "\n",
      "\n",
      "`distplot` is a deprecated function and will be removed in seaborn v0.14.0.\n",
      "\n",
      "Please adapt your code to use either `displot` (a figure-level function with\n",
      "similar flexibility) or `histplot` (an axes-level function for histograms).\n",
      "\n",
      "For a guide to updating your code to use the new functions, please see\n",
      "https://gist.github.com/mwaskom/de44147ed2974457ad6372750bbe5751\n",
      "\n",
      "\n",
      "/var/folders/yh/z1154zn17c74v4p0c3d32jv80000gn/T/ipykernel_73165/184993094.py:5: UserWarning:\n",
      "\n",
      "\n",
      "\n",
      "`distplot` is a deprecated function and will be removed in seaborn v0.14.0.\n",
      "\n",
      "Please adapt your code to use either `displot` (a figure-level function with\n",
      "similar flexibility) or `histplot` (an axes-level function for histograms).\n",
      "\n",
      "For a guide to updating your code to use the new functions, please see\n",
      "https://gist.github.com/mwaskom/de44147ed2974457ad6372750bbe5751\n",
      "\n",
      "\n"
     ]
    },
    {
     "data": {
      "image/png": "[encoded data removed]",
      "text/plain": [
       "<Figure size 640x480 with 3 Axes>"
      ]
     },
     "metadata": {},
     "output_type": "display_data"
    }
   ],
   "source": [
    "plot(data, 'Price')"
   ]
  },
  {
   "cell_type": "markdown",
   "id": "f5926bdd",
   "metadata": {},
   "source": [
    "### Selecting best features using Feature Selection Techniques"
   ]
  },
  {
   "cell_type": "code",
   "execution_count": 115,
   "id": "3eba9786",
   "metadata": {},
   "outputs": [
    {
     "data": {
      "text/html": [
       "<div>\n",
       "<style scoped>\n",
       "    .dataframe tbody tr th:only-of-type {\n",
       "        vertical-align: middle;\n",
       "    }\n",
       "\n",
       "    .dataframe tbody tr th {\n",
       "        vertical-align: top;\n",
       "    }\n",
       "\n",
       "    .dataframe thead th {\n",
       "        text-align: right;\n",
       "    }\n",
       "</style>\n",
       "<table border=\"1\" class=\"dataframe\">\n",
       "  <thead>\n",
       "    <tr style=\"text-align: right;\">\n",
       "      <th></th>\n",
       "      <th>Airline</th>\n",
       "      <th>Source</th>\n",
       "      <th>Destination</th>\n",
       "      <th>Duration</th>\n",
       "      <th>Total_Stops</th>\n",
       "      <th>Price</th>\n",
       "      <th>Journey_day</th>\n",
       "      <th>Journey_month</th>\n",
       "      <th>Dep_Time_hour</th>\n",
       "      <th>Dep_Time_minute</th>\n",
       "      <th>Arrival_Time_hour</th>\n",
       "      <th>Arrival_Time_minute</th>\n",
       "      <th>Duration_hour</th>\n",
       "      <th>Duration_minutes</th>\n",
       "      <th>Source_Banglore</th>\n",
       "      <th>Source_Kolkata</th>\n",
       "      <th>Source_Delhi</th>\n",
       "      <th>Source_Chennai</th>\n",
       "      <th>Source_Mumbai</th>\n",
       "    </tr>\n",
       "  </thead>\n",
       "  <tbody>\n",
       "    <tr>\n",
       "      <th>0</th>\n",
       "      <td>3</td>\n",
       "      <td>Banglore</td>\n",
       "      <td>2</td>\n",
       "      <td>2h 50m</td>\n",
       "      <td>0</td>\n",
       "      <td>3897.0</td>\n",
       "      <td>24</td>\n",
       "      <td>3</td>\n",
       "      <td>22</td>\n",
       "      <td>20</td>\n",
       "      <td>1</td>\n",
       "      <td>10</td>\n",
       "      <td>2</td>\n",
       "      <td>50</td>\n",
       "      <td>1</td>\n",
       "      <td>0</td>\n",
       "      <td>0</td>\n",
       "      <td>0</td>\n",
       "      <td>0</td>\n",
       "    </tr>\n",
       "    <tr>\n",
       "      <th>1</th>\n",
       "      <td>7</td>\n",
       "      <td>Kolkata</td>\n",
       "      <td>3</td>\n",
       "      <td>7h 25m</td>\n",
       "      <td>2</td>\n",
       "      <td>7662.0</td>\n",
       "      <td>5</td>\n",
       "      <td>1</td>\n",
       "      <td>5</td>\n",
       "      <td>50</td>\n",
       "      <td>13</td>\n",
       "      <td>15</td>\n",
       "      <td>2</td>\n",
       "      <td>50</td>\n",
       "      <td>0</td>\n",
       "      <td>1</td>\n",
       "      <td>0</td>\n",
       "      <td>0</td>\n",
       "      <td>0</td>\n",
       "    </tr>\n",
       "  </tbody>\n",
       "</table>\n",
       "</div>"
      ],
      "text/plain": [
       "   Airline    Source  Destination Duration  Total_Stops   Price  Journey_day  \\\n",
       "0        3  Banglore            2   2h 50m            0  3897.0           24   \n",
       "1        7   Kolkata            3   7h 25m            2  7662.0            5   \n",
       "\n",
       "   Journey_month  Dep_Time_hour  Dep_Time_minute  Arrival_Time_hour  \\\n",
       "0              3             22               20                  1   \n",
       "1              1              5               50                 13   \n",
       "\n",
       "   Arrival_Time_minute  Duration_hour  Duration_minutes  Source_Banglore  \\\n",
       "0                   10              2                50                1   \n",
       "1                   15              2                50                0   \n",
       "\n",
       "   Source_Kolkata  Source_Delhi  Source_Chennai  Source_Mumbai  \n",
       "0               0             0               0              0  \n",
       "1               1             0               0              0  "
      ]
     },
     "execution_count": 115,
     "metadata": {},
     "output_type": "execute_result"
    }
   ],
   "source": [
    "data.head(2)"
   ]
  },
  {
   "cell_type": "code",
   "execution_count": 116,
   "id": "a72ea39f",
   "metadata": {},
   "outputs": [],
   "source": [
    "## We are only left with source and Duration as string colummns\n",
    "# so we have to remove them"
   ]
  },
  {
   "cell_type": "code",
   "execution_count": 117,
   "id": "044187af",
   "metadata": {},
   "outputs": [],
   "source": [
    "data.drop(columns=['Source', 'Duration'], axis = 1, inplace = True)"
   ]
  },
  {
   "cell_type": "code",
   "execution_count": 118,
   "id": "8a0a5575",
   "metadata": {},
   "outputs": [
    {
     "data": {
      "text/html": [
       "<div>\n",
       "<style scoped>\n",
       "    .dataframe tbody tr th:only-of-type {\n",
       "        vertical-align: middle;\n",
       "    }\n",
       "\n",
       "    .dataframe tbody tr th {\n",
       "        vertical-align: top;\n",
       "    }\n",
       "\n",
       "    .dataframe thead th {\n",
       "        text-align: right;\n",
       "    }\n",
       "</style>\n",
       "<table border=\"1\" class=\"dataframe\">\n",
       "  <thead>\n",
       "    <tr style=\"text-align: right;\">\n",
       "      <th></th>\n",
       "      <th>Airline</th>\n",
       "      <th>Destination</th>\n",
       "      <th>Total_Stops</th>\n",
       "      <th>Price</th>\n",
       "      <th>Journey_day</th>\n",
       "      <th>Journey_month</th>\n",
       "      <th>Dep_Time_hour</th>\n",
       "      <th>Dep_Time_minute</th>\n",
       "      <th>Arrival_Time_hour</th>\n",
       "      <th>Arrival_Time_minute</th>\n",
       "      <th>Duration_hour</th>\n",
       "      <th>Duration_minutes</th>\n",
       "      <th>Source_Banglore</th>\n",
       "      <th>Source_Kolkata</th>\n",
       "      <th>Source_Delhi</th>\n",
       "      <th>Source_Chennai</th>\n",
       "      <th>Source_Mumbai</th>\n",
       "    </tr>\n",
       "  </thead>\n",
       "  <tbody>\n",
       "    <tr>\n",
       "      <th>0</th>\n",
       "      <td>3</td>\n",
       "      <td>2</td>\n",
       "      <td>0</td>\n",
       "      <td>3897.0</td>\n",
       "      <td>24</td>\n",
       "      <td>3</td>\n",
       "      <td>22</td>\n",
       "      <td>20</td>\n",
       "      <td>1</td>\n",
       "      <td>10</td>\n",
       "      <td>2</td>\n",
       "      <td>50</td>\n",
       "      <td>1</td>\n",
       "      <td>0</td>\n",
       "      <td>0</td>\n",
       "      <td>0</td>\n",
       "      <td>0</td>\n",
       "    </tr>\n",
       "    <tr>\n",
       "      <th>1</th>\n",
       "      <td>7</td>\n",
       "      <td>3</td>\n",
       "      <td>2</td>\n",
       "      <td>7662.0</td>\n",
       "      <td>5</td>\n",
       "      <td>1</td>\n",
       "      <td>5</td>\n",
       "      <td>50</td>\n",
       "      <td>13</td>\n",
       "      <td>15</td>\n",
       "      <td>2</td>\n",
       "      <td>50</td>\n",
       "      <td>0</td>\n",
       "      <td>1</td>\n",
       "      <td>0</td>\n",
       "      <td>0</td>\n",
       "      <td>0</td>\n",
       "    </tr>\n",
       "  </tbody>\n",
       "</table>\n",
       "</div>"
      ],
      "text/plain": [
       "   Airline  Destination  Total_Stops   Price  Journey_day  Journey_month  \\\n",
       "0        3            2            0  3897.0           24              3   \n",
       "1        7            3            2  7662.0            5              1   \n",
       "\n",
       "   Dep_Time_hour  Dep_Time_minute  Arrival_Time_hour  Arrival_Time_minute  \\\n",
       "0             22               20                  1                   10   \n",
       "1              5               50                 13                   15   \n",
       "\n",
       "   Duration_hour  Duration_minutes  Source_Banglore  Source_Kolkata  \\\n",
       "0              2                50                1               0   \n",
       "1              2                50                0               1   \n",
       "\n",
       "   Source_Delhi  Source_Chennai  Source_Mumbai  \n",
       "0             0               0              0  \n",
       "1             0               0              0  "
      ]
     },
     "execution_count": 118,
     "metadata": {},
     "output_type": "execute_result"
    }
   ],
   "source": [
    "data.head(2)"
   ]
  },
  {
   "cell_type": "code",
   "execution_count": 119,
   "id": "6ff838e4",
   "metadata": {},
   "outputs": [
    {
     "data": {
      "text/plain": [
       "Airline                  int64\n",
       "Destination              int64\n",
       "Total_Stops              int64\n",
       "Price                  float64\n",
       "Journey_day              int64\n",
       "Journey_month            int64\n",
       "Dep_Time_hour            int64\n",
       "Dep_Time_minute          int64\n",
       "Arrival_Time_hour        int64\n",
       "Arrival_Time_minute      int64\n",
       "Duration_hour            int64\n",
       "Duration_minutes         int64\n",
       "Source_Banglore          int64\n",
       "Source_Kolkata           int64\n",
       "Source_Delhi             int64\n",
       "Source_Chennai           int64\n",
       "Source_Mumbai            int64\n",
       "dtype: object"
      ]
     },
     "execution_count": 119,
     "metadata": {},
     "output_type": "execute_result"
    }
   ],
   "source": [
    "# Ensure that all the colummnsare in integer format before \n",
    "# feature selection\n",
    "data.dtypes"
   ]
  },
  {
   "cell_type": "code",
   "execution_count": 120,
   "id": "9e59b2ef",
   "metadata": {},
   "outputs": [
    {
     "name": "stdout",
     "output_type": "stream",
     "text": [
      "Requirement already satisfied: scikit-learn in /Users/amitsahani/anaconda3/lib/python3.10/site-packages (1.2.1)\n",
      "\u001b[31mERROR: Could not find a version that satisfies the requirement as (from versions: none)\u001b[0m\u001b[31m\n",
      "\u001b[0m\u001b[31mERROR: No matching distribution found for as\u001b[0m\u001b[31m\n",
      "\u001b[0mNote: you may need to restart the kernel to use updated packages.\n"
     ]
    }
   ],
   "source": [
    "pip install scikit-learn as sklearn"
   ]
  },
  {
   "cell_type": "code",
   "execution_count": 121,
   "id": "baa583b3",
   "metadata": {},
   "outputs": [],
   "source": [
    "\n",
    "from sklearn.feature_selection import mutual_info_regression"
   ]
  },
  {
   "cell_type": "code",
   "execution_count": 122,
   "id": "1493fc36",
   "metadata": {},
   "outputs": [],
   "source": [
    "X = data.drop(['Price'], axis = 1)"
   ]
  },
  {
   "cell_type": "code",
   "execution_count": 123,
   "id": "b1e16ee9",
   "metadata": {},
   "outputs": [],
   "source": [
    "y = data['Price']"
   ]
  },
  {
   "cell_type": "code",
   "execution_count": 124,
   "id": "5bf69ca7",
   "metadata": {},
   "outputs": [
    {
     "data": {
      "text/plain": [
       "Airline                int64\n",
       "Destination            int64\n",
       "Total_Stops            int64\n",
       "Journey_day            int64\n",
       "Journey_month          int64\n",
       "Dep_Time_hour          int64\n",
       "Dep_Time_minute        int64\n",
       "Arrival_Time_hour      int64\n",
       "Arrival_Time_minute    int64\n",
       "Duration_hour          int64\n",
       "Duration_minutes       int64\n",
       "Source_Banglore        int64\n",
       "Source_Kolkata         int64\n",
       "Source_Delhi           int64\n",
       "Source_Chennai         int64\n",
       "Source_Mumbai          int64\n",
       "dtype: object"
      ]
     },
     "execution_count": 124,
     "metadata": {},
     "output_type": "execute_result"
    }
   ],
   "source": [
    "X.dtypes"
   ]
  },
  {
   "cell_type": "code",
   "execution_count": 125,
   "id": "09c01e05",
   "metadata": {},
   "outputs": [
    {
     "data": {
      "text/plain": [
       "array([0.97365858, 1.00978985, 0.79668119, 0.1966447 , 0.23809696,\n",
       "       0.33611665, 0.25574642, 0.3973008 , 0.34780404, 0.00236704,\n",
       "       0.        , 0.38150427, 0.46418657, 0.52146419, 0.1322448 ,\n",
       "       0.20769678])"
      ]
     },
     "execution_count": 125,
     "metadata": {},
     "output_type": "execute_result"
    }
   ],
   "source": [
    "mutual_info_regression(X, y)"
   ]
  },
  {
   "cell_type": "code",
   "execution_count": 126,
   "id": "25f5021c",
   "metadata": {},
   "outputs": [
    {
     "data": {
      "text/html": [
       "<div>\n",
       "<style scoped>\n",
       "    .dataframe tbody tr th:only-of-type {\n",
       "        vertical-align: middle;\n",
       "    }\n",
       "\n",
       "    .dataframe tbody tr th {\n",
       "        vertical-align: top;\n",
       "    }\n",
       "\n",
       "    .dataframe thead th {\n",
       "        text-align: right;\n",
       "    }\n",
       "</style>\n",
       "<table border=\"1\" class=\"dataframe\">\n",
       "  <thead>\n",
       "    <tr style=\"text-align: right;\">\n",
       "      <th></th>\n",
       "      <th>0</th>\n",
       "    </tr>\n",
       "  </thead>\n",
       "  <tbody>\n",
       "    <tr>\n",
       "      <th>Airline</th>\n",
       "      <td>0.974763</td>\n",
       "    </tr>\n",
       "    <tr>\n",
       "      <th>Destination</th>\n",
       "      <td>1.001235</td>\n",
       "    </tr>\n",
       "    <tr>\n",
       "      <th>Total_Stops</th>\n",
       "      <td>0.787992</td>\n",
       "    </tr>\n",
       "    <tr>\n",
       "      <th>Journey_day</th>\n",
       "      <td>0.184566</td>\n",
       "    </tr>\n",
       "    <tr>\n",
       "      <th>Journey_month</th>\n",
       "      <td>0.245628</td>\n",
       "    </tr>\n",
       "    <tr>\n",
       "      <th>Dep_Time_hour</th>\n",
       "      <td>0.338833</td>\n",
       "    </tr>\n",
       "    <tr>\n",
       "      <th>Dep_Time_minute</th>\n",
       "      <td>0.255876</td>\n",
       "    </tr>\n",
       "    <tr>\n",
       "      <th>Arrival_Time_hour</th>\n",
       "      <td>0.395630</td>\n",
       "    </tr>\n",
       "    <tr>\n",
       "      <th>Arrival_Time_minute</th>\n",
       "      <td>0.351071</td>\n",
       "    </tr>\n",
       "    <tr>\n",
       "      <th>Duration_hour</th>\n",
       "      <td>0.000000</td>\n",
       "    </tr>\n",
       "    <tr>\n",
       "      <th>Duration_minutes</th>\n",
       "      <td>0.004812</td>\n",
       "    </tr>\n",
       "    <tr>\n",
       "      <th>Source_Banglore</th>\n",
       "      <td>0.383140</td>\n",
       "    </tr>\n",
       "    <tr>\n",
       "      <th>Source_Kolkata</th>\n",
       "      <td>0.458134</td>\n",
       "    </tr>\n",
       "    <tr>\n",
       "      <th>Source_Delhi</th>\n",
       "      <td>0.526729</td>\n",
       "    </tr>\n",
       "    <tr>\n",
       "      <th>Source_Chennai</th>\n",
       "      <td>0.131455</td>\n",
       "    </tr>\n",
       "    <tr>\n",
       "      <th>Source_Mumbai</th>\n",
       "      <td>0.204992</td>\n",
       "    </tr>\n",
       "  </tbody>\n",
       "</table>\n",
       "</div>"
      ],
      "text/plain": [
       "                            0\n",
       "Airline              0.974763\n",
       "Destination          1.001235\n",
       "Total_Stops          0.787992\n",
       "Journey_day          0.184566\n",
       "Journey_month        0.245628\n",
       "Dep_Time_hour        0.338833\n",
       "Dep_Time_minute      0.255876\n",
       "Arrival_Time_hour    0.395630\n",
       "Arrival_Time_minute  0.351071\n",
       "Duration_hour        0.000000\n",
       "Duration_minutes     0.004812\n",
       "Source_Banglore      0.383140\n",
       "Source_Kolkata       0.458134\n",
       "Source_Delhi         0.526729\n",
       "Source_Chennai       0.131455\n",
       "Source_Mumbai        0.204992"
      ]
     },
     "execution_count": 126,
     "metadata": {},
     "output_type": "execute_result"
    }
   ],
   "source": [
    "# Finding the percentage of dependency of price on features \n",
    "# (depending on two variables) \n",
    "# using mutual_info_regression\n",
    "imp = pd.DataFrame(mutual_info_regression(X, y), index = X.columns)\n",
    "imp"
   ]
  },
  {
   "cell_type": "code",
   "execution_count": 127,
   "id": "8fb2f854",
   "metadata": {},
   "outputs": [],
   "source": [
    "imp.columns = ['importance']"
   ]
  },
  {
   "cell_type": "code",
   "execution_count": 128,
   "id": "57bab230",
   "metadata": {},
   "outputs": [
    {
     "data": {
      "text/html": [
       "<div>\n",
       "<style scoped>\n",
       "    .dataframe tbody tr th:only-of-type {\n",
       "        vertical-align: middle;\n",
       "    }\n",
       "\n",
       "    .dataframe tbody tr th {\n",
       "        vertical-align: top;\n",
       "    }\n",
       "\n",
       "    .dataframe thead th {\n",
       "        text-align: right;\n",
       "    }\n",
       "</style>\n",
       "<table border=\"1\" class=\"dataframe\">\n",
       "  <thead>\n",
       "    <tr style=\"text-align: right;\">\n",
       "      <th></th>\n",
       "      <th>importance</th>\n",
       "    </tr>\n",
       "  </thead>\n",
       "  <tbody>\n",
       "    <tr>\n",
       "      <th>Destination</th>\n",
       "      <td>1.001235</td>\n",
       "    </tr>\n",
       "    <tr>\n",
       "      <th>Airline</th>\n",
       "      <td>0.974763</td>\n",
       "    </tr>\n",
       "    <tr>\n",
       "      <th>Total_Stops</th>\n",
       "      <td>0.787992</td>\n",
       "    </tr>\n",
       "    <tr>\n",
       "      <th>Source_Delhi</th>\n",
       "      <td>0.526729</td>\n",
       "    </tr>\n",
       "    <tr>\n",
       "      <th>Source_Kolkata</th>\n",
       "      <td>0.458134</td>\n",
       "    </tr>\n",
       "    <tr>\n",
       "      <th>Arrival_Time_hour</th>\n",
       "      <td>0.395630</td>\n",
       "    </tr>\n",
       "    <tr>\n",
       "      <th>Source_Banglore</th>\n",
       "      <td>0.383140</td>\n",
       "    </tr>\n",
       "    <tr>\n",
       "      <th>Arrival_Time_minute</th>\n",
       "      <td>0.351071</td>\n",
       "    </tr>\n",
       "    <tr>\n",
       "      <th>Dep_Time_hour</th>\n",
       "      <td>0.338833</td>\n",
       "    </tr>\n",
       "    <tr>\n",
       "      <th>Dep_Time_minute</th>\n",
       "      <td>0.255876</td>\n",
       "    </tr>\n",
       "    <tr>\n",
       "      <th>Journey_month</th>\n",
       "      <td>0.245628</td>\n",
       "    </tr>\n",
       "    <tr>\n",
       "      <th>Source_Mumbai</th>\n",
       "      <td>0.204992</td>\n",
       "    </tr>\n",
       "    <tr>\n",
       "      <th>Journey_day</th>\n",
       "      <td>0.184566</td>\n",
       "    </tr>\n",
       "    <tr>\n",
       "      <th>Source_Chennai</th>\n",
       "      <td>0.131455</td>\n",
       "    </tr>\n",
       "    <tr>\n",
       "      <th>Duration_minutes</th>\n",
       "      <td>0.004812</td>\n",
       "    </tr>\n",
       "    <tr>\n",
       "      <th>Duration_hour</th>\n",
       "      <td>0.000000</td>\n",
       "    </tr>\n",
       "  </tbody>\n",
       "</table>\n",
       "</div>"
      ],
      "text/plain": [
       "                     importance\n",
       "Destination            1.001235\n",
       "Airline                0.974763\n",
       "Total_Stops            0.787992\n",
       "Source_Delhi           0.526729\n",
       "Source_Kolkata         0.458134\n",
       "Arrival_Time_hour      0.395630\n",
       "Source_Banglore        0.383140\n",
       "Arrival_Time_minute    0.351071\n",
       "Dep_Time_hour          0.338833\n",
       "Dep_Time_minute        0.255876\n",
       "Journey_month          0.245628\n",
       "Source_Mumbai          0.204992\n",
       "Journey_day            0.184566\n",
       "Source_Chennai         0.131455\n",
       "Duration_minutes       0.004812\n",
       "Duration_hour          0.000000"
      ]
     },
     "execution_count": 128,
     "metadata": {},
     "output_type": "execute_result"
    }
   ],
   "source": [
    "imp.sort_values(by = 'importance', ascending = False)"
   ]
  },
  {
   "cell_type": "markdown",
   "id": "ecc3382b",
   "metadata": {},
   "source": [
    "### Building a ML model."
   ]
  },
  {
   "cell_type": "code",
   "execution_count": 129,
   "id": "8751c7d6",
   "metadata": {},
   "outputs": [],
   "source": [
    "from sklearn.model_selection import train_test_split"
   ]
  },
  {
   "cell_type": "code",
   "execution_count": 130,
   "id": "01c777be",
   "metadata": {},
   "outputs": [],
   "source": [
    "X_train, X_test, y_train, y_test = train_test_split(X, y, test_size = 0.25, random_state = 42)"
   ]
  },
  {
   "cell_type": "markdown",
   "id": "cd5d780b",
   "metadata": {},
   "source": [
    "## Selecting the best model for the project"
   ]
  },
  {
   "cell_type": "code",
   "execution_count": 131,
   "id": "c8bb825a",
   "metadata": {},
   "outputs": [
    {
     "name": "stdout",
     "output_type": "stream",
     "text": [
      "Requirement already satisfied: xgboost in /Users/amitsahani/anaconda3/lib/python3.10/site-packages (1.7.3)\r\n",
      "Requirement already satisfied: numpy in /Users/amitsahani/anaconda3/lib/python3.10/site-packages (from xgboost) (1.23.5)\r\n",
      "Requirement already satisfied: scipy in /Users/amitsahani/anaconda3/lib/python3.10/site-packages (from xgboost) (1.10.0)\r\n"
     ]
    }
   ],
   "source": [
    "!pip3 install xgboost"
   ]
  },
  {
   "cell_type": "code",
   "execution_count": 132,
   "id": "f940c2f1",
   "metadata": {},
   "outputs": [],
   "source": [
    "#pip install lightgbm\n",
    "#pip3 install xgboost\n",
    "import xgboost"
   ]
  },
  {
   "cell_type": "code",
   "execution_count": 133,
   "id": "77f18acd",
   "metadata": {},
   "outputs": [],
   "source": [
    "from sklearn.linear_model import LinearRegression\n",
    "from sklearn.tree import DecisionTreeRegressor\n",
    "from sklearn.ensemble import RandomForestRegressor\n",
    "import xgboost as xgb\n",
    "#import lightgbm as lgb\n",
    "from sklearn import metrics\n",
    "from sklearn.metrics import mean_squared_error\n",
    "from sklearn.metrics import r2_score\n",
    "from sklearn.metrics import mean_absolute_error\n",
    "from sklearn.model_selection import cross_val_score"
   ]
  },
  {
   "cell_type": "code",
   "execution_count": 134,
   "id": "d6ee4ab8",
   "metadata": {},
   "outputs": [],
   "source": [
    "def mape(y_true, y_predict):\n",
    "    y_true, y_predict = np.array(y_true), np.array(y_predict)\n",
    "    \n",
    "    return np.mean(np.abs(((y_true-y_predict)/y_true))*100)"
   ]
  },
  {
   "cell_type": "code",
   "execution_count": null,
   "id": "42acc0d1",
   "metadata": {},
   "outputs": [],
   "source": []
  },
  {
   "cell_type": "code",
   "execution_count": null,
   "id": "51517afc",
   "metadata": {},
   "outputs": [],
   "source": []
  },
  {
   "cell_type": "code",
   "execution_count": 135,
   "id": "2213d5fe",
   "metadata": {},
   "outputs": [
    {
     "name": "stdout",
     "output_type": "stream",
     "text": [
      "               Model           MSE  R2/CV_score  model_training_score  \\\n",
      "3            XGBoost  3.192565e+06     0.842810              0.926384   \n",
      "2      Random Forest  3.539500e+06     0.806658              0.951341   \n",
      "1      Decision Tree  5.633052e+06     0.705505              0.966473   \n",
      "0  Linear Regression  8.654017e+06     0.572677              0.579300   \n",
      "\n",
      "           MAE         RMSE  \n",
      "3  1155.319826  1786.775126  \n",
      "2  1157.169271  1881.355873  \n",
      "1  1321.443467  2373.405111  \n",
      "0  2064.293406  2941.771099  \n"
     ]
    }
   ],
   "source": [
    "# Train and evaluate multiple models\n",
    "models = [\n",
    "    ('Linear Regression', LinearRegression()),\n",
    "    ('Decision Tree', DecisionTreeRegressor()),\n",
    "    ('Random Forest', RandomForestRegressor()),\n",
    "    ('XGBoost', xgb.XGBRegressor()),\n",
    "    #('LGBM', lgb.LGBMRegressor())\n",
    "]\n",
    "\n",
    "results = []\n",
    "for name, model in models:\n",
    "    # Fit the model to the training data\n",
    "    model.fit(X_train, y_train)\n",
    "    \n",
    "    #Showing the training performance\n",
    "    model_score = model.score(X_train, y_train)\n",
    "    \n",
    "    # Predict on the test data\n",
    "    y_pred = model.predict(X_test)\n",
    "    \n",
    "    # Evaluate the model using mean squared error\n",
    "    mse = mean_squared_error(y_test, y_pred)\n",
    "    \n",
    "    # Evaluate the model using r2_score\n",
    "    R2_score = r2_score(y_test, y_pred)\n",
    "    \n",
    "    # Evaluate the model using Root mean squared error\n",
    "    RMSE = np.sqrt(mean_squared_error(y_test, y_pred))\n",
    "    \n",
    "    # Evaluating the model on mean absolute error\n",
    "    MAE = mean_absolute_error(y_test, y_pred)\n",
    "    \n",
    "    # Evaluating the model using the mean absolute percentage error\n",
    "    #MAPE = mape(y_test, y_pred)\n",
    "    \n",
    "    #Cross-validation score\n",
    "    CV_Score = (cross_val_score(model, X, y, cv=10, scoring=\"r2\").mean())\n",
    "    \n",
    "    # Store the results\n",
    "    results.append((name, mse, CV_Score, model_score, MAE, RMSE))\n",
    "\n",
    "# Compare the results\n",
    "df_results = pd.DataFrame(results, columns=['Model', 'MSE', 'R2/CV_score','model_training_score', 'MAE', 'RMSE'])\n",
    "df_results.sort_values(by='MSE', ascending=True, inplace=True)\n",
    "print(df_results)"
   ]
  },
  {
   "cell_type": "code",
   "execution_count": null,
   "id": "65df63d4",
   "metadata": {},
   "outputs": [],
   "source": []
  },
  {
   "cell_type": "markdown",
   "id": "05c9662e",
   "metadata": {},
   "source": [
    "## As we can see xgboost outperforms all the other models so now we will be hypertuning out best model to enhance the performance of it."
   ]
  },
  {
   "cell_type": "code",
   "execution_count": 136,
   "id": "710b9398",
   "metadata": {},
   "outputs": [],
   "source": [
    "### Using the RandomSearchCV\n",
    "from sklearn.model_selection import RandomizedSearchCV"
   ]
  },
  {
   "cell_type": "code",
   "execution_count": 137,
   "id": "3323f88e",
   "metadata": {},
   "outputs": [
    {
     "name": "stdout",
     "output_type": "stream",
     "text": [
      "Best Parameters: {'subsample': 0.8, 'n_estimators': 450, 'min_child_weight': 3, 'max_depth': 6, 'learning_rate': 0.05, 'gamma': 0.2, 'colsample_bytree': 0.6}\n",
      "Best Score: 0.8333557167449545\n",
      "Model_training_score:  0.9062558591163482\n",
      "Test MSE: 3079036.58016069\n",
      "R2 Score:  0.8418378930593928\n"
     ]
    }
   ],
   "source": [
    "# Define the parameter grid for hyperparameter tuning\n",
    "param_grid = {\n",
    "    'learning_rate': [0.05, 0.1, 0.15, 0.2],\n",
    "    'max_depth': [3, 4, 5, 6, 7],\n",
    "    'min_child_weight': [1, 3, 5, 7],\n",
    "    'gamma': [0, 0.1, 0.2, 0.3, 0.4],\n",
    "    'subsample': [0.5, 0.6, 0.7, 0.8, 0.9],\n",
    "    'colsample_bytree': [0.5, 0.6, 0.7, 0.8, 0.9],\n",
    "    'n_estimators': [50, 100, 150, 200, 250, 300, 350, 400, 450, 500]\n",
    "}\n",
    "\n",
    "# Define the XGBoost model\n",
    "xgb_model = xgb.XGBRegressor(objective='reg:squarederror', random_state=42)\n",
    "\n",
    "# Perform the randomized search for hyperparameter tuning\n",
    "xgb_random = RandomizedSearchCV(estimator=xgb_model, param_distributions=param_grid, n_iter=50, cv=5, random_state=42, n_jobs=-1)\n",
    "xgb_random.fit(X_train, y_train)\n",
    "\n",
    "# Print the best parameters and best score\n",
    "print('Best Parameters:', xgb_random.best_params_)\n",
    "print('Best Score:', xgb_random.best_score_)\n",
    "print('Model_training_score: ', xgb_random.score(X_train, y_train))\n",
    "\n",
    "# Evaluate the best model on the test set\n",
    "y_pred1 = xgb_random.predict(X_test)\n",
    "mse = mean_squared_error(y_test, y_pred1)\n",
    "print('Test MSE:', mse)\n",
    "r2 = metrics.r2_score(y_test, y_pred1)\n",
    "print('R2 Score: ', r2)"
   ]
  },
  {
   "cell_type": "code",
   "execution_count": 138,
   "id": "75db52b3",
   "metadata": {},
   "outputs": [],
   "source": [
    "## Adding the best parameter to the xgboost model\n",
    "xgb_bst_model = xgb.XGBRegressor( subsample= 0.8, n_estimators= 450, min_child_weight= 3, max_depth= 6, learning_rate= 0.05, gamma= 0.2, colsample_bytree= 0.6,objective='reg:squarederror', random_state=42)"
   ]
  },
  {
   "cell_type": "code",
   "execution_count": 139,
   "id": "f21f77a5",
   "metadata": {},
   "outputs": [
    {
     "name": "stdout",
     "output_type": "stream",
     "text": [
      "Training Data Types:\n",
      " Airline                int64\n",
      "Destination            int64\n",
      "Total_Stops            int64\n",
      "Journey_day            int64\n",
      "Journey_month          int64\n",
      "Dep_Time_hour          int64\n",
      "Dep_Time_minute        int64\n",
      "Arrival_Time_hour      int64\n",
      "Arrival_Time_minute    int64\n",
      "Duration_hour          int64\n",
      "Duration_minutes       int64\n",
      "Source_Banglore        int64\n",
      "Source_Kolkata         int64\n",
      "Source_Delhi           int64\n",
      "Source_Chennai         int64\n",
      "Source_Mumbai          int64\n",
      "dtype: object\n",
      "Training Data Columns:\n",
      " Index(['Airline', 'Destination', 'Total_Stops', 'Journey_day', 'Journey_month',\n",
      "       'Dep_Time_hour', 'Dep_Time_minute', 'Arrival_Time_hour',\n",
      "       'Arrival_Time_minute', 'Duration_hour', 'Duration_minutes',\n",
      "       'Source_Banglore', 'Source_Kolkata', 'Source_Delhi', 'Source_Chennai',\n",
      "       'Source_Mumbai'],\n",
      "      dtype='object')\n"
     ]
    }
   ],
   "source": [
    "print(\"Training Data Types:\\n\", X_train.dtypes)\n",
    "print(\"Training Data Columns:\\n\", X_train.columns)"
   ]
  },
  {
   "cell_type": "code",
   "execution_count": 150,
   "id": "1bcca5a0",
   "metadata": {},
   "outputs": [
    {
     "name": "stdout",
     "output_type": "stream",
     "text": [
      "Test MSE: 3079036.58016069\n",
      "R2 Score:  0.8418378930593928\n",
      "RMSER= 1754.718376310196\n"
     ]
    }
   ],
   "source": [
    "model = xgb_bst_model.fit(X_train, y_train)\n",
    "y_pred_bst = xgb_bst_model.predict(X_test)\n",
    "\n",
    "mse_bst = mean_squared_error(y_test, y_pred_bst)\n",
    "print('Test MSE:', mse)\n",
    "r2_bst = metrics.r2_score(y_test, y_pred_bst)\n",
    "print('R2 Score: ', r2_bst)\n",
    "\n",
    "# Evaluate the model using Root mean squared error\n",
    "RMSE_bst = np.sqrt(mean_squared_error(y_test, y_pred_bst))\n",
    "print('RMSER=',RMSE_bst)"
   ]
  },
  {
   "cell_type": "code",
   "execution_count": 141,
   "id": "bf1929c1",
   "metadata": {},
   "outputs": [
    {
     "name": "stdout",
     "output_type": "stream",
     "text": [
      "Best CV score or R2 score:  0.8476979480680642\n"
     ]
    }
   ],
   "source": [
    "CV_Score_bst = (cross_val_score(xgb_bst_model, X, y, cv=10, scoring=\"r2\").mean())\n",
    "print('Best CV score or R2 score: ',CV_Score_bst)"
   ]
  },
  {
   "cell_type": "code",
   "execution_count": 142,
   "id": "2db6653f",
   "metadata": {},
   "outputs": [
    {
     "name": "stdout",
     "output_type": "stream",
     "text": [
      "Training score: 0.9062558591163482\n",
      "Predictions are : [17239.684   6965.0146  8499.467  ...  3588.06    8337.479   6539.194 ]\n",
      "/n\n"
     ]
    }
   ],
   "source": [
    "print('Training score: {}'.format(xgb_bst_model.score(X_train, y_train)))\n",
    "print('Predictions are : {}'.format(y_pred_bst))\n",
    "print('/n')"
   ]
  },
  {
   "cell_type": "code",
   "execution_count": 143,
   "id": "1252129c",
   "metadata": {},
   "outputs": [
    {
     "name": "stdout",
     "output_type": "stream",
     "text": [
      "6075    16655.0\n",
      "3544     4959.0\n",
      "9291     9187.0\n",
      "5032     3858.0\n",
      "2483    12898.0\n",
      "         ...   \n",
      "3022    13555.0\n",
      "8416    12760.0\n",
      "2605     3419.0\n",
      "1392     5797.0\n",
      "8535     6818.0\n",
      "Name: Price, Length: 2671, dtype: float64\n",
      "(2671,)\n"
     ]
    }
   ],
   "source": [
    "print(y_test)\n",
    "print(y_test.shape)"
   ]
  },
  {
   "cell_type": "code",
   "execution_count": 144,
   "id": "2a2c7855",
   "metadata": {},
   "outputs": [
    {
     "name": "stdout",
     "output_type": "stream",
     "text": [
      "[17239.684   6965.0146  8499.467  ...  3588.06    8337.479   6539.194 ]\n",
      "(2671,)\n"
     ]
    }
   ],
   "source": [
    "print(y_pred_bst)\n",
    "print(y_pred_bst.shape)"
   ]
  },
  {
   "cell_type": "markdown",
   "id": "849efd00",
   "metadata": {},
   "source": [
    "## Creating the model on disc space"
   ]
  },
  {
   "cell_type": "code",
   "execution_count": 145,
   "id": "24dc9669",
   "metadata": {},
   "outputs": [],
   "source": [
    "import pickle"
   ]
  },
  {
   "cell_type": "code",
   "execution_count": 146,
   "id": "b81456d3",
   "metadata": {},
   "outputs": [],
   "source": [
    "file = open(r'/Users/amitsahani/WORK_SPACE/PROJECTS/Main/xgb_bst_model1.pkl', 'wb')"
   ]
  },
  {
   "cell_type": "code",
   "execution_count": 147,
   "id": "ec3bb173",
   "metadata": {},
   "outputs": [],
   "source": [
    "pickle.dump(model, file)"
   ]
  },
  {
   "cell_type": "code",
   "execution_count": 148,
   "id": "494b3750",
   "metadata": {},
   "outputs": [],
   "source": [
    "model = open(r'/Users/amitsahani/WORK_SPACE/PROJECTS/Main/xgb_bst_model1.pkl', 'rb')"
   ]
  },
  {
   "cell_type": "code",
   "execution_count": 149,
   "id": "d65a0718",
   "metadata": {},
   "outputs": [
    {
     "ename": "EOFError",
     "evalue": "Ran out of input",
     "output_type": "error",
     "traceback": [
      "\u001b[0;31m---------------------------------------------------------------------------\u001b[0m",
      "\u001b[0;31mEOFError\u001b[0m                                  Traceback (most recent call last)",
      "Cell \u001b[0;32mIn[149], line 1\u001b[0m\n\u001b[0;32m----> 1\u001b[0m boost\u001b[38;5;241m=\u001b[39m\u001b[43mpickle\u001b[49m\u001b[38;5;241;43m.\u001b[39;49m\u001b[43mload\u001b[49m\u001b[43m(\u001b[49m\u001b[43mmodel\u001b[49m\u001b[43m)\u001b[49m\n",
      "\u001b[0;31mEOFError\u001b[0m: Ran out of input"
     ]
    }
   ],
   "source": [
    "boost=pickle.load(model)"
   ]
  },
  {
   "cell_type": "code",
   "execution_count": null,
   "id": "0fb20f7e",
   "metadata": {},
   "outputs": [],
   "source": [
    "boost.predict(X_test)"
   ]
  },
  {
   "cell_type": "code",
   "execution_count": null,
   "id": "1601d039",
   "metadata": {},
   "outputs": [],
   "source": []
  },
  {
   "cell_type": "code",
   "execution_count": null,
   "id": "b304ec85",
   "metadata": {},
   "outputs": [],
   "source": []
  },
  {
   "cell_type": "code",
   "execution_count": null,
   "id": "dce369b8",
   "metadata": {},
   "outputs": [],
   "source": [
    "#filename = \"xgb_bst_model.pkl\"\n",
    "\n",
    "# save model\n",
    "#pickle.dump(xgb_bst_model, open(filename, \"wb\"))\n",
    "\n",
    "# load model\n",
    "#boost = pickle.load(open(filename, \"rb\"))\n"
   ]
  },
  {
   "cell_type": "code",
   "execution_count": null,
   "id": "080eb81e",
   "metadata": {},
   "outputs": [],
   "source": [
    "#loaded_model.predict(X_test)"
   ]
  },
  {
   "cell_type": "code",
   "execution_count": null,
   "id": "443ab465",
   "metadata": {},
   "outputs": [],
   "source": [
    "from sklearn import metrics\n",
    "metrics.r2_score(y_test, boost.predict(X_test))"
   ]
  },
  {
   "cell_type": "code",
   "execution_count": null,
   "id": "6ab8bb3b",
   "metadata": {},
   "outputs": [],
   "source": [
    "## How to automate ml pipeline!"
   ]
  },
  {
   "cell_type": "code",
   "execution_count": null,
   "id": "736aa20c",
   "metadata": {},
   "outputs": [],
   "source": [
    "def predict(ml_model):\n",
    "    \n",
    "    model = ml_model.fit(X_train, y_train)\n",
    "    print('Training score: {}'.format(model.score(X_train, y_train)))\n",
    "    y_prediction = model.predict(X_test)\n",
    "    print('Predictions are : {}'.format(y_prediction))\n",
    "    print('/n')\n",
    "    \n",
    "    from sklearn import metrics\n",
    "    r2_score = metrics.r2_score(y_test, y_prediction)\n",
    "    print('r2_score : {}'.format(r2_score))\n",
    "    print('MSE : ', metrics.mean_squared_error(y_test, y_prediction))\n",
    "    print('MAE : ', metrics.mean_absolute_error(y_test, y_prediction))\n",
    "    print('RMSE : ', np.sqrt(metrics.mean_squared_error(y_test, y_prediction)))\n",
    "    print('MAPE : ', mape(y_test, y_prediction))\n",
    "    sns.distplot(y_test-y_prediction)\n",
    "        "
   ]
  },
  {
   "cell_type": "code",
   "execution_count": null,
   "id": "da293073",
   "metadata": {},
   "outputs": [],
   "source": [
    "predict(RandomForestRegressor())"
   ]
  },
  {
   "cell_type": "code",
   "execution_count": null,
   "id": "1ef6b90c",
   "metadata": {},
   "outputs": [],
   "source": []
  },
  {
   "cell_type": "markdown",
   "id": "21213382",
   "metadata": {},
   "source": [
    "### How to hypertune our model"
   ]
  },
  {
   "cell_type": "code",
   "execution_count": null,
   "id": "8077393c",
   "metadata": {},
   "outputs": [],
   "source": [
    "xgb_bst_model = xgb.XGBRegressor( subsample= 0.8, n_estimators= 450, min_child_weight= 3, max_depth= 6, learning_rate= 0.05, gamma= 0.2, colsample_bytree= 0.6,objective='reg:squarederror', random_state=42)"
   ]
  },
  {
   "cell_type": "code",
   "execution_count": null,
   "id": "50073101",
   "metadata": {},
   "outputs": [],
   "source": [
    "xgb_bst_model.fit(X_train, y_train)"
   ]
  },
  {
   "cell_type": "code",
   "execution_count": null,
   "id": "af97a4c4",
   "metadata": {},
   "outputs": [],
   "source": [
    "pred2 = xgb_bst_model.predict(X_test)"
   ]
  },
  {
   "cell_type": "code",
   "execution_count": null,
   "id": "3e8e0fa1",
   "metadata": {},
   "outputs": [],
   "source": [
    "from sklearn import metrics\n",
    "metrics.r2_score(y_test, pred2)"
   ]
  },
  {
   "cell_type": "code",
   "execution_count": null,
   "id": "715eb063",
   "metadata": {},
   "outputs": [],
   "source": [
    "print(\"Shape of test data:\", X_test.shape)\n",
    "print(\"Column names of test data:\", X_test.columns)"
   ]
  },
  {
   "cell_type": "code",
   "execution_count": null,
   "id": "2c8971d9",
   "metadata": {},
   "outputs": [],
   "source": [
    "print(\"Shape of test data:\", X_train.shape)\n",
    "print(\"Column names of test data:\", X_train.columns)"
   ]
  },
  {
   "cell_type": "code",
   "execution_count": null,
   "id": "0a998bbd",
   "metadata": {},
   "outputs": [],
   "source": [
    "y_train.shape"
   ]
  },
  {
   "cell_type": "code",
   "execution_count": null,
   "id": "3ed9f844",
   "metadata": {},
   "outputs": [],
   "source": [
    "y_test.shape"
   ]
  },
  {
   "cell_type": "code",
   "execution_count": null,
   "id": "ebcaf49e",
   "metadata": {},
   "outputs": [],
   "source": [
    "print(xgb.__version__)"
   ]
  },
  {
   "cell_type": "code",
   "execution_count": null,
   "id": "e48c3b5b",
   "metadata": {},
   "outputs": [],
   "source": [
    "print(\"Training Data Types:\\n\", X_train.dtypes)\n",
    "print(\"Training Data Columns:\\n\", X_train.columns)\n"
   ]
  },
  {
   "cell_type": "code",
   "execution_count": null,
   "id": "d543d5e3",
   "metadata": {},
   "outputs": [],
   "source": [
    "print(\"Training Data Types:\\n\", X_test.dtypes)\n",
    "print(\"Training Data Columns:\\n\", X_test.columns)\n"
   ]
  },
  {
   "cell_type": "code",
   "execution_count": null,
   "id": "9caea5c6",
   "metadata": {},
   "outputs": [],
   "source": []
  }
 ],
 "metadata": {
  "kernelspec": {
   "display_name": "Python 3 (ipykernel)",
   "language": "python",
   "name": "python3"
  },
  "language_info": {
   "codemirror_mode": {
    "name": "ipython",
    "version": 3
   },
   "file_extension": ".py",
   "mimetype": "text/x-python",
   "name": "python",
   "nbconvert_exporter": "python",
   "pygments_lexer": "ipython3",
   "version": "3.10.9"
  },
  "vscode": {
   "interpreter": {
    "hash": "aee8b7b246df8f9039afb4144a1f6fd8d2ca17a180786b69acc140d282b71a49"
   }
  }
 },
 "nbformat": 4,
 "nbformat_minor": 5
}
